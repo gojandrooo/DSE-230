{
 "cells": [
  {
   "cell_type": "markdown",
   "id": "9713b166-38a6-484c-8769-58fb99004b75",
   "metadata": {},
   "source": [
    "## Model Tuning"
   ]
  },
  {
   "cell_type": "code",
   "execution_count": 7,
   "id": "43932275-38f0-4dfe-9d3c-2a3001ec708a",
   "metadata": {},
   "outputs": [],
   "source": [
    "import pandas as pd\n",
    "import numpy as np\n",
    "from sklearn.model_selection import train_test_split\n",
    "from sklearn.preprocessing import StandardScaler\n",
    "from sklearn.metrics import confusion_matrix\n",
    "import matplotlib.pyplot as plt\n",
    "\n",
    "from sklearn.tree import DecisionTreeClassifier\n",
    "# from sklearn.ensemble import AdaBoostClassifier\n",
    "# from sklearn.ensemble import RandomForestClassifier\n",
    "# from sklearn.naive_bayes import GaussianNB\n",
    "# from sklearn.neighbors import KNeighborsClassifier\n",
    "# from sklearn.linear_model import LogisticRegression\n",
    "\n",
    "seed = 23\n",
    "\n",
    "drop_cols = [\n",
    "    'Unnamed: 0'\n",
    "]\n",
    "\n",
    "df_ref = {\n",
    "    'phone': pd.read_csv('data/csv/grouped_phone.csv').drop(columns=drop_cols),\n",
    "    'watch': pd.read_csv('data/csv/grouped_watch.csv').drop(columns=drop_cols)\n",
    "}\n",
    "\n",
    "model_ref = {\n",
    "    'Decision Tree': DecisionTreeClassifier(random_state=seed),    \n",
    "}\n",
    "\n",
    "df_ref['phone']['code'] = df_ref['phone']['code'].astype('category')\n",
    "df_ref['watch']['code'] = df_ref['watch']['code'].astype('category')"
   ]
  },
  {
   "cell_type": "code",
   "execution_count": 2,
   "id": "6d71c5f6-5122-4f74-969b-b4cd1c0917af",
   "metadata": {},
   "outputs": [],
   "source": [
    "socres_agg = {\n",
    "    'device': [],\n",
    "    'DT_score': [],\n",
    "    'features': [],\n",
    "    'model': []\n",
    "}\n",
    "\n",
    "for f in ['cos', 'sum', 'mean', 'all']:\n",
    "    for device, df in df_ref.items():\n",
    "        f_cols = df.columns[1:]\n",
    "        if f != 'all':\n",
    "            f_cols = [c for c in f_cols if f in c]\n",
    "        \n",
    "        X = StandardScaler().fit_transform(df[f_cols])\n",
    "        y = df['code']\n",
    "\n",
    "        X_train, X_test, y_train, y_test = train_test_split(\n",
    "            X, y, test_size=0.25, random_state=seed\n",
    "        )\n",
    "        \n",
    "        for model, clf in model_ref.items():\n",
    "            clf.fit(X_train, y_train)\n",
    "            score = clf.score(X_test, y_test)\n",
    "\n",
    "            socres_agg['features'].append(f)\n",
    "            socres_agg['device'].append(device)\n",
    "            socres_agg['DT_score'].append(score) \n",
    "            socres_agg['model'].append(clf) \n",
    "\n",
    "scores_df = pd.DataFrame(socres_agg)"
   ]
  },
  {
   "cell_type": "code",
   "execution_count": 3,
   "id": "6d58cefe-6288-4242-abce-69a07d24e12e",
   "metadata": {},
   "outputs": [
    {
     "name": "stdout",
     "output_type": "stream",
     "text": [
      "  device  DT_score features                                    model\n",
      "6  phone  0.744604      all  DecisionTreeClassifier(random_state=23)\n",
      "4  phone  0.742124     mean  DecisionTreeClassifier(random_state=23)\n",
      "2  phone  0.685264      sum  DecisionTreeClassifier(random_state=23)\n",
      "7  watch  0.578583      all  DecisionTreeClassifier(random_state=23)\n",
      "5  watch  0.573097     mean  DecisionTreeClassifier(random_state=23)\n",
      "3  watch  0.536448      sum  DecisionTreeClassifier(random_state=23)\n",
      "0  phone  0.211519      cos  DecisionTreeClassifier(random_state=23)\n",
      "1  watch  0.193466      cos  DecisionTreeClassifier(random_state=23)\n"
     ]
    }
   ],
   "source": [
    "scores_df = scores_df.sort_values('DT_score', ascending=False)\n",
    "print(scores_df)"
   ]
  },
  {
   "cell_type": "markdown",
   "id": "bfcf5295-8c8f-4e64-83d7-8d287ebd1c21",
   "metadata": {},
   "source": [
    "## Best Model Confusion Matrix\n"
   ]
  },
  {
   "cell_type": "code",
   "execution_count": 8,
   "id": "9891f4a0-182f-4c24-84ee-88247d8fd821",
   "metadata": {},
   "outputs": [
    {
     "ename": "ValueError",
     "evalue": "Found input variables with inconsistent numbers of samples: [532395, 133099]",
     "output_type": "error",
     "traceback": [
      "\u001b[0;31m---------------------------------------------------------------------------\u001b[0m",
      "\u001b[0;31mValueError\u001b[0m                                Traceback (most recent call last)",
      "Input \u001b[0;32mIn [8]\u001b[0m, in \u001b[0;36m<cell line: 20>\u001b[0;34m()\u001b[0m\n\u001b[1;32m     17\u001b[0m clf\u001b[38;5;241m.\u001b[39mfit(X_train, y_train)\n\u001b[1;32m     19\u001b[0m predictions \u001b[38;5;241m=\u001b[39m clf\u001b[38;5;241m.\u001b[39mpredict(X_test)\n\u001b[0;32m---> 20\u001b[0m results \u001b[38;5;241m=\u001b[39m pd\u001b[38;5;241m.\u001b[39mDataFrame(\u001b[43mconfusion_matrix\u001b[49m\u001b[43m(\u001b[49m\u001b[43my\u001b[49m\u001b[43m,\u001b[49m\u001b[43m \u001b[49m\u001b[43mpredictions\u001b[49m\u001b[43m,\u001b[49m\u001b[43m \u001b[49m\u001b[43mlabels\u001b[49m\u001b[43m \u001b[49m\u001b[38;5;241;43m=\u001b[39;49m\u001b[43m \u001b[49m\u001b[43mactivity_key\u001b[49m\u001b[43m[\u001b[49m\u001b[38;5;124;43m'\u001b[39;49m\u001b[38;5;124;43mcode\u001b[39;49m\u001b[38;5;124;43m'\u001b[39;49m\u001b[43m]\u001b[49m\u001b[43m)\u001b[49m)\n\u001b[1;32m     21\u001b[0m results\u001b[38;5;241m.\u001b[39mcolumns \u001b[38;5;241m=\u001b[39m activity_key[\u001b[38;5;124m'\u001b[39m\u001b[38;5;124mactivity\u001b[39m\u001b[38;5;124m'\u001b[39m]\n\u001b[1;32m     22\u001b[0m results\u001b[38;5;241m.\u001b[39mset_index(activity_key[\u001b[38;5;124m'\u001b[39m\u001b[38;5;124mactivity\u001b[39m\u001b[38;5;124m'\u001b[39m], drop \u001b[38;5;241m=\u001b[39m \u001b[38;5;28;01mFalse\u001b[39;00m, inplace\u001b[38;5;241m=\u001b[39m\u001b[38;5;28;01mTrue\u001b[39;00m) \n",
      "File \u001b[0;32m/usr/local/lib/python3.8/dist-packages/sklearn/metrics/_classification.py:307\u001b[0m, in \u001b[0;36mconfusion_matrix\u001b[0;34m(y_true, y_pred, labels, sample_weight, normalize)\u001b[0m\n\u001b[1;32m    222\u001b[0m \u001b[38;5;28;01mdef\u001b[39;00m \u001b[38;5;21mconfusion_matrix\u001b[39m(\n\u001b[1;32m    223\u001b[0m     y_true, y_pred, \u001b[38;5;241m*\u001b[39m, labels\u001b[38;5;241m=\u001b[39m\u001b[38;5;28;01mNone\u001b[39;00m, sample_weight\u001b[38;5;241m=\u001b[39m\u001b[38;5;28;01mNone\u001b[39;00m, normalize\u001b[38;5;241m=\u001b[39m\u001b[38;5;28;01mNone\u001b[39;00m\n\u001b[1;32m    224\u001b[0m ):\n\u001b[1;32m    225\u001b[0m     \u001b[38;5;124;03m\"\"\"Compute confusion matrix to evaluate the accuracy of a classification.\u001b[39;00m\n\u001b[1;32m    226\u001b[0m \n\u001b[1;32m    227\u001b[0m \u001b[38;5;124;03m    By definition a confusion matrix :math:`C` is such that :math:`C_{i, j}`\u001b[39;00m\n\u001b[0;32m   (...)\u001b[0m\n\u001b[1;32m    305\u001b[0m \u001b[38;5;124;03m    (0, 2, 1, 1)\u001b[39;00m\n\u001b[1;32m    306\u001b[0m \u001b[38;5;124;03m    \"\"\"\u001b[39;00m\n\u001b[0;32m--> 307\u001b[0m     y_type, y_true, y_pred \u001b[38;5;241m=\u001b[39m \u001b[43m_check_targets\u001b[49m\u001b[43m(\u001b[49m\u001b[43my_true\u001b[49m\u001b[43m,\u001b[49m\u001b[43m \u001b[49m\u001b[43my_pred\u001b[49m\u001b[43m)\u001b[49m\n\u001b[1;32m    308\u001b[0m     \u001b[38;5;28;01mif\u001b[39;00m y_type \u001b[38;5;129;01mnot\u001b[39;00m \u001b[38;5;129;01min\u001b[39;00m (\u001b[38;5;124m\"\u001b[39m\u001b[38;5;124mbinary\u001b[39m\u001b[38;5;124m\"\u001b[39m, \u001b[38;5;124m\"\u001b[39m\u001b[38;5;124mmulticlass\u001b[39m\u001b[38;5;124m\"\u001b[39m):\n\u001b[1;32m    309\u001b[0m         \u001b[38;5;28;01mraise\u001b[39;00m \u001b[38;5;167;01mValueError\u001b[39;00m(\u001b[38;5;124m\"\u001b[39m\u001b[38;5;132;01m%s\u001b[39;00m\u001b[38;5;124m is not supported\u001b[39m\u001b[38;5;124m\"\u001b[39m \u001b[38;5;241m%\u001b[39m y_type)\n",
      "File \u001b[0;32m/usr/local/lib/python3.8/dist-packages/sklearn/metrics/_classification.py:84\u001b[0m, in \u001b[0;36m_check_targets\u001b[0;34m(y_true, y_pred)\u001b[0m\n\u001b[1;32m     57\u001b[0m \u001b[38;5;28;01mdef\u001b[39;00m \u001b[38;5;21m_check_targets\u001b[39m(y_true, y_pred):\n\u001b[1;32m     58\u001b[0m     \u001b[38;5;124;03m\"\"\"Check that y_true and y_pred belong to the same classification task.\u001b[39;00m\n\u001b[1;32m     59\u001b[0m \n\u001b[1;32m     60\u001b[0m \u001b[38;5;124;03m    This converts multiclass or binary types to a common shape, and raises a\u001b[39;00m\n\u001b[0;32m   (...)\u001b[0m\n\u001b[1;32m     82\u001b[0m \u001b[38;5;124;03m    y_pred : array or indicator matrix\u001b[39;00m\n\u001b[1;32m     83\u001b[0m \u001b[38;5;124;03m    \"\"\"\u001b[39;00m\n\u001b[0;32m---> 84\u001b[0m     \u001b[43mcheck_consistent_length\u001b[49m\u001b[43m(\u001b[49m\u001b[43my_true\u001b[49m\u001b[43m,\u001b[49m\u001b[43m \u001b[49m\u001b[43my_pred\u001b[49m\u001b[43m)\u001b[49m\n\u001b[1;32m     85\u001b[0m     type_true \u001b[38;5;241m=\u001b[39m type_of_target(y_true)\n\u001b[1;32m     86\u001b[0m     type_pred \u001b[38;5;241m=\u001b[39m type_of_target(y_pred)\n",
      "File \u001b[0;32m/usr/local/lib/python3.8/dist-packages/sklearn/utils/validation.py:332\u001b[0m, in \u001b[0;36mcheck_consistent_length\u001b[0;34m(*arrays)\u001b[0m\n\u001b[1;32m    330\u001b[0m uniques \u001b[38;5;241m=\u001b[39m np\u001b[38;5;241m.\u001b[39munique(lengths)\n\u001b[1;32m    331\u001b[0m \u001b[38;5;28;01mif\u001b[39;00m \u001b[38;5;28mlen\u001b[39m(uniques) \u001b[38;5;241m>\u001b[39m \u001b[38;5;241m1\u001b[39m:\n\u001b[0;32m--> 332\u001b[0m     \u001b[38;5;28;01mraise\u001b[39;00m \u001b[38;5;167;01mValueError\u001b[39;00m(\n\u001b[1;32m    333\u001b[0m         \u001b[38;5;124m\"\u001b[39m\u001b[38;5;124mFound input variables with inconsistent numbers of samples: \u001b[39m\u001b[38;5;132;01m%r\u001b[39;00m\u001b[38;5;124m\"\u001b[39m\n\u001b[1;32m    334\u001b[0m         \u001b[38;5;241m%\u001b[39m [\u001b[38;5;28mint\u001b[39m(l) \u001b[38;5;28;01mfor\u001b[39;00m l \u001b[38;5;129;01min\u001b[39;00m lengths]\n\u001b[1;32m    335\u001b[0m     )\n",
      "\u001b[0;31mValueError\u001b[0m: Found input variables with inconsistent numbers of samples: [532395, 133099]"
     ]
    }
   ],
   "source": [
    "activity_key_url = r\"https://raw.githubusercontent.com/gojandrooo/DSE-230/main/data/activity_key.txt\"\n",
    "\n",
    "#read the activity table from gtihub\n",
    "activity_key = pd.read_csv(activity_key_url, header=None)\n",
    "\n",
    "#split the data into a proper table\n",
    "activity_key = activity_key[0].str.replace(\" \", \"\").str.split(\"=\", expand=True)\n",
    "activity_key.columns = ['activity', 'code']\n",
    "\n",
    "X = StandardScaler().fit_transform(df_ref['phone'][df_ref['phone'].columns[1:]])\n",
    "y = df_ref['phone']['code']\n",
    "\n",
    "X_train, X_test, y_train, y_test = train_test_split(\n",
    "    X, y, test_size=0.25, random_state=seed\n",
    ")\n",
    "clf = DecisionTreeClassifier(random_state=seed)\n",
    "clf.fit(X_train, y_train)\n",
    "\n",
    "predictions = clf.predict(X_test)\n",
    "results = pd.DataFrame(confusion_matrix(y, predictions, labels = activity_key['code']))\n",
    "results.columns = activity_key['activity']\n",
    "results.set_index(activity_key['activity'], drop = False, inplace=True) \n",
    "plt.figure(figsize = (13,8))\n",
    "plt.title('Confusion matrix for phone activity classification')\n",
    "sns.heatmap(results, cmap = 'crest')\n",
    "plt.show()"
   ]
  },
  {
   "cell_type": "code",
   "execution_count": null,
   "id": "dda8ef4d-5969-47b9-a17c-523255db92aa",
   "metadata": {},
   "outputs": [],
   "source": []
  }
 ],
 "metadata": {
  "kernelspec": {
   "display_name": "Python 3 (ipykernel)",
   "language": "python",
   "name": "python3"
  },
  "language_info": {
   "codemirror_mode": {
    "name": "ipython",
    "version": 3
   },
   "file_extension": ".py",
   "mimetype": "text/x-python",
   "name": "python",
   "nbconvert_exporter": "python",
   "pygments_lexer": "ipython3",
   "version": "3.8.10"
  }
 },
 "nbformat": 4,
 "nbformat_minor": 5
}
