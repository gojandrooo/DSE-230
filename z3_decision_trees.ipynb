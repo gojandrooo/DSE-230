{
 "cells": [
  {
   "cell_type": "markdown",
   "id": "9713b166-38a6-484c-8769-58fb99004b75",
   "metadata": {},
   "source": [
    "## Model Tuning"
   ]
  },
  {
   "cell_type": "code",
   "execution_count": 1,
   "id": "43932275-38f0-4dfe-9d3c-2a3001ec708a",
   "metadata": {},
   "outputs": [],
   "source": [
    "import pandas as pd\n",
    "import numpy as np\n",
    "from sklearn.model_selection import train_test_split\n",
    "from sklearn.preprocessing import StandardScaler\n",
    "\n",
    "from sklearn.tree import DecisionTreeClassifier\n",
    "# from sklearn.ensemble import AdaBoostClassifier\n",
    "# from sklearn.ensemble import RandomForestClassifier\n",
    "# from sklearn.naive_bayes import GaussianNB\n",
    "# from sklearn.neighbors import KNeighborsClassifier\n",
    "# from sklearn.linear_model import LogisticRegression\n",
    "\n",
    "seed = 23\n",
    "\n",
    "drop_cols = [\n",
    "    'Unnamed: 0'\n",
    "]\n",
    "\n",
    "df_ref = {\n",
    "    'phone': pd.read_csv('data/csv/grouped_phone.csv').drop(columns=drop_cols),\n",
    "    'watch': pd.read_csv('data/csv/grouped_watch.csv').drop(columns=drop_cols)\n",
    "}\n",
    "\n",
    "model_ref = {\n",
    "    'Decision Tree': DecisionTreeClassifier(random_state=seed),    \n",
    "}\n",
    "\n",
    "df_ref['phone']['code'] = df_ref['phone']['code'].astype('category')\n",
    "df_ref['watch']['code'] = df_ref['watch']['code'].astype('category')"
   ]
  },
  {
   "cell_type": "code",
   "execution_count": 2,
   "id": "6d71c5f6-5122-4f74-969b-b4cd1c0917af",
   "metadata": {},
   "outputs": [],
   "source": [
    "socres_agg = {\n",
    "    'device': [],\n",
    "    'DT_score': [],\n",
    "    'features': [],\n",
    "    'model': []\n",
    "}\n",
    "\n",
    "for f in ['cos', 'sum', 'mean', 'all']:\n",
    "    for device, df in df_ref.items():\n",
    "        f_cols = df.columns[1:]\n",
    "        if f != 'all':\n",
    "            f_cols = [c for c in f_cols if f in c]\n",
    "        \n",
    "        X = StandardScaler().fit_transform(df[f_cols])\n",
    "        y = df['code']\n",
    "\n",
    "        X_train, X_test, y_train, y_test = train_test_split(\n",
    "            X, y, test_size=0.25, random_state=seed\n",
    "        )\n",
    "        \n",
    "        for model, clf in model_ref.items():\n",
    "            clf.fit(X_train, y_train)\n",
    "            score = clf.score(X_test, y_test)\n",
    "\n",
    "            socres_agg['features'].append(f)\n",
    "            socres_agg['device'].append(device)\n",
    "            socres_agg['DT_score'].append(score) \n",
    "            socres_agg['model'].append(clf) \n",
    "\n",
    "scores_df = pd.DataFrame(socres_agg)"
   ]
  },
  {
   "cell_type": "code",
   "execution_count": 3,
   "id": "6d58cefe-6288-4242-abce-69a07d24e12e",
   "metadata": {},
   "outputs": [
    {
     "name": "stdout",
     "output_type": "stream",
     "text": [
      "  device  DT_score features                                    model\n",
      "6  phone  0.744604      all  DecisionTreeClassifier(random_state=23)\n",
      "4  phone  0.742124     mean  DecisionTreeClassifier(random_state=23)\n",
      "2  phone  0.685264      sum  DecisionTreeClassifier(random_state=23)\n",
      "7  watch  0.578583      all  DecisionTreeClassifier(random_state=23)\n",
      "5  watch  0.573097     mean  DecisionTreeClassifier(random_state=23)\n",
      "3  watch  0.536448      sum  DecisionTreeClassifier(random_state=23)\n",
      "0  phone  0.211519      cos  DecisionTreeClassifier(random_state=23)\n",
      "1  watch  0.193466      cos  DecisionTreeClassifier(random_state=23)\n"
     ]
    }
   ],
   "source": [
    "scores_df = scores_df.sort_values('DT_score', ascending=False)\n",
    "print(scores_df)"
   ]
  },
  {
   "cell_type": "code",
   "execution_count": null,
   "id": "9891f4a0-182f-4c24-84ee-88247d8fd821",
   "metadata": {},
   "outputs": [],
   "source": []
  }
 ],
 "metadata": {
  "kernelspec": {
   "display_name": "Python 3 (ipykernel)",
   "language": "python",
   "name": "python3"
  },
  "language_info": {
   "codemirror_mode": {
    "name": "ipython",
    "version": 3
   },
   "file_extension": ".py",
   "mimetype": "text/x-python",
   "name": "python",
   "nbconvert_exporter": "python",
   "pygments_lexer": "ipython3",
   "version": "3.8.10"
  }
 },
 "nbformat": 4,
 "nbformat_minor": 5
}
