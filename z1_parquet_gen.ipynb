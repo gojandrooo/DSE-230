{
 "cells": [
  {
   "cell_type": "markdown",
   "id": "668af732-1f03-4a2e-9b7e-a1850b5d6862",
   "metadata": {},
   "source": [
    "## Converting txt files on github to local parquet\n",
    "\n",
    "##### OBS: Pandas needs the following dependecies:\n",
    "\n",
    "pip install pyarrow\n",
    "\n",
    "pip install fastparquet"
   ]
  },
  {
   "cell_type": "code",
   "execution_count": 1,
   "id": "9394e717-ae0d-4a88-af5a-e2d380e5e726",
   "metadata": {},
   "outputs": [],
   "source": [
    "import pandas as pd\n",
    "import os\n",
    "\n",
    "def convert_raw_to_parquet():\n",
    "    #base URL where raw data can be easly grabbed\n",
    "    base_url = r\"https://raw.githubusercontent.com/gojandrooo/DSE-230/main/data\"\n",
    "\n",
    "    # TOGGLE FOR DEVICE\n",
    "    devices = [\"phone\", \"watch\"]\n",
    "\n",
    "    # TOGGLE FOR MEASUREMENT TYPE\n",
    "    data_types = [\"accel\", \"gyro\"]\n",
    "    \n",
    "    \n",
    "    # create list of local folders\n",
    "    for data_type in data_types:\n",
    "        for device in devices:\n",
    "            os.makedirs(r\"data/parquet/\" + \"/\" + device + \"/\" + data_type, exist_ok=True) \n",
    "    \n",
    "\n",
    "    locs = {}\n",
    "    for data_type in data_types:\n",
    "        for device in devices:\n",
    "            file_locs = []\n",
    "            for user_id in range(1600, 1651):\n",
    "                url = base_url + \"/\" + device + \"/\" + data_type + f\"/data_{user_id}_{data_type}_{device}.txt\"\n",
    "                df = pd.read_csv(url, header=None)\n",
    "                df.columns = ['subject_id', 'code', 'timestamp', 'x', 'y', 'z']\n",
    "                custom_dtypes = {\"subject_id\": \"int16\", \"x\": \"float32\", \"y\": \"float32\", \"z\": \"float32\"}\n",
    "                df['z'] = df['z'].str.replace(\";\", \"\")\n",
    "                #df = df.reset_index(drop = True)\n",
    "                df = df.astype(custom_dtypes)\n",
    "                df['index'] = df['subject_id'].astype('str') + df['code'] + df['timestamp'].astype('str')\n",
    "                fname = r\"data/parquet/\" + \"/\" + device + \"/\" + data_type + f\"/data_{user_id}_{data_type}_{device}.gzip\"\n",
    "                df.to_parquet(fname)\n",
    "                file_locs.append(fname)\n",
    "            locs[device, data_type] = file_locs\n",
    "\n",
    "\n",
    "          "
   ]
  },
  {
   "cell_type": "code",
   "execution_count": 2,
   "id": "be91842a-7f40-4724-9752-b44b83024c82",
   "metadata": {},
   "outputs": [],
   "source": [
    "convert_raw_to_parquet()"
   ]
  },
  {
   "cell_type": "code",
   "execution_count": null,
   "id": "3da241c6-e92d-4729-b7a2-f9c5bbf34cae",
   "metadata": {},
   "outputs": [],
   "source": []
  }
 ],
 "metadata": {
  "kernelspec": {
   "display_name": "Python 3 (ipykernel)",
   "language": "python",
   "name": "python3"
  },
  "language_info": {
   "codemirror_mode": {
    "name": "ipython",
    "version": 3
   },
   "file_extension": ".py",
   "mimetype": "text/x-python",
   "name": "python",
   "nbconvert_exporter": "python",
   "pygments_lexer": "ipython3",
   "version": "3.8.10"
  }
 },
 "nbformat": 4,
 "nbformat_minor": 5
}
