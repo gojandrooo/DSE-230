{
 "cells": [
  {
   "cell_type": "markdown",
   "id": "5d719acd",
   "metadata": {},
   "source": [
    "## Problem definition and data description\n",
    "\n",
    "### Problem Definition\n",
    "Our company (Spotify) would like to dynamically target advertising to non-premium members based on their physical activity while using Spotify services. For example, while a listener is enjoying a podcast and folding their laundry, they would receive an ad for laundry detergent. \n",
    "\n",
    "In addition Spotify also wishes to cater to our premium members by enhancing music recommendation/auto-play options based on a members physical activity. For example, while a user is exercising play up-tempo music, and while a user is eating pasta play Italian classics.\n",
    "\n",
    "### Data Description\n",
    "\n",
    "Accelerometer (measures proper acceleration) and Gyroscope (measures orientation and angular velocity) data was collected from 51 volunteer subjects. Each subject was asked to perform 18 tasks for 3 minutes each. The 18 tasks were a mix of physical activities that could be distinctly identified, such as walking, eating, laundry, etc. We (Spotify) tried to collect data for activities that our members might be doing while using our services. The tasks are listed below.\n",
    "\n",
    "![image info](./images/Activity-Code-Table.png)\n",
    "\n",
    "Each subject had a smartwatch placed on his/her dominant hand and a smartphone in their pocket. The smartphone and smartwatch both had an accelerometer and gyrocope, yielding four total sensors (Phone - Gyroscope, Phone - Accelerometer, Watch - Gyroscope, Watch - Accelerometer).\n",
    "\n",
    "![image info](./images/Human-With-Sensors.png)\n",
    "\n",
    "To accomodate the four sensors, the data is split up into 4 subdirectories, one for each device and sensor. \n",
    "\n",
    "![image info](./images/Sensor-Subdirectories.png)\n",
    "\n",
    "Each directory contains the sensor results for the 51 subject's performance of the 18 activities. The results for each subject are stored in a comma delimited text file. Since there are 51 subjects and 4 different sensors, there are a total of 204 text files. Each text file has the same six attributes: Subject-id, Activity Code, Timestamp, x, y, z\n",
    "\n",
    "![image info](./images/Raw-Data-Description.png)"
   ]
  },
  {
   "cell_type": "markdown",
   "id": "e79df222",
   "metadata": {
    "tags": []
   },
   "source": [
    "## Data preparation process\n",
    "\n",
    "Our data is pretty clean, we don't need to do a lot of preproccessing/data engineering. We really just need to do the ML side, which, lends itself more to the majority of work we need to do with this project. We stuck with dask so we could use the natural integration it has with python, as well as its similiar syntax to Pandas.\n",
    "\n",
    "To clean, prepare and train our data, we decided to go with dask. Our reasoning was that, while our data was large (approx. 15 million records, ~1 gb), it was not large enough to warrant the use of Spark. The image below summarizes our thoughts on the choice between dask vs spark.\n",
    "\n",
    "![image info](./images/Pandas-Dask-Spark-Compare.png)"
   ]
  },
  {
   "cell_type": "markdown",
   "id": "e7ffdaf8",
   "metadata": {},
   "source": [
    "### Importing the data\n",
    "\n",
    "To shortstep the inconvenience of downloading and importing over 200 text files, we decided to host all the data on github for easy access (https://github.com/gojandrooo/DSE-230/tree/main/data). To quickly pull the github data into a pandas dataframe, we defined a function collate_df that will pull in all data matching the parameters given."
   ]
  },
  {
   "cell_type": "markdown",
   "id": "66cebfd8-9efe-40e3-ac5a-f5a8fe804009",
   "metadata": {},
   "source": [
    "Begin by importing all the necessary libraries\n",
    "\n",
    "Running within *Docker* container you will need to install libraries not already included in the image.\n",
    "- comment/uncomment the `%pip install` cell (below)\n",
    "- run the cell, wait for the packages to install, and then restart notebook. \n",
    "- once installs are complete, comment out the cell and run all"
   ]
  },
  {
   "cell_type": "code",
   "execution_count": 1,
   "id": "0147ccf3",
   "metadata": {},
   "outputs": [
    {
     "name": "stdout",
     "output_type": "stream",
     "text": [
      "Requirement already satisfied: plotly in /usr/local/lib/python3.8/dist-packages (5.8.0)\n",
      "Requirement already satisfied: tenacity>=6.2.0 in /usr/local/lib/python3.8/dist-packages (from plotly) (8.0.1)\n",
      "Note: you may need to restart the kernel to use updated packages.\n"
     ]
    }
   ],
   "source": [
    "%pip install plotly"
   ]
  },
  {
   "cell_type": "code",
   "execution_count": 2,
   "id": "18a17cdd",
   "metadata": {},
   "outputs": [],
   "source": [
    "#set a random state seed for replication\n",
    "seed=23"
   ]
  },
  {
   "cell_type": "code",
   "execution_count": 3,
   "id": "b55ef5e0-4738-475f-b0a9-b986a2bed255",
   "metadata": {},
   "outputs": [],
   "source": [
    "# standard libraries\n",
    "import os\n",
    "import pandas as pd\n",
    "import numpy as np\n",
    "#import itertools as it\n",
    "\n",
    "# plotting libraries\n",
    "import matplotlib.pyplot as plt\n",
    "import seaborn as sns\n",
    "import plotly.express as px\n",
    "\n",
    "# distributed libraries\n",
    "import dask\n",
    "import dask.dataframe as dd\n",
    "import dask.array as da\n",
    "from dask.distributed import Client\n",
    "from dask import delayed\n",
    "import joblib\n",
    "\n",
    "# model processing libraries\n",
    "#import dask_distance\n",
    "from dask_ml.model_selection import train_test_split\n",
    "from dask_ml.preprocessing import StandardScaler\n",
    "#from sklearn.model_selection import GridSearchCV\n",
    "import dask_ml.model_selection as dcv\n",
    "\n",
    "# models\n",
    "# will need to update these with the models we use\n",
    "from sklearn.svm import SVC\n",
    "from sklearn.tree import DecisionTreeClassifier\n",
    "from sklearn.cluster import KMeans\n",
    "\n",
    "import ssl\n",
    "# needed to request files from GitHub when running within docker container\n",
    "ssl._create_default_https_context = ssl._create_unverified_context"
   ]
  },
  {
   "cell_type": "code",
   "execution_count": 4,
   "id": "31b49c17",
   "metadata": {},
   "outputs": [
    {
     "data": {
      "text/plain": [
       "{'ssl_context': None, 'require_encryption': False, 'extra_conn_args': {}}"
      ]
     },
     "execution_count": 4,
     "metadata": {},
     "output_type": "execute_result"
    }
   ],
   "source": [
    "# Start and connect to a local dask.distributed client\n",
    "client = Client(processes=True) # use all 4 cores\n",
    "client.connection_args"
   ]
  },
  {
   "cell_type": "markdown",
   "id": "1df2fa91-a025-45e3-8a66-e26a11ab5ead",
   "metadata": {},
   "source": [
    "Get data from github and prep files for analysis"
   ]
  },
  {
   "cell_type": "code",
   "execution_count": 5,
   "id": "11a388e6-a2ad-444b-86c0-e44fcbaa346e",
   "metadata": {
    "tags": []
   },
   "outputs": [],
   "source": [
    "# key for understanding which activity is being measured in a record\n",
    "activity_key_url = r\"https://raw.githubusercontent.com/gojandrooo/DSE-230/main/data/activity_key.txt\"\n",
    "\n",
    "#read the activity table from gtihub\n",
    "activity_key = pd.read_csv(activity_key_url, header=None)\n",
    "\n",
    "#split the data into a proper table\n",
    "activity_key = activity_key[0].str.replace(\" \", \"\").str.split(\"=\", expand=True)\n",
    "activity_key.columns = ['activity', 'code']"
   ]
  },
  {
   "cell_type": "code",
   "execution_count": 6,
   "id": "2220f631-cb75-4821-9047-17485d0e8ec2",
   "metadata": {},
   "outputs": [],
   "source": [
    "# #do not run unless you need cleaned parquet files locally\n",
    "# #cleaned parquet files should already be located on github\n",
    "\n",
    "# #below function takes the raw data on githup and converts to parquet files\n",
    "# #then stores the files on local machine\n",
    "# '''\n",
    "# def convert_raw_to_parquet():\n",
    "#     #base URL where raw data can be easly grabbed\n",
    "#     base_url = r\"https://raw.githubusercontent.com/gojandrooo/DSE-230/main/data\"\n",
    "\n",
    "#     # TOGGLE FOR DEVICE\n",
    "#     devices = [\"phone\", \"watch\"]\n",
    "\n",
    "#     # TOGGLE FOR MEASUREMENT TYPE\n",
    "#     data_types = [\"accel\", \"gyro\"]\n",
    "    \n",
    "    \n",
    "#     # create list of local folders\n",
    "#     for data_type in data_types:\n",
    "#         for device in devices:\n",
    "#             os.makedirs(r\"data/parquet/\" + \"/\" + device + \"/\" + data_type, exist_ok=True) \n",
    "    \n",
    "\n",
    "#     locs = {}\n",
    "#     for data_type in data_types:\n",
    "#         for device in devices:\n",
    "#             file_locs = []\n",
    "#             for user_id in range(1600, 1651):\n",
    "#                 url = base_url + \"/\" + device + \"/\" + data_type + f\"/data_{user_id}_{data_type}_{device}.txt\"\n",
    "#                 df = pd.read_csv(url, header=None)\n",
    "#                 df.columns = ['subject_id', 'code', 'timestamp', 'x', 'y', 'z']\n",
    "#                 custom_dtypes = {\"subject_id\": \"int16\", \"x\": \"float32\", \"y\": \"float32\", \"z\": \"float32\"}\n",
    "#                 df['z'] = df['z'].str.replace(\";\", \"\")\n",
    "#                 #df = df.reset_index(drop = True)\n",
    "#                 df = df.astype(custom_dtypes)\n",
    "#                 df['index'] = df['subject_id'].astype('str') + df['code'] + df['timestamp'].astype('str')\n",
    "#                 fname = r\"data/parquet/\" + \"/\" + device + \"/\" + data_type + f\"/data_{user_id}_{data_type}_{device}.gzip\"\n",
    "#                 df.to_parquet(fname)\n",
    "#                 file_locs.append(fname)\n",
    "#             locs[device, data_type] = file_locs\n",
    "# '''"
   ]
  },
  {
   "cell_type": "code",
   "execution_count": 7,
   "id": "de3c4388-9f67-4b01-acbc-4e218c5c88fc",
   "metadata": {},
   "outputs": [],
   "source": [
    "# NOTE\n",
    "# this still only grabs three spreadsheets, update for production\n",
    "\n",
    "# dask_df = dd.read_parquet('./data/parquet/phone/accel/data_1600_accel_phone.gzip', index = 'index')\n",
    "def collate_dask_df(device, data_type):\n",
    "\n",
    "    '''\n",
    "    returns a single dask dataframe from multiple text files hosted on github\n",
    "    \n",
    "    device: [\"phone\", \"watch\"]\n",
    "    \n",
    "    data_type: [\"accel\", \"gyro\"]\n",
    "    ----------------------------\n",
    "    '''\n",
    "    \n",
    "    #base_url = r\"https://raw.githubusercontent.com/gojandrooo/DSE-230/main/data\"\n",
    "    # base_url = r\"https://github.com/garrett391/DSE-230/blob/main/data/parquet\"\n",
    "    #base_url = r\"https://github.com/gojandrooo/DSE-230/blob/main/data/parquet\"\n",
    "    base_url = './data/parquet'\n",
    "\n",
    "    # TOGGLE FOR DEVICE\n",
    "    device = device\n",
    "\n",
    "    # TOGGLE FOR MEASUREMENT TYPE\n",
    "    data_type = data_type\n",
    "    \n",
    "    # create list of all file names\n",
    "    #file_names = [f\"/data_{user_id}_{data_type}_{device}.txt\" for user_id in range(1600, 1651)]\n",
    "    # file_names = [f\"/data_{user_id}_{data_type}_{device}.gzip?raw=true\" for user_id in range(1600, 1651)]\n",
    "    file_names = [f\"/data_{user_id}_{data_type}_{device}.gzip\" for user_id in range(1600, 1651)]\n",
    "\n",
    "    # create urls of all files\n",
    "    loop_urls = [base_url + \"/\" + device + \"/\" + data_type + file_name for file_name in file_names]\n",
    "    \n",
    "    #setting datatypes to save memory\n",
    "    \n",
    "    #dask_df = dd.read_parquet(loop_urls[:3], index = 'index') # for dev this is only the first three files\n",
    "    dask_df = dd.read_parquet(loop_urls, index = 'index') # PRODUCTION, all of the files\n",
    "\n",
    "    #dask_df = dd.multi.concat([pd.read_csv(url, header=None) for url in loop_urls[:3]]) # for dev this is only the first three files\n",
    "    #dask_df = dd.multi.concat([pd.read_csv(url, header=None) for url in loop_urls]) # PRODUCTION, all of the files\n",
    "    \n",
    "    #dask_df.columns = ['subject_id', 'code', 'timestamp', 'x', 'y', 'z']\n",
    "    #dask_df['z'] = dask_df['z'].str.replace(\";\", \"\").astype('float64')\n",
    "    #dask_df = dask_df.reset_index(drop = True)\n",
    "    \n",
    "    return dask_df # dask df output"
   ]
  },
  {
   "cell_type": "markdown",
   "id": "cffc71f2-74e5-4a7e-83bb-a0364b16e560",
   "metadata": {},
   "source": [
    "### Importing the data"
   ]
  },
  {
   "cell_type": "code",
   "execution_count": 8,
   "id": "aef5c452-738b-4c9b-afe6-0c7ccf7bcdf6",
   "metadata": {},
   "outputs": [
    {
     "data": {
      "text/html": [
       "<div>\n",
       "    <div style=\"width: 24px; height: 24px; background-color: #e1e1e1; border: 3px solid #9D9D9D; border-radius: 5px; position: absolute;\"> </div>\n",
       "    <div style=\"margin-left: 48px;\">\n",
       "        <h3 style=\"margin-bottom: 0px;\">Client</h3>\n",
       "        <p style=\"color: #9D9D9D; margin-bottom: 0px;\">Client-acfc97f8-dbfb-11ec-87d4-0242ac110002</p>\n",
       "        <table style=\"width: 100%; text-align: left;\">\n",
       "\n",
       "        <tr>\n",
       "        \n",
       "            <td style=\"text-align: left;\"><strong>Connection method:</strong> Cluster object</td>\n",
       "            <td style=\"text-align: left;\"><strong>Cluster type:</strong> distributed.LocalCluster</td>\n",
       "        \n",
       "        </tr>\n",
       "\n",
       "        \n",
       "            <tr>\n",
       "                <td style=\"text-align: left;\">\n",
       "                    <strong>Dashboard: </strong> <a href=\"http://127.0.0.1:8787/status\" target=\"_blank\">http://127.0.0.1:8787/status</a>\n",
       "                </td>\n",
       "                <td style=\"text-align: left;\"></td>\n",
       "            </tr>\n",
       "        \n",
       "\n",
       "        </table>\n",
       "\n",
       "        \n",
       "            <details>\n",
       "            <summary style=\"margin-bottom: 20px;\"><h3 style=\"display: inline;\">Cluster Info</h3></summary>\n",
       "            <div class=\"jp-RenderedHTMLCommon jp-RenderedHTML jp-mod-trusted jp-OutputArea-output\">\n",
       "    <div style=\"width: 24px; height: 24px; background-color: #e1e1e1; border: 3px solid #9D9D9D; border-radius: 5px; position: absolute;\">\n",
       "    </div>\n",
       "    <div style=\"margin-left: 48px;\">\n",
       "        <h3 style=\"margin-bottom: 0px; margin-top: 0px;\">LocalCluster</h3>\n",
       "        <p style=\"color: #9D9D9D; margin-bottom: 0px;\">a731ad4a</p>\n",
       "        <table style=\"width: 100%; text-align: left;\">\n",
       "            <tr>\n",
       "                <td style=\"text-align: left;\">\n",
       "                    <strong>Dashboard:</strong> <a href=\"http://127.0.0.1:8787/status\" target=\"_blank\">http://127.0.0.1:8787/status</a>\n",
       "                </td>\n",
       "                <td style=\"text-align: left;\">\n",
       "                    <strong>Workers:</strong> 4\n",
       "                </td>\n",
       "            </tr>\n",
       "            <tr>\n",
       "                <td style=\"text-align: left;\">\n",
       "                    <strong>Total threads:</strong> 8\n",
       "                </td>\n",
       "                <td style=\"text-align: left;\">\n",
       "                    <strong>Total memory:</strong> 24.91 GiB\n",
       "                </td>\n",
       "            </tr>\n",
       "            \n",
       "            <tr>\n",
       "    <td style=\"text-align: left;\"><strong>Status:</strong> running</td>\n",
       "    <td style=\"text-align: left;\"><strong>Using processes:</strong> True</td>\n",
       "</tr>\n",
       "\n",
       "            \n",
       "        </table>\n",
       "\n",
       "        <details>\n",
       "            <summary style=\"margin-bottom: 20px;\">\n",
       "                <h3 style=\"display: inline;\">Scheduler Info</h3>\n",
       "            </summary>\n",
       "\n",
       "            <div style=\"\">\n",
       "    <div>\n",
       "        <div style=\"width: 24px; height: 24px; background-color: #FFF7E5; border: 3px solid #FF6132; border-radius: 5px; position: absolute;\"> </div>\n",
       "        <div style=\"margin-left: 48px;\">\n",
       "            <h3 style=\"margin-bottom: 0px;\">Scheduler</h3>\n",
       "            <p style=\"color: #9D9D9D; margin-bottom: 0px;\">Scheduler-c2baecbd-c153-42ff-b2c0-06f57bfe8694</p>\n",
       "            <table style=\"width: 100%; text-align: left;\">\n",
       "                <tr>\n",
       "                    <td style=\"text-align: left;\">\n",
       "                        <strong>Comm:</strong> tcp://127.0.0.1:42091\n",
       "                    </td>\n",
       "                    <td style=\"text-align: left;\">\n",
       "                        <strong>Workers:</strong> 4\n",
       "                    </td>\n",
       "                </tr>\n",
       "                <tr>\n",
       "                    <td style=\"text-align: left;\">\n",
       "                        <strong>Dashboard:</strong> <a href=\"http://127.0.0.1:8787/status\" target=\"_blank\">http://127.0.0.1:8787/status</a>\n",
       "                    </td>\n",
       "                    <td style=\"text-align: left;\">\n",
       "                        <strong>Total threads:</strong> 8\n",
       "                    </td>\n",
       "                </tr>\n",
       "                <tr>\n",
       "                    <td style=\"text-align: left;\">\n",
       "                        <strong>Started:</strong> Just now\n",
       "                    </td>\n",
       "                    <td style=\"text-align: left;\">\n",
       "                        <strong>Total memory:</strong> 24.91 GiB\n",
       "                    </td>\n",
       "                </tr>\n",
       "            </table>\n",
       "        </div>\n",
       "    </div>\n",
       "\n",
       "    <details style=\"margin-left: 48px;\">\n",
       "        <summary style=\"margin-bottom: 20px;\">\n",
       "            <h3 style=\"display: inline;\">Workers</h3>\n",
       "        </summary>\n",
       "\n",
       "        \n",
       "        <div style=\"margin-bottom: 20px;\">\n",
       "            <div style=\"width: 24px; height: 24px; background-color: #DBF5FF; border: 3px solid #4CC9FF; border-radius: 5px; position: absolute;\"> </div>\n",
       "            <div style=\"margin-left: 48px;\">\n",
       "            <details>\n",
       "                <summary>\n",
       "                    <h4 style=\"margin-bottom: 0px; display: inline;\">Worker: 0</h4>\n",
       "                </summary>\n",
       "                <table style=\"width: 100%; text-align: left;\">\n",
       "                    <tr>\n",
       "                        <td style=\"text-align: left;\">\n",
       "                            <strong>Comm: </strong> tcp://127.0.0.1:46677\n",
       "                        </td>\n",
       "                        <td style=\"text-align: left;\">\n",
       "                            <strong>Total threads: </strong> 2\n",
       "                        </td>\n",
       "                    </tr>\n",
       "                    <tr>\n",
       "                        <td style=\"text-align: left;\">\n",
       "                            <strong>Dashboard: </strong> <a href=\"http://127.0.0.1:41161/status\" target=\"_blank\">http://127.0.0.1:41161/status</a>\n",
       "                        </td>\n",
       "                        <td style=\"text-align: left;\">\n",
       "                            <strong>Memory: </strong> 6.23 GiB\n",
       "                        </td>\n",
       "                    </tr>\n",
       "                    <tr>\n",
       "                        <td style=\"text-align: left;\">\n",
       "                            <strong>Nanny: </strong> tcp://127.0.0.1:39395\n",
       "                        </td>\n",
       "                        <td style=\"text-align: left;\"></td>\n",
       "                    </tr>\n",
       "                    <tr>\n",
       "                        <td colspan=\"2\" style=\"text-align: left;\">\n",
       "                            <strong>Local directory: </strong> /home/work/dask-worker-space/worker-nvm_ji0_\n",
       "                        </td>\n",
       "                    </tr>\n",
       "\n",
       "                    \n",
       "\n",
       "                    \n",
       "\n",
       "                </table>\n",
       "            </details>\n",
       "            </div>\n",
       "        </div>\n",
       "        \n",
       "        <div style=\"margin-bottom: 20px;\">\n",
       "            <div style=\"width: 24px; height: 24px; background-color: #DBF5FF; border: 3px solid #4CC9FF; border-radius: 5px; position: absolute;\"> </div>\n",
       "            <div style=\"margin-left: 48px;\">\n",
       "            <details>\n",
       "                <summary>\n",
       "                    <h4 style=\"margin-bottom: 0px; display: inline;\">Worker: 1</h4>\n",
       "                </summary>\n",
       "                <table style=\"width: 100%; text-align: left;\">\n",
       "                    <tr>\n",
       "                        <td style=\"text-align: left;\">\n",
       "                            <strong>Comm: </strong> tcp://127.0.0.1:37403\n",
       "                        </td>\n",
       "                        <td style=\"text-align: left;\">\n",
       "                            <strong>Total threads: </strong> 2\n",
       "                        </td>\n",
       "                    </tr>\n",
       "                    <tr>\n",
       "                        <td style=\"text-align: left;\">\n",
       "                            <strong>Dashboard: </strong> <a href=\"http://127.0.0.1:41793/status\" target=\"_blank\">http://127.0.0.1:41793/status</a>\n",
       "                        </td>\n",
       "                        <td style=\"text-align: left;\">\n",
       "                            <strong>Memory: </strong> 6.23 GiB\n",
       "                        </td>\n",
       "                    </tr>\n",
       "                    <tr>\n",
       "                        <td style=\"text-align: left;\">\n",
       "                            <strong>Nanny: </strong> tcp://127.0.0.1:38941\n",
       "                        </td>\n",
       "                        <td style=\"text-align: left;\"></td>\n",
       "                    </tr>\n",
       "                    <tr>\n",
       "                        <td colspan=\"2\" style=\"text-align: left;\">\n",
       "                            <strong>Local directory: </strong> /home/work/dask-worker-space/worker-0cwfye60\n",
       "                        </td>\n",
       "                    </tr>\n",
       "\n",
       "                    \n",
       "\n",
       "                    \n",
       "\n",
       "                </table>\n",
       "            </details>\n",
       "            </div>\n",
       "        </div>\n",
       "        \n",
       "        <div style=\"margin-bottom: 20px;\">\n",
       "            <div style=\"width: 24px; height: 24px; background-color: #DBF5FF; border: 3px solid #4CC9FF; border-radius: 5px; position: absolute;\"> </div>\n",
       "            <div style=\"margin-left: 48px;\">\n",
       "            <details>\n",
       "                <summary>\n",
       "                    <h4 style=\"margin-bottom: 0px; display: inline;\">Worker: 2</h4>\n",
       "                </summary>\n",
       "                <table style=\"width: 100%; text-align: left;\">\n",
       "                    <tr>\n",
       "                        <td style=\"text-align: left;\">\n",
       "                            <strong>Comm: </strong> tcp://127.0.0.1:37143\n",
       "                        </td>\n",
       "                        <td style=\"text-align: left;\">\n",
       "                            <strong>Total threads: </strong> 2\n",
       "                        </td>\n",
       "                    </tr>\n",
       "                    <tr>\n",
       "                        <td style=\"text-align: left;\">\n",
       "                            <strong>Dashboard: </strong> <a href=\"http://127.0.0.1:41047/status\" target=\"_blank\">http://127.0.0.1:41047/status</a>\n",
       "                        </td>\n",
       "                        <td style=\"text-align: left;\">\n",
       "                            <strong>Memory: </strong> 6.23 GiB\n",
       "                        </td>\n",
       "                    </tr>\n",
       "                    <tr>\n",
       "                        <td style=\"text-align: left;\">\n",
       "                            <strong>Nanny: </strong> tcp://127.0.0.1:37175\n",
       "                        </td>\n",
       "                        <td style=\"text-align: left;\"></td>\n",
       "                    </tr>\n",
       "                    <tr>\n",
       "                        <td colspan=\"2\" style=\"text-align: left;\">\n",
       "                            <strong>Local directory: </strong> /home/work/dask-worker-space/worker-g91hg88s\n",
       "                        </td>\n",
       "                    </tr>\n",
       "\n",
       "                    \n",
       "\n",
       "                    \n",
       "\n",
       "                </table>\n",
       "            </details>\n",
       "            </div>\n",
       "        </div>\n",
       "        \n",
       "        <div style=\"margin-bottom: 20px;\">\n",
       "            <div style=\"width: 24px; height: 24px; background-color: #DBF5FF; border: 3px solid #4CC9FF; border-radius: 5px; position: absolute;\"> </div>\n",
       "            <div style=\"margin-left: 48px;\">\n",
       "            <details>\n",
       "                <summary>\n",
       "                    <h4 style=\"margin-bottom: 0px; display: inline;\">Worker: 3</h4>\n",
       "                </summary>\n",
       "                <table style=\"width: 100%; text-align: left;\">\n",
       "                    <tr>\n",
       "                        <td style=\"text-align: left;\">\n",
       "                            <strong>Comm: </strong> tcp://127.0.0.1:42219\n",
       "                        </td>\n",
       "                        <td style=\"text-align: left;\">\n",
       "                            <strong>Total threads: </strong> 2\n",
       "                        </td>\n",
       "                    </tr>\n",
       "                    <tr>\n",
       "                        <td style=\"text-align: left;\">\n",
       "                            <strong>Dashboard: </strong> <a href=\"http://127.0.0.1:34039/status\" target=\"_blank\">http://127.0.0.1:34039/status</a>\n",
       "                        </td>\n",
       "                        <td style=\"text-align: left;\">\n",
       "                            <strong>Memory: </strong> 6.23 GiB\n",
       "                        </td>\n",
       "                    </tr>\n",
       "                    <tr>\n",
       "                        <td style=\"text-align: left;\">\n",
       "                            <strong>Nanny: </strong> tcp://127.0.0.1:46507\n",
       "                        </td>\n",
       "                        <td style=\"text-align: left;\"></td>\n",
       "                    </tr>\n",
       "                    <tr>\n",
       "                        <td colspan=\"2\" style=\"text-align: left;\">\n",
       "                            <strong>Local directory: </strong> /home/work/dask-worker-space/worker-xa6ybjtz\n",
       "                        </td>\n",
       "                    </tr>\n",
       "\n",
       "                    \n",
       "\n",
       "                    \n",
       "\n",
       "                </table>\n",
       "            </details>\n",
       "            </div>\n",
       "        </div>\n",
       "        \n",
       "\n",
       "    </details>\n",
       "</div>\n",
       "\n",
       "        </details>\n",
       "    </div>\n",
       "</div>\n",
       "            </details>\n",
       "        \n",
       "\n",
       "    </div>\n",
       "</div>"
      ],
      "text/plain": [
       "<Client: 'tcp://127.0.0.1:42091' processes=4 threads=8, memory=24.91 GiB>"
      ]
     },
     "execution_count": 8,
     "metadata": {},
     "output_type": "execute_result"
    }
   ],
   "source": [
    "client"
   ]
  },
  {
   "cell_type": "code",
   "execution_count": 9,
   "id": "b003b22a-b2f1-4eaa-b64d-d3c85bfbd4af",
   "metadata": {},
   "outputs": [
    {
     "name": "stdout",
     "output_type": "stream",
     "text": [
      "            dd     rows  columns\n",
      "0  phone_accel  4804403        6\n",
      "1   phone_gyro  3608635        6\n",
      "2  watch_accel  3777046        6\n",
      "3   watch_gyro  3440342        6\n",
      "CPU times: user 1.85 s, sys: 530 ms, total: 2.38 s\n",
      "Wall time: 7.26 s\n"
     ]
    }
   ],
   "source": [
    "%%time\n",
    "dd_ref = {\n",
    "    'phone_accel': collate_dask_df(\"phone\", \"accel\"),\n",
    "    'phone_gyro': collate_dask_df(\"phone\", \"gyro\"),\n",
    "    'watch_accel': collate_dask_df(\"watch\", \"accel\"),\n",
    "    'watch_gyro': collate_dask_df(\"watch\", \"gyro\")\n",
    "}\n",
    "\n",
    "print(pd.DataFrame({\n",
    "    'dd': [k for k in dd_ref.keys()],\n",
    "    'rows': [dd.shape[0].compute() for dd in dd_ref.values()],\n",
    "    'columns': [dd.shape[1] for dd in dd_ref.values()]\n",
    "}))"
   ]
  },
  {
   "cell_type": "code",
   "execution_count": 10,
   "id": "d6d12b9a-c390-4525-bcef-61a1d32c4a55",
   "metadata": {},
   "outputs": [
    {
     "name": "stdout",
     "output_type": "stream",
     "text": [
      "            dd     rows  columns\n",
      "0  phone_accel  4804403       12\n",
      "1   phone_gyro  3608635       12\n",
      "2  watch_accel  3777046       12\n",
      "3   watch_gyro  3440342       12\n",
      "CPU times: user 6.2 s, sys: 535 ms, total: 6.74 s\n",
      "Wall time: 9.52 s\n"
     ]
    }
   ],
   "source": [
    "%%time\n",
    "for k, v_dd in dd_ref.items():\n",
    "    # create linear combinations of the axes\n",
    "    dd_ref[k] = v_dd.assign(\n",
    "        xy = v_dd['x'] * v_dd['y'],\n",
    "        yz = v_dd['y'] * v_dd['z'],\n",
    "        xz = v_dd['x'] * v_dd['z'],\n",
    "        x2 = v_dd['x']**2,\n",
    "        y2 = v_dd['y']**2,\n",
    "        z2 = v_dd['z']**2\n",
    "    )\n",
    "    \n",
    "print(pd.DataFrame({\n",
    "    'dd': [k for k in dd_ref.keys()],\n",
    "    'rows': [dd.shape[0].compute() for dd in dd_ref.values()],\n",
    "    'columns': [dd.shape[1] for dd in dd_ref.values()]\n",
    "}))"
   ]
  },
  {
   "cell_type": "markdown",
   "id": "7ba34c0c-700d-4952-b4d9-42bd0a843572",
   "metadata": {
    "tags": []
   },
   "source": [
    "### Merge files based on index"
   ]
  },
  {
   "cell_type": "code",
   "execution_count": 11,
   "id": "4411dbd9-cbb4-4bad-a8b6-741289f9ea51",
   "metadata": {},
   "outputs": [],
   "source": [
    "feat_cols = ['x', 'y', 'z', 'xy', 'yz', 'xz', 'x2', 'y2', 'z2']\n",
    "\n",
    "def merge_dfs(df1, df2, suffixes):\n",
    "    df1partitions = df1.npartitions\n",
    "    df2partitions = df2.npartitions\n",
    "    partitions = min(df1partitions, df2partitions)\n",
    "    merged =  dd.merge(\n",
    "        df1, df2[feat_cols], how='inner', left_index=True, right_index=True, suffixes=suffixes\n",
    "    ).reset_index(drop = True)\n",
    "    return dd.from_pandas(merged.compute(), npartitions = partitions)\n",
    "\n",
    "shape_ref = {}"
   ]
  },
  {
   "cell_type": "code",
   "execution_count": 12,
   "id": "2255eba3-b992-439a-abe9-94ef389ba5b2",
   "metadata": {},
   "outputs": [
    {
     "name": "stdout",
     "output_type": "stream",
     "text": [
      "CPU times: user 7.25 s, sys: 1.13 s, total: 8.38 s\n",
      "Wall time: 21.3 s\n"
     ]
    }
   ],
   "source": [
    "%%time\n",
    "phone_df = merge_dfs(dd_ref['phone_accel'], dd_ref['phone_gyro'][feat_cols], ('_phone_accel', '_phone_gyro'))\n",
    "#shape_ref['phone_df'] = phone_df.shape[0].compute()\n",
    "shape_ref['phone_df'] = len(phone_df)\n",
    "client.cancel(dd_ref['phone_accel'])\n",
    "client.cancel(dd_ref['phone_gyro'])"
   ]
  },
  {
   "cell_type": "code",
   "execution_count": 13,
   "id": "bf3c938e-a10e-4af4-9681-6384efbe5fec",
   "metadata": {},
   "outputs": [
    {
     "name": "stdout",
     "output_type": "stream",
     "text": [
      "CPU times: user 7.17 s, sys: 1.28 s, total: 8.45 s\n",
      "Wall time: 18.4 s\n"
     ]
    }
   ],
   "source": [
    "%%time\n",
    "watch_df = merge_dfs(dd_ref['watch_accel'], dd_ref['watch_gyro'][feat_cols], ('_watch_accel', '_watch_gyro'))\n",
    "#shape_ref['watch_df'] = watch_df.shape[0].compute()\n",
    "shape_ref['watch_df'] = len(watch_df)\n",
    "client.cancel(dd_ref['watch_accel'])\n",
    "client.cancel(dd_ref['watch_gyro'])"
   ]
  },
  {
   "cell_type": "code",
   "execution_count": 14,
   "id": "b18267f3-306d-414b-a181-d1da1eecefb5",
   "metadata": {},
   "outputs": [],
   "source": [
    "# free up some memory\n",
    "del dd_ref"
   ]
  },
  {
   "cell_type": "markdown",
   "id": "47a56432-eff4-40e1-a532-9bd17818b0eb",
   "metadata": {},
   "source": [
    "### Grouping the data into 3 second intervals"
   ]
  },
  {
   "cell_type": "code",
   "execution_count": 15,
   "id": "bea55c8e-fa1c-4dc5-985f-969bf464f76b",
   "metadata": {},
   "outputs": [],
   "source": [
    "# takes the combined sensor data and bins the data by taking the average depending on the seconds required\n",
    "def group_into_seconds(df, num_seconds):\n",
    "    # calculates the number of rows to average over by converting seconds to ms and diving by 50 (sensor interval)\n",
    "    \n",
    "    n_rows = (num_seconds*1000)/50\n",
    "    print('Grouped every', n_rows, 'rows')\n",
    "    \n",
    "    tempdf = df.reset_index(drop=True).reset_index()\n",
    "    \n",
    "    # rename of the index column\n",
    "    tempdf = tempdf.rename(columns= {'index': 'grouper'})\n",
    "    \n",
    "    # creates a variable to group within n_seconds\n",
    "    tempdf['grouper'] = tempdf['grouper']//n_rows\n",
    "    \n",
    "    # aggregate to n_seconds\n",
    "    tempdf = tempdf.groupby(by = ['grouper', 'code', 'subject_id']).agg(['mean', 'sum']).reset_index()\n",
    "    # drop superflous grouper column\n",
    "    del tempdf['grouper']\n",
    "    \n",
    "    return tempdf\n",
    "    # return df.groupby(np.arange(len(df))//n_rows).mean().compute()\n"
   ]
  },
  {
   "cell_type": "code",
   "execution_count": 16,
   "id": "dce4c18b",
   "metadata": {},
   "outputs": [],
   "source": [
    "#just testing to make sure it returns the same exact data frame when growing rows = 1\n",
    "#group_into_seconds(phone_df.compute(),50/1000)"
   ]
  },
  {
   "cell_type": "code",
   "execution_count": 17,
   "id": "c400cdef-b753-4250-83bf-076582d93ac0",
   "metadata": {},
   "outputs": [
    {
     "name": "stdout",
     "output_type": "stream",
     "text": [
      "Grouped every 60.0 rows\n",
      "Grouped every 60.0 rows\n"
     ]
    }
   ],
   "source": [
    "agg_time = 3\n",
    "#grouped_phone_df = dask.compute(group_into_seconds(phone_df, agg_time))[0]\n",
    "grouped_phone_df = group_into_seconds(phone_df.compute(),agg_time)\n",
    "shape_ref['grouped_phone_df'] = len(grouped_phone_df)\n",
    "client.cancel(phone_df)\n",
    "del phone_df\n",
    "\n",
    "#grouped_watch_df = dask.compute(group_into_seconds(watch_df, agg_time))[0]\n",
    "grouped_watch_df = group_into_seconds(watch_df.compute(),agg_time)\n",
    "shape_ref['grouped_watch_df'] = len(grouped_watch_df)\n",
    "client.cancel(watch_df)\n",
    "del watch_df"
   ]
  },
  {
   "cell_type": "markdown",
   "id": "8914e40e-2dc1-41b2-bc89-a40cf96997f5",
   "metadata": {},
   "source": [
    "#### Cosine Similarity"
   ]
  },
  {
   "cell_type": "code",
   "execution_count": 18,
   "id": "581c8d2a-54e7-4760-9650-18ea7ac1d97a",
   "metadata": {},
   "outputs": [],
   "source": [
    "# def mag_calc(arr):\n",
    "#     '''magnitude of a vector'''\n",
    "#     mag = np.sqrt(arr.dot(arr))\n",
    "#     return mag\n",
    "\n",
    "# def cos_sim(arr_1, arr_2):\n",
    "#     '''\n",
    "#     cosine similarity of two vectors\n",
    "#     to calculate distance, subtract output from 1\n",
    "#     '''\n",
    "#     # dot product of the vectors\n",
    "#     numerator = np.dot(arr_1, arr_2)\n",
    "    \n",
    "#     # magnitude of the vectors\n",
    "#     arr_1_mag = mag_calc(arr_1)\n",
    "#     arr_2_mag = mag_calc(arr_2)\n",
    "    \n",
    "#     denominator = arr_1_mag * arr_2_mag\n",
    "    \n",
    "#     cos = numerator / denominator\n",
    "    \n",
    "#     return cos\n",
    "\n",
    "# # create meaningless arrays for testing\n",
    "# x = np.random.randint(-5, 5, size=100)\n",
    "# y = np.random.randint(-5, 5, size=100)\n",
    "\n",
    "# cos_sim(x, y)"
   ]
  },
  {
   "cell_type": "code",
   "execution_count": 19,
   "id": "7cd3d57c-8734-4ba5-b600-c2c9b1c3dedb",
   "metadata": {},
   "outputs": [],
   "source": [
    "def cosine_calc(df, left_col, right_col, device, data_type):\n",
    "    # strings for accessing columns\n",
    "    # numerator\n",
    "    left_col_num = (left_col + \"_\" + device + \"_\" + data_type, \"sum\")\n",
    "    right_col_num = (right_col + \"_\" + device + \"_\" + data_type, \"sum\")\n",
    "    # denominator\n",
    "    left_col_den = (left_col + \"2_\" + device + \"_\" + data_type, \"sum\")\n",
    "    right_col_den = (right_col + \"2_\" + device + \"_\" + data_type, \"sum\")\n",
    "    \n",
    "    numerator = df[left_col_num] + df[right_col_num]\n",
    "    denominator = np.sqrt(df[left_col_den] * df[right_col_den])\n",
    "    \n",
    "    cos = numerator / denominator\n",
    "    \n",
    "    return cos"
   ]
  },
  {
   "cell_type": "code",
   "execution_count": 20,
   "id": "5ea1571f-edb4-4dc2-8962-d3da3949493a",
   "metadata": {},
   "outputs": [],
   "source": [
    "%%time\n",
    "# phone accel\n",
    "grouped_phone_df['cos_xy_phone_accel'] = cosine_calc(grouped_phone_df, 'x', 'y', 'phone', 'accel')\n",
    "grouped_phone_df['cos_xz_phone_accel'] = cosine_calc(grouped_phone_df, 'x', 'z', 'phone', 'accel')\n",
    "grouped_phone_df['cos_yz_phone_accel'] = cosine_calc(grouped_phone_df, 'y', 'z', 'phone', 'accel')\n",
    "# phone gyro\n",
    "grouped_phone_df['cos_xy_phone_gyro'] = cosine_calc(grouped_phone_df, 'x', 'y', 'phone', 'gyro')\n",
    "grouped_phone_df['cos_xz_phone_gyro'] = cosine_calc(grouped_phone_df, 'x', 'z', 'phone', 'gyro')\n",
    "grouped_phone_df['cos_yz_phone_gyro'] = cosine_calc(grouped_phone_df, 'y', 'z', 'phone', 'gyro')\n",
    "\n",
    "# watch accel\n",
    "grouped_watch_df['cos_xy_watch_accel'] = cosine_calc(grouped_watch_df, 'x', 'y', 'watch', 'accel')\n",
    "grouped_watch_df['cos_xz_watch_accel'] = cosine_calc(grouped_watch_df, 'x', 'z', 'watch', 'accel')\n",
    "grouped_watch_df['cos_yz_watch_accel'] = cosine_calc(grouped_watch_df, 'y', 'z', 'watch', 'accel')\n",
    "# watch gyro\n",
    "grouped_watch_df['cos_xy_watch_gyro'] = cosine_calc(grouped_watch_df, 'x', 'y', 'watch', 'gyro')\n",
    "grouped_watch_df['cos_xz_watch_gyro'] = cosine_calc(grouped_watch_df, 'x', 'z', 'watch', 'gyro')\n",
    "grouped_watch_df['cos_yz_watch_gyro'] = cosine_calc(grouped_watch_df, 'y', 'z', 'watch', 'gyro')"
   ]
  },
  {
   "cell_type": "code",
   "execution_count": 21,
   "id": "33bafa69-b87b-4a3d-9dbc-5bbbd62f67fc",
   "metadata": {},
   "outputs": [
    {
     "name": "stdout",
     "output_type": "stream",
     "text": [
      "{'phone_df': 2909149, 'watch_df': 3368542, 'grouped_phone_df': 532395, 'grouped_watch_df': 630642}\n"
     ]
    }
   ],
   "source": [
    "print(shape_ref)"
   ]
  },
  {
   "cell_type": "code",
   "execution_count": 22,
   "id": "37ba99f7-6db3-4cf8-8f37-a7a17c2a746d",
   "metadata": {},
   "outputs": [
    {
     "data": {
      "image/png": "[encoded data removed]",
      "text/plain": [
       "<Figure size 432x288 with 1 Axes>"
      ]
     },
     "metadata": {
      "needs_background": "light"
     },
     "output_type": "display_data"
    },
    {
     "name": "stdout",
     "output_type": "stream",
     "text": [
      "{'phone_df': 2909149, 'watch_df': 3368542, 'grouped_phone_df': 532395, 'grouped_watch_df': 630642}\n"
     ]
    }
   ],
   "source": [
    "plt.bar(range(len(shape_ref)), list(shape_ref.values()), align='center')\n",
    "plt.xticks(range(len(shape_ref)), list(shape_ref.keys()))\n",
    "plt.show()\n",
    "print(shape_ref)"
   ]
  },
  {
   "cell_type": "code",
   "execution_count": 23,
   "id": "83cac3ad",
   "metadata": {},
   "outputs": [
    {
     "data": {
      "text/plain": [
       "pandas.core.frame.DataFrame"
      ]
     },
     "execution_count": 23,
     "metadata": {},
     "output_type": "execute_result"
    }
   ],
   "source": [
    "type(grouped_phone_df)"
   ]
  },
  {
   "cell_type": "code",
   "execution_count": 24,
   "id": "04f5c6cd-3c9f-47f7-814b-e764b089c891",
   "metadata": {},
   "outputs": [
    {
     "data": {
      "text/plain": [
       "pandas.core.frame.DataFrame"
      ]
     },
     "execution_count": 24,
     "metadata": {},
     "output_type": "execute_result"
    }
   ],
   "source": [
    "type(grouped_watch_df)"
   ]
  },
  {
   "cell_type": "markdown",
   "id": "ed74ab5a-8251-4bfd-bb74-4e887c59b246",
   "metadata": {},
   "source": [
    "## EDA"
   ]
  },
  {
   "cell_type": "code",
   "execution_count": 25,
   "id": "19cb51b1-5142-428b-88dc-9dbe6b3e78bd",
   "metadata": {},
   "outputs": [],
   "source": [
    "#flatten out multi index\n",
    "grouped_phone_df.columns = list(map(''.join, grouped_phone_df.columns.values))\n",
    "grouped_watch_df.columns = list(map(''.join, grouped_watch_df.columns.values))"
   ]
  },
  {
   "cell_type": "code",
   "execution_count": 26,
   "id": "72bde163-7088-42dd-961c-af05c5a24e28",
   "metadata": {},
   "outputs": [
    {
     "data": {
      "text/html": [
       "<div>\n",
       "<style scoped>\n",
       "    .dataframe tbody tr th:only-of-type {\n",
       "        vertical-align: middle;\n",
       "    }\n",
       "\n",
       "    .dataframe tbody tr th {\n",
       "        vertical-align: top;\n",
       "    }\n",
       "\n",
       "    .dataframe thead th {\n",
       "        text-align: right;\n",
       "    }\n",
       "</style>\n",
       "<table border=\"1\" class=\"dataframe\">\n",
       "  <thead>\n",
       "    <tr style=\"text-align: right;\">\n",
       "      <th></th>\n",
       "      <th>subject_id</th>\n",
       "      <th>timestampmean</th>\n",
       "      <th>timestampsum</th>\n",
       "      <th>x_phone_accelmean</th>\n",
       "      <th>x_phone_accelsum</th>\n",
       "      <th>y_phone_accelmean</th>\n",
       "      <th>y_phone_accelsum</th>\n",
       "      <th>z_phone_accelmean</th>\n",
       "      <th>z_phone_accelsum</th>\n",
       "      <th>xy_phone_accelmean</th>\n",
       "      <th>...</th>\n",
       "      <th>y2_phone_gyromean</th>\n",
       "      <th>y2_phone_gyrosum</th>\n",
       "      <th>z2_phone_gyromean</th>\n",
       "      <th>z2_phone_gyrosum</th>\n",
       "      <th>cos_xy_phone_accel</th>\n",
       "      <th>cos_xz_phone_accel</th>\n",
       "      <th>cos_yz_phone_accel</th>\n",
       "      <th>cos_xy_phone_gyro</th>\n",
       "      <th>cos_xz_phone_gyro</th>\n",
       "      <th>cos_yz_phone_gyro</th>\n",
       "    </tr>\n",
       "  </thead>\n",
       "  <tbody>\n",
       "    <tr>\n",
       "      <th>count</th>\n",
       "      <td>532395.000000</td>\n",
       "      <td>5.323950e+05</td>\n",
       "      <td>5.323950e+05</td>\n",
       "      <td>532395.000000</td>\n",
       "      <td>532395.000000</td>\n",
       "      <td>532395.000000</td>\n",
       "      <td>532395.000000</td>\n",
       "      <td>532395.000000</td>\n",
       "      <td>532395.000000</td>\n",
       "      <td>532395.000000</td>\n",
       "      <td>...</td>\n",
       "      <td>532395.000000</td>\n",
       "      <td>532395.000000</td>\n",
       "      <td>532395.000000</td>\n",
       "      <td>532395.000000</td>\n",
       "      <td>5.323950e+05</td>\n",
       "      <td>5.323950e+05</td>\n",
       "      <td>5.323950e+05</td>\n",
       "      <td>5.323510e+05</td>\n",
       "      <td>5.322980e+05</td>\n",
       "      <td>5.323160e+05</td>\n",
       "    </tr>\n",
       "    <tr>\n",
       "      <th>mean</th>\n",
       "      <td>1628.563906</td>\n",
       "      <td>5.650608e+14</td>\n",
       "      <td>2.555995e+15</td>\n",
       "      <td>0.292573</td>\n",
       "      <td>1.546333</td>\n",
       "      <td>-2.338619</td>\n",
       "      <td>-5.969940</td>\n",
       "      <td>0.304107</td>\n",
       "      <td>3.426846</td>\n",
       "      <td>0.896164</td>\n",
       "      <td>...</td>\n",
       "      <td>0.873399</td>\n",
       "      <td>4.763457</td>\n",
       "      <td>0.483717</td>\n",
       "      <td>2.354218</td>\n",
       "      <td>NaN</td>\n",
       "      <td>NaN</td>\n",
       "      <td>NaN</td>\n",
       "      <td>NaN</td>\n",
       "      <td>NaN</td>\n",
       "      <td>NaN</td>\n",
       "    </tr>\n",
       "    <tr>\n",
       "      <th>std</th>\n",
       "      <td>13.513512</td>\n",
       "      <td>5.268208e+14</td>\n",
       "      <td>3.479090e+15</td>\n",
       "      <td>5.491639</td>\n",
       "      <td>37.733299</td>\n",
       "      <td>6.100018</td>\n",
       "      <td>50.771328</td>\n",
       "      <td>4.975734</td>\n",
       "      <td>37.087120</td>\n",
       "      <td>30.216717</td>\n",
       "      <td>...</td>\n",
       "      <td>4.876024</td>\n",
       "      <td>28.692709</td>\n",
       "      <td>2.882403</td>\n",
       "      <td>12.188818</td>\n",
       "      <td>NaN</td>\n",
       "      <td>NaN</td>\n",
       "      <td>NaN</td>\n",
       "      <td>NaN</td>\n",
       "      <td>NaN</td>\n",
       "      <td>NaN</td>\n",
       "    </tr>\n",
       "    <tr>\n",
       "      <th>min</th>\n",
       "      <td>1600.000000</td>\n",
       "      <td>2.910720e+11</td>\n",
       "      <td>2.910720e+11</td>\n",
       "      <td>-78.477608</td>\n",
       "      <td>-369.721588</td>\n",
       "      <td>-71.297340</td>\n",
       "      <td>-462.250916</td>\n",
       "      <td>-45.155701</td>\n",
       "      <td>-341.672302</td>\n",
       "      <td>-2050.405518</td>\n",
       "      <td>...</td>\n",
       "      <td>0.000000</td>\n",
       "      <td>0.000000</td>\n",
       "      <td>0.000000</td>\n",
       "      <td>0.000000</td>\n",
       "      <td>-inf</td>\n",
       "      <td>-inf</td>\n",
       "      <td>-inf</td>\n",
       "      <td>-inf</td>\n",
       "      <td>-inf</td>\n",
       "      <td>-inf</td>\n",
       "    </tr>\n",
       "    <tr>\n",
       "      <th>25%</th>\n",
       "      <td>1618.000000</td>\n",
       "      <td>1.674914e+14</td>\n",
       "      <td>3.435297e+14</td>\n",
       "      <td>-3.700305</td>\n",
       "      <td>-10.496076</td>\n",
       "      <td>-7.687040</td>\n",
       "      <td>-24.720731</td>\n",
       "      <td>-2.740164</td>\n",
       "      <td>-8.717738</td>\n",
       "      <td>-15.756142</td>\n",
       "      <td>...</td>\n",
       "      <td>0.000158</td>\n",
       "      <td>0.000618</td>\n",
       "      <td>0.000108</td>\n",
       "      <td>0.000388</td>\n",
       "      <td>-4.727180e-01</td>\n",
       "      <td>-3.142741e-01</td>\n",
       "      <td>-5.515850e-01</td>\n",
       "      <td>-1.268759e+01</td>\n",
       "      <td>-1.481941e+01</td>\n",
       "      <td>-1.535866e+01</td>\n",
       "    </tr>\n",
       "    <tr>\n",
       "      <th>50%</th>\n",
       "      <td>1631.000000</td>\n",
       "      <td>3.576511e+14</td>\n",
       "      <td>1.339195e+15</td>\n",
       "      <td>0.256733</td>\n",
       "      <td>0.633266</td>\n",
       "      <td>-2.795729</td>\n",
       "      <td>-7.583035</td>\n",
       "      <td>0.103995</td>\n",
       "      <td>0.268600</td>\n",
       "      <td>0.967962</td>\n",
       "      <td>...</td>\n",
       "      <td>0.004311</td>\n",
       "      <td>0.016857</td>\n",
       "      <td>0.002170</td>\n",
       "      <td>0.008967</td>\n",
       "      <td>-1.391701e-01</td>\n",
       "      <td>1.895004e-02</td>\n",
       "      <td>-2.116707e-01</td>\n",
       "      <td>-1.411279e-01</td>\n",
       "      <td>-1.748677e-01</td>\n",
       "      <td>-1.893744e-01</td>\n",
       "    </tr>\n",
       "    <tr>\n",
       "      <th>75%</th>\n",
       "      <td>1639.000000</td>\n",
       "      <td>1.131507e+15</td>\n",
       "      <td>3.401114e+15</td>\n",
       "      <td>4.572277</td>\n",
       "      <td>15.641873</td>\n",
       "      <td>1.353544</td>\n",
       "      <td>3.652420</td>\n",
       "      <td>3.769344</td>\n",
       "      <td>11.771652</td>\n",
       "      <td>17.453667</td>\n",
       "      <td>...</td>\n",
       "      <td>0.227251</td>\n",
       "      <td>0.848540</td>\n",
       "      <td>0.085456</td>\n",
       "      <td>0.342033</td>\n",
       "      <td>2.970208e-01</td>\n",
       "      <td>3.720450e-01</td>\n",
       "      <td>3.205959e-01</td>\n",
       "      <td>6.490444e+00</td>\n",
       "      <td>7.005447e+00</td>\n",
       "      <td>7.160187e+00</td>\n",
       "    </tr>\n",
       "    <tr>\n",
       "      <th>max</th>\n",
       "      <td>1650.000000</td>\n",
       "      <td>1.819792e+15</td>\n",
       "      <td>4.171433e+16</td>\n",
       "      <td>58.610920</td>\n",
       "      <td>293.694916</td>\n",
       "      <td>32.002251</td>\n",
       "      <td>626.861511</td>\n",
       "      <td>42.221802</td>\n",
       "      <td>422.166595</td>\n",
       "      <td>1558.614990</td>\n",
       "      <td>...</td>\n",
       "      <td>633.226990</td>\n",
       "      <td>2288.293701</td>\n",
       "      <td>844.907410</td>\n",
       "      <td>1224.241577</td>\n",
       "      <td>inf</td>\n",
       "      <td>inf</td>\n",
       "      <td>inf</td>\n",
       "      <td>inf</td>\n",
       "      <td>inf</td>\n",
       "      <td>inf</td>\n",
       "    </tr>\n",
       "  </tbody>\n",
       "</table>\n",
       "<p>8 rows × 45 columns</p>\n",
       "</div>"
      ],
      "text/plain": [
       "          subject_id  timestampmean  timestampsum  x_phone_accelmean  \\\n",
       "count  532395.000000   5.323950e+05  5.323950e+05      532395.000000   \n",
       "mean     1628.563906   5.650608e+14  2.555995e+15           0.292573   \n",
       "std        13.513512   5.268208e+14  3.479090e+15           5.491639   \n",
       "min      1600.000000   2.910720e+11  2.910720e+11         -78.477608   \n",
       "25%      1618.000000   1.674914e+14  3.435297e+14          -3.700305   \n",
       "50%      1631.000000   3.576511e+14  1.339195e+15           0.256733   \n",
       "75%      1639.000000   1.131507e+15  3.401114e+15           4.572277   \n",
       "max      1650.000000   1.819792e+15  4.171433e+16          58.610920   \n",
       "\n",
       "       x_phone_accelsum  y_phone_accelmean  y_phone_accelsum  \\\n",
       "count     532395.000000      532395.000000     532395.000000   \n",
       "mean           1.546333          -2.338619         -5.969940   \n",
       "std           37.733299           6.100018         50.771328   \n",
       "min         -369.721588         -71.297340       -462.250916   \n",
       "25%          -10.496076          -7.687040        -24.720731   \n",
       "50%            0.633266          -2.795729         -7.583035   \n",
       "75%           15.641873           1.353544          3.652420   \n",
       "max          293.694916          32.002251        626.861511   \n",
       "\n",
       "       z_phone_accelmean  z_phone_accelsum  xy_phone_accelmean  ...  \\\n",
       "count      532395.000000     532395.000000       532395.000000  ...   \n",
       "mean            0.304107          3.426846            0.896164  ...   \n",
       "std             4.975734         37.087120           30.216717  ...   \n",
       "min           -45.155701       -341.672302        -2050.405518  ...   \n",
       "25%            -2.740164         -8.717738          -15.756142  ...   \n",
       "50%             0.103995          0.268600            0.967962  ...   \n",
       "75%             3.769344         11.771652           17.453667  ...   \n",
       "max            42.221802        422.166595         1558.614990  ...   \n",
       "\n",
       "       y2_phone_gyromean  y2_phone_gyrosum  z2_phone_gyromean  \\\n",
       "count      532395.000000     532395.000000      532395.000000   \n",
       "mean            0.873399          4.763457           0.483717   \n",
       "std             4.876024         28.692709           2.882403   \n",
       "min             0.000000          0.000000           0.000000   \n",
       "25%             0.000158          0.000618           0.000108   \n",
       "50%             0.004311          0.016857           0.002170   \n",
       "75%             0.227251          0.848540           0.085456   \n",
       "max           633.226990       2288.293701         844.907410   \n",
       "\n",
       "       z2_phone_gyrosum  cos_xy_phone_accel  cos_xz_phone_accel  \\\n",
       "count     532395.000000        5.323950e+05        5.323950e+05   \n",
       "mean           2.354218                 NaN                 NaN   \n",
       "std           12.188818                 NaN                 NaN   \n",
       "min            0.000000                -inf                -inf   \n",
       "25%            0.000388       -4.727180e-01       -3.142741e-01   \n",
       "50%            0.008967       -1.391701e-01        1.895004e-02   \n",
       "75%            0.342033        2.970208e-01        3.720450e-01   \n",
       "max         1224.241577                 inf                 inf   \n",
       "\n",
       "       cos_yz_phone_accel  cos_xy_phone_gyro  cos_xz_phone_gyro  \\\n",
       "count        5.323950e+05       5.323510e+05       5.322980e+05   \n",
       "mean                  NaN                NaN                NaN   \n",
       "std                   NaN                NaN                NaN   \n",
       "min                  -inf               -inf               -inf   \n",
       "25%         -5.515850e-01      -1.268759e+01      -1.481941e+01   \n",
       "50%         -2.116707e-01      -1.411279e-01      -1.748677e-01   \n",
       "75%          3.205959e-01       6.490444e+00       7.005447e+00   \n",
       "max                   inf                inf                inf   \n",
       "\n",
       "       cos_yz_phone_gyro  \n",
       "count       5.323160e+05  \n",
       "mean                 NaN  \n",
       "std                  NaN  \n",
       "min                 -inf  \n",
       "25%        -1.535866e+01  \n",
       "50%        -1.893744e-01  \n",
       "75%         7.160187e+00  \n",
       "max                  inf  \n",
       "\n",
       "[8 rows x 45 columns]"
      ]
     },
     "execution_count": 26,
     "metadata": {},
     "output_type": "execute_result"
    }
   ],
   "source": [
    "grouped_phone_df.describe()"
   ]
  },
  {
   "cell_type": "code",
   "execution_count": 27,
   "id": "17626f9d-929e-4f29-ae1e-0dac95bf8ed8",
   "metadata": {},
   "outputs": [
    {
     "data": {
      "text/html": [
       "<iframe\n",
       "    scrolling=\"no\"\n",
       "    width=\"100%\"\n",
       "    height=\"545px\"\n",
       "    src=\"iframe_figures/figure_27.html\"\n",
       "    frameborder=\"0\"\n",
       "    allowfullscreen\n",
       "></iframe>\n"
      ]
     },
     "metadata": {},
     "output_type": "display_data"
    }
   ],
   "source": [
    "# VISUALIZE DATA\n",
    "\n",
    "# depending on your setup may need different renderer to display\n",
    "# iframe should render on local implementation and docker image implementation\n",
    "\n",
    "renderer = [\n",
    "    'notebook', # local\n",
    "    'notebook_connected', # local\n",
    "    'kaggle', # local\n",
    "    'azure', # local\n",
    "    'browser', # local (opens plot in new browser tab)\n",
    "    'iframe', # docker, local (saves plot in `iframe_figures` folder)\n",
    "    'iframe_connected', # docker, local (saves plot in `iframe_figures` folder)\n",
    "    'colab' # docker\n",
    "]\n",
    "\n",
    "# phone accelerometer\n",
    "# take a sample of the data\n",
    "df = grouped_phone_df.sample(frac=0.3, random_state=seed).sort_values(by='code')\n",
    "fig = px.scatter_3d(df, \n",
    "                    x='x_phone_accelsum', \n",
    "                    y='y_phone_accelsum', \n",
    "                    z='z_phone_accelsum',\n",
    "                    color = 'code' )\n",
    "fig.show(renderer=renderer[-2]) # if plot does not render, try a different index, the last three are preferred"
   ]
  },
  {
   "cell_type": "code",
   "execution_count": 28,
   "id": "c1d93024-3864-4fda-9584-dabbc533b3fe",
   "metadata": {
    "tags": []
   },
   "outputs": [
    {
     "data": {
      "text/html": [
       "<iframe\n",
       "    scrolling=\"no\"\n",
       "    width=\"100%\"\n",
       "    height=\"545px\"\n",
       "    src=\"iframe_figures/figure_28.html\"\n",
       "    frameborder=\"0\"\n",
       "    allowfullscreen\n",
       "></iframe>\n"
      ]
     },
     "metadata": {},
     "output_type": "display_data"
    }
   ],
   "source": [
    "# phone gyroscope\n",
    "\n",
    "# take a sample of the data\n",
    "df = grouped_phone_df.sample(frac=0.3, random_state=seed).sort_values(by='code')\n",
    "fig = px.scatter_3d(df, \n",
    "                    x='x_phone_gyrosum', \n",
    "                    y='y_phone_gyrosum', \n",
    "                    z='x_phone_gyrosum',\n",
    "                    color = 'code' )\n",
    "fig.show(renderer=renderer[-2]) # if plot does not render, try a different index, the last three are preferred"
   ]
  },
  {
   "cell_type": "code",
   "execution_count": 29,
   "id": "b75247bf-1c7e-4c80-a785-60edd32f0499",
   "metadata": {},
   "outputs": [
    {
     "data": {
      "text/html": [
       "<iframe\n",
       "    scrolling=\"no\"\n",
       "    width=\"100%\"\n",
       "    height=\"545px\"\n",
       "    src=\"iframe_figures/figure_29.html\"\n",
       "    frameborder=\"0\"\n",
       "    allowfullscreen\n",
       "></iframe>\n"
      ]
     },
     "metadata": {},
     "output_type": "display_data"
    }
   ],
   "source": [
    "# watch accelerometer\n",
    "\n",
    "# take a sample of the data\n",
    "df = grouped_watch_df.sample(frac=0.3, random_state=seed).sort_values(by='code')\n",
    "fig = px.scatter_3d(df, \n",
    "                    x='x_watch_accelsum', \n",
    "                    y='y_watch_accelsum', \n",
    "                    z='z_watch_accelsum',\n",
    "                    color = 'code' )\n",
    "fig.show(renderer=renderer[-2]) # if plot does not render, try a different index, the last three are preferred"
   ]
  },
  {
   "cell_type": "code",
   "execution_count": 30,
   "id": "67bd51cb-1755-42be-861e-c91063c6a6a6",
   "metadata": {},
   "outputs": [
    {
     "data": {
      "text/html": [
       "<iframe\n",
       "    scrolling=\"no\"\n",
       "    width=\"100%\"\n",
       "    height=\"545px\"\n",
       "    src=\"iframe_figures/figure_30.html\"\n",
       "    frameborder=\"0\"\n",
       "    allowfullscreen\n",
       "></iframe>\n"
      ]
     },
     "metadata": {},
     "output_type": "display_data"
    }
   ],
   "source": [
    "# watch gyroscope\n",
    "\n",
    "# take a sample of the data\n",
    "df = grouped_watch_df.sample(frac=0.3, random_state=seed).sort_values(by='code')\n",
    "fig = px.scatter_3d(df, \n",
    "                    x='x_watch_gyrosum', \n",
    "                    y='y_watch_gyrosum', \n",
    "                    z='z_watch_gyrosum',\n",
    "                    color = 'code' )\n",
    "fig.show(renderer=renderer[-2]) # if plot does not render, try a different index, the last three are preferred"
   ]
  },
  {
   "cell_type": "code",
   "execution_count": 31,
   "id": "498c4793-0a23-4d73-9134-4ca863a757f3",
   "metadata": {},
   "outputs": [],
   "source": [
    "# phone accel\n",
    "cos_cols = [\n",
    "    # phone accel\n",
    "    'cos_xy_phone_accel',\n",
    "    'cos_xz_phone_accel',\n",
    "    'cos_yz_phone_accel',\n",
    "    # phone gyro\n",
    "    'cos_xy_phone_gyro',\n",
    "    'cos_xz_phone_gyro',\n",
    "    'cos_yz_phone_gyro',\n",
    "    # watch accel\n",
    "    'cos_xy_watch_accel',\n",
    "    'cos_xz_watch_accel',\n",
    "    'cos_yz_watch_accel',\n",
    "    # watch gyro\n",
    "    'cos_xy_watch_gyro',\n",
    "    'cos_xz_watch_gyro',\n",
    "    'cos_yz_watch_gyro',\n",
    "]"
   ]
  },
  {
   "cell_type": "code",
   "execution_count": 32,
   "id": "75f8a929-9759-47be-8593-c692c0f0ad92",
   "metadata": {},
   "outputs": [
    {
     "data": {
      "text/html": [
       "<iframe\n",
       "    scrolling=\"no\"\n",
       "    width=\"100%\"\n",
       "    height=\"545px\"\n",
       "    src=\"iframe_figures/figure_32.html\"\n",
       "    frameborder=\"0\"\n",
       "    allowfullscreen\n",
       "></iframe>\n"
      ]
     },
     "metadata": {},
     "output_type": "display_data"
    }
   ],
   "source": [
    "# # phone accel cosine\n",
    "\n",
    "# take a sample of the data\n",
    "df = grouped_phone_df.sample(frac=0.3, random_state=seed).sort_values(by='code')\n",
    "fig = px.scatter_3d(df, \n",
    "                    x='cos_xy_phone_accel', \n",
    "                    y='cos_xz_phone_accel', \n",
    "                    z='cos_yz_phone_accel',\n",
    "                    color = 'code' )\n",
    "fig.show(renderer=renderer[-2]) # if plot does not render, try a different index, the last three are preferred"
   ]
  },
  {
   "cell_type": "code",
   "execution_count": 33,
   "id": "56547ddb-cdbd-4a39-83e4-7163620dbd4f",
   "metadata": {},
   "outputs": [
    {
     "data": {
      "text/html": [
       "<iframe\n",
       "    scrolling=\"no\"\n",
       "    width=\"100%\"\n",
       "    height=\"545px\"\n",
       "    src=\"iframe_figures/figure_33.html\"\n",
       "    frameborder=\"0\"\n",
       "    allowfullscreen\n",
       "></iframe>\n"
      ]
     },
     "metadata": {},
     "output_type": "display_data"
    }
   ],
   "source": [
    "# # phone gyro cosine\n",
    "\n",
    "# take a sample of the data\n",
    "df = grouped_phone_df.sample(frac=0.3, random_state=seed).sort_values(by='code')\n",
    "fig = px.scatter_3d(df, \n",
    "                    x='cos_xy_phone_gyro', \n",
    "                    y='cos_xz_phone_gyro', \n",
    "                    z='cos_yz_phone_gyro',\n",
    "                    color = 'code' )\n",
    "fig.show(renderer=renderer[-2]) # if plot does not render, try a different index, the last three are preferred"
   ]
  },
  {
   "cell_type": "code",
   "execution_count": 34,
   "id": "081a296c-e36d-4018-9d6f-8655a64d5ffa",
   "metadata": {},
   "outputs": [
    {
     "data": {
      "text/html": [
       "<iframe\n",
       "    scrolling=\"no\"\n",
       "    width=\"100%\"\n",
       "    height=\"545px\"\n",
       "    src=\"iframe_figures/figure_34.html\"\n",
       "    frameborder=\"0\"\n",
       "    allowfullscreen\n",
       "></iframe>\n"
      ]
     },
     "metadata": {},
     "output_type": "display_data"
    }
   ],
   "source": [
    "# # watch accel cosine\n",
    "\n",
    "# take a sample of the data\n",
    "df = grouped_watch_df.sample(frac=0.3, random_state=seed).sort_values(by='code')\n",
    "fig = px.scatter_3d(df, \n",
    "                    x='cos_xy_watch_accel', \n",
    "                    y='cos_xz_watch_accel', \n",
    "                    z='cos_yz_watch_accel',\n",
    "                    color = 'code' )\n",
    "fig.show(renderer=renderer[-2]) # if plot does not render, try a different index, the last three are preferred"
   ]
  },
  {
   "cell_type": "code",
   "execution_count": 35,
   "id": "d1259cbb-fa81-40b1-b9c2-fc5297feecb4",
   "metadata": {},
   "outputs": [
    {
     "data": {
      "text/html": [
       "<iframe\n",
       "    scrolling=\"no\"\n",
       "    width=\"100%\"\n",
       "    height=\"545px\"\n",
       "    src=\"iframe_figures/figure_35.html\"\n",
       "    frameborder=\"0\"\n",
       "    allowfullscreen\n",
       "></iframe>\n"
      ]
     },
     "metadata": {},
     "output_type": "display_data"
    }
   ],
   "source": [
    "# # phone gyro cosine\n",
    "\n",
    "# take a sample of the data\n",
    "df = grouped_watch_df.sample(frac=0.3, random_state=seed).sort_values(by='code')\n",
    "fig = px.scatter_3d(df, \n",
    "                    x='cos_xy_watch_gyro', \n",
    "                    y='cos_xz_watch_gyro', \n",
    "                    z='cos_yz_watch_gyro',\n",
    "                    color = 'code' )\n",
    "fig.show(renderer=renderer[-2]) # if plot does not render, try a different index, the last three are preferred"
   ]
  },
  {
   "cell_type": "markdown",
   "id": "1da4b0de-1aa5-4f20-9b5d-845b3b96c0f0",
   "metadata": {},
   "source": [
    "### create csv files for faster recall"
   ]
  },
  {
   "cell_type": "code",
   "execution_count": 36,
   "id": "5635085d-9020-49c5-980e-5a31a1f31e08",
   "metadata": {},
   "outputs": [],
   "source": [
    "# # write out file to csv\n",
    "# file_name = 'grouped_phone_df'\n",
    "# df = grouped_phone_df\n",
    "# # should output as .csv to retain data structure\n",
    "# df.to_csv(fr'./prepped-data/{file_name}.csv')"
   ]
  },
  {
   "cell_type": "code",
   "execution_count": 37,
   "id": "6b791620-5998-489a-aa66-e0ecb4df23eb",
   "metadata": {},
   "outputs": [],
   "source": [
    "# # write out file to csv\n",
    "# file_name = 'grouped_watch_df'\n",
    "# df = grouped_watch_df\n",
    "# # should output as .csv to retain data structure\n",
    "# df.to_csv(fr'./prepped-data/{file_name}.csv')"
   ]
  },
  {
   "cell_type": "code",
   "execution_count": 38,
   "id": "8174665f-ad69-469f-a477-4a7e51511120",
   "metadata": {},
   "outputs": [],
   "source": [
    "# # write out to excel (wireframe)\n",
    "# file_name = 'file_name'\n",
    "# writer = pd.ExcelWriter(f'{file_name}.xlsx', engine='xlsxwriter')\n",
    "# df.to_excel(writer, sheet_name='sheet-name')\n",
    "# writer.save()"
   ]
  },
  {
   "cell_type": "code",
   "execution_count": 39,
   "id": "758bf009-9308-4ec8-b5ee-5d89b592ff6d",
   "metadata": {},
   "outputs": [],
   "source": [
    "# # output the to .tsv/csv (wireframe)\n",
    "# file_name = 'file_name'\n",
    "# df = df#.astype(str) #preserve dtype with str if not already\n",
    "# # should output as .tsv to retain data structure\n",
    "# df.to_csv(fr'{file_name}.tsv', sep='\\t', index=False)"
   ]
  },
  {
   "cell_type": "code",
   "execution_count": 40,
   "id": "09ecebc4-e200-4539-88ad-29fff80f87b6",
   "metadata": {},
   "outputs": [],
   "source": [
    "# # serialize file (wireframe)\n",
    "# file_name = 'file_name'\n",
    "# df = df\n",
    "# df.to_pickle(f\"./{file_name}.pkl\")"
   ]
  },
  {
   "cell_type": "code",
   "execution_count": 41,
   "id": "4eb80f82-d595-4052-8525-1e3eda61628f",
   "metadata": {},
   "outputs": [],
   "source": [
    "# # read serialized file (wireframe)\n",
    "# file_name = 'file_name'\n",
    "# unpickled_df = pd.read_pickle(f\"./{file_name}.pkl\")"
   ]
  },
  {
   "cell_type": "code",
   "execution_count": 42,
   "id": "49a70ec8-7038-431c-9d2f-c2fd5dc775b0",
   "metadata": {},
   "outputs": [],
   "source": [
    "# # uncompress file and read in to dask (wireframe)\n",
    "# file_name = 'file_name'\n",
    "# unpickled_df = pd.read_pickle(f\"./{file_name}.pkl\")\n",
    "# ddf = dd.from_pandas(unpickled_df, npartitions=8)"
   ]
  },
  {
   "cell_type": "code",
   "execution_count": 43,
   "id": "ab7c3ed2",
   "metadata": {},
   "outputs": [],
   "source": [
    "# # read in file as a dask dataframe\n",
    "# phone_accel = dd.read_csv(f\"prepped-data/{file_name}.csv\")"
   ]
  },
  {
   "cell_type": "markdown",
   "id": "48fd078d",
   "metadata": {},
   "source": [
    "**<font color='red'>I don't think we actually need hadoop. saving in case we do and/or syntax for running other  bash commands</font>**"
   ]
  },
  {
   "cell_type": "code",
   "execution_count": 44,
   "id": "657f6293-0a42-4880-9e5e-9cbedd83e586",
   "metadata": {},
   "outputs": [],
   "source": [
    "# %%bash\n",
    "# dir"
   ]
  },
  {
   "cell_type": "markdown",
   "id": "0f32e901-de33-4f24-a872-9709ffaf8678",
   "metadata": {},
   "source": [
    "**create hadoop directory**"
   ]
  },
  {
   "cell_type": "code",
   "execution_count": 45,
   "id": "b318e4ee-8b1c-4c45-8b27-bc2d61caf8fd",
   "metadata": {},
   "outputs": [],
   "source": [
    "# %%bash\n",
    "# hadoop fs -mkdir /hdfs-data"
   ]
  },
  {
   "cell_type": "markdown",
   "id": "c233432d-e7f5-499c-93a2-ce733bdefe8a",
   "metadata": {},
   "source": [
    "**copy from local into hadoop**"
   ]
  },
  {
   "cell_type": "code",
   "execution_count": 46,
   "id": "d4c0ca51-a456-4f76-bc47-77cda968014c",
   "metadata": {},
   "outputs": [],
   "source": [
    "# %%bash\n",
    "# hadoop fs -copyFromLocal prepped-data/data_phone_accel.csv /hdfs-data"
   ]
  },
  {
   "cell_type": "markdown",
   "id": "54f654d8-030e-48c1-8b47-86fb43341cc7",
   "metadata": {},
   "source": [
    "**make sure file is in hadoop**"
   ]
  },
  {
   "cell_type": "code",
   "execution_count": 47,
   "id": "a0b37352-c3d0-42e4-93a1-fe2182497af0",
   "metadata": {},
   "outputs": [],
   "source": [
    "# %%bash\n",
    "# hadoop fs -ls /hdfs-data"
   ]
  },
  {
   "cell_type": "markdown",
   "id": "868e66b4",
   "metadata": {},
   "source": [
    "- Use PySpark or Dask\n",
    "- Include one classificationorregressionorclusteranalysis task\n",
    "- Describe problem\n",
    "    - To include:  Explain why problem is interesting, what real-life application is being addressed\n",
    "- Describe analysis task\n",
    "    - To include:  type of task (e.g., classification), how does task related to business problem\n",
    "- Describe data\n",
    "    - To include:  data quality issues, characteristics of the dataset (summary statistics,\n",
    "correlation, outliers, etc.), plots\n",
    "- Describe data preparation process\n",
    "    - To include:  data cleaning steps, features used, train/validation/test datasets\n",
    "- Describe analysis approaches\n",
    "    - To include:  input, setup, and output of model(s)\n",
    "- Describe challenges and solutions\n",
    "    - To include:  challenges encountered, solutions to address challenges\n",
    "- Describe analysis results and insights gained\n",
    "    - To include:  discussion of results, insights gained from analysis\n",
    "- Describe future work\n",
    "    - To include:  lessons learned, next steps, what you would have done differently"
   ]
  },
  {
   "cell_type": "markdown",
   "id": "0ba21899",
   "metadata": {},
   "source": [
    "\n",
    "\n",
    "\n",
    "Measures movement data over ten-second\n",
    "intervals while subjects perform the various tasks."
   ]
  },
  {
   "cell_type": "markdown",
   "id": "ed9059f0",
   "metadata": {},
   "source": [
    "## Analysis approaches"
   ]
  },
  {
   "cell_type": "code",
   "execution_count": 48,
   "id": "648e0fe9-a958-4042-a246-f6843f5e1825",
   "metadata": {},
   "outputs": [
    {
     "data": {
      "text/html": [
       "<div>\n",
       "    <div style=\"width: 24px; height: 24px; background-color: #e1e1e1; border: 3px solid #9D9D9D; border-radius: 5px; position: absolute;\"> </div>\n",
       "    <div style=\"margin-left: 48px;\">\n",
       "        <h3 style=\"margin-bottom: 0px;\">Client</h3>\n",
       "        <p style=\"color: #9D9D9D; margin-bottom: 0px;\">Client-acfc97f8-dbfb-11ec-87d4-0242ac110002</p>\n",
       "        <table style=\"width: 100%; text-align: left;\">\n",
       "\n",
       "        <tr>\n",
       "        \n",
       "            <td style=\"text-align: left;\"><strong>Connection method:</strong> Cluster object</td>\n",
       "            <td style=\"text-align: left;\"><strong>Cluster type:</strong> distributed.LocalCluster</td>\n",
       "        \n",
       "        </tr>\n",
       "\n",
       "        \n",
       "            <tr>\n",
       "                <td style=\"text-align: left;\">\n",
       "                    <strong>Dashboard: </strong> <a href=\"http://127.0.0.1:8787/status\" target=\"_blank\">http://127.0.0.1:8787/status</a>\n",
       "                </td>\n",
       "                <td style=\"text-align: left;\"></td>\n",
       "            </tr>\n",
       "        \n",
       "\n",
       "        </table>\n",
       "\n",
       "        \n",
       "            <details>\n",
       "            <summary style=\"margin-bottom: 20px;\"><h3 style=\"display: inline;\">Cluster Info</h3></summary>\n",
       "            <div class=\"jp-RenderedHTMLCommon jp-RenderedHTML jp-mod-trusted jp-OutputArea-output\">\n",
       "    <div style=\"width: 24px; height: 24px; background-color: #e1e1e1; border: 3px solid #9D9D9D; border-radius: 5px; position: absolute;\">\n",
       "    </div>\n",
       "    <div style=\"margin-left: 48px;\">\n",
       "        <h3 style=\"margin-bottom: 0px; margin-top: 0px;\">LocalCluster</h3>\n",
       "        <p style=\"color: #9D9D9D; margin-bottom: 0px;\">a731ad4a</p>\n",
       "        <table style=\"width: 100%; text-align: left;\">\n",
       "            <tr>\n",
       "                <td style=\"text-align: left;\">\n",
       "                    <strong>Dashboard:</strong> <a href=\"http://127.0.0.1:8787/status\" target=\"_blank\">http://127.0.0.1:8787/status</a>\n",
       "                </td>\n",
       "                <td style=\"text-align: left;\">\n",
       "                    <strong>Workers:</strong> 4\n",
       "                </td>\n",
       "            </tr>\n",
       "            <tr>\n",
       "                <td style=\"text-align: left;\">\n",
       "                    <strong>Total threads:</strong> 8\n",
       "                </td>\n",
       "                <td style=\"text-align: left;\">\n",
       "                    <strong>Total memory:</strong> 24.91 GiB\n",
       "                </td>\n",
       "            </tr>\n",
       "            \n",
       "            <tr>\n",
       "    <td style=\"text-align: left;\"><strong>Status:</strong> running</td>\n",
       "    <td style=\"text-align: left;\"><strong>Using processes:</strong> True</td>\n",
       "</tr>\n",
       "\n",
       "            \n",
       "        </table>\n",
       "\n",
       "        <details>\n",
       "            <summary style=\"margin-bottom: 20px;\">\n",
       "                <h3 style=\"display: inline;\">Scheduler Info</h3>\n",
       "            </summary>\n",
       "\n",
       "            <div style=\"\">\n",
       "    <div>\n",
       "        <div style=\"width: 24px; height: 24px; background-color: #FFF7E5; border: 3px solid #FF6132; border-radius: 5px; position: absolute;\"> </div>\n",
       "        <div style=\"margin-left: 48px;\">\n",
       "            <h3 style=\"margin-bottom: 0px;\">Scheduler</h3>\n",
       "            <p style=\"color: #9D9D9D; margin-bottom: 0px;\">Scheduler-c2baecbd-c153-42ff-b2c0-06f57bfe8694</p>\n",
       "            <table style=\"width: 100%; text-align: left;\">\n",
       "                <tr>\n",
       "                    <td style=\"text-align: left;\">\n",
       "                        <strong>Comm:</strong> tcp://127.0.0.1:42091\n",
       "                    </td>\n",
       "                    <td style=\"text-align: left;\">\n",
       "                        <strong>Workers:</strong> 4\n",
       "                    </td>\n",
       "                </tr>\n",
       "                <tr>\n",
       "                    <td style=\"text-align: left;\">\n",
       "                        <strong>Dashboard:</strong> <a href=\"http://127.0.0.1:8787/status\" target=\"_blank\">http://127.0.0.1:8787/status</a>\n",
       "                    </td>\n",
       "                    <td style=\"text-align: left;\">\n",
       "                        <strong>Total threads:</strong> 8\n",
       "                    </td>\n",
       "                </tr>\n",
       "                <tr>\n",
       "                    <td style=\"text-align: left;\">\n",
       "                        <strong>Started:</strong> 1 minute ago\n",
       "                    </td>\n",
       "                    <td style=\"text-align: left;\">\n",
       "                        <strong>Total memory:</strong> 24.91 GiB\n",
       "                    </td>\n",
       "                </tr>\n",
       "            </table>\n",
       "        </div>\n",
       "    </div>\n",
       "\n",
       "    <details style=\"margin-left: 48px;\">\n",
       "        <summary style=\"margin-bottom: 20px;\">\n",
       "            <h3 style=\"display: inline;\">Workers</h3>\n",
       "        </summary>\n",
       "\n",
       "        \n",
       "        <div style=\"margin-bottom: 20px;\">\n",
       "            <div style=\"width: 24px; height: 24px; background-color: #DBF5FF; border: 3px solid #4CC9FF; border-radius: 5px; position: absolute;\"> </div>\n",
       "            <div style=\"margin-left: 48px;\">\n",
       "            <details>\n",
       "                <summary>\n",
       "                    <h4 style=\"margin-bottom: 0px; display: inline;\">Worker: 0</h4>\n",
       "                </summary>\n",
       "                <table style=\"width: 100%; text-align: left;\">\n",
       "                    <tr>\n",
       "                        <td style=\"text-align: left;\">\n",
       "                            <strong>Comm: </strong> tcp://127.0.0.1:46677\n",
       "                        </td>\n",
       "                        <td style=\"text-align: left;\">\n",
       "                            <strong>Total threads: </strong> 2\n",
       "                        </td>\n",
       "                    </tr>\n",
       "                    <tr>\n",
       "                        <td style=\"text-align: left;\">\n",
       "                            <strong>Dashboard: </strong> <a href=\"http://127.0.0.1:41161/status\" target=\"_blank\">http://127.0.0.1:41161/status</a>\n",
       "                        </td>\n",
       "                        <td style=\"text-align: left;\">\n",
       "                            <strong>Memory: </strong> 6.23 GiB\n",
       "                        </td>\n",
       "                    </tr>\n",
       "                    <tr>\n",
       "                        <td style=\"text-align: left;\">\n",
       "                            <strong>Nanny: </strong> tcp://127.0.0.1:39395\n",
       "                        </td>\n",
       "                        <td style=\"text-align: left;\"></td>\n",
       "                    </tr>\n",
       "                    <tr>\n",
       "                        <td colspan=\"2\" style=\"text-align: left;\">\n",
       "                            <strong>Local directory: </strong> /home/work/dask-worker-space/worker-nvm_ji0_\n",
       "                        </td>\n",
       "                    </tr>\n",
       "\n",
       "                    \n",
       "\n",
       "                    \n",
       "\n",
       "                </table>\n",
       "            </details>\n",
       "            </div>\n",
       "        </div>\n",
       "        \n",
       "        <div style=\"margin-bottom: 20px;\">\n",
       "            <div style=\"width: 24px; height: 24px; background-color: #DBF5FF; border: 3px solid #4CC9FF; border-radius: 5px; position: absolute;\"> </div>\n",
       "            <div style=\"margin-left: 48px;\">\n",
       "            <details>\n",
       "                <summary>\n",
       "                    <h4 style=\"margin-bottom: 0px; display: inline;\">Worker: 1</h4>\n",
       "                </summary>\n",
       "                <table style=\"width: 100%; text-align: left;\">\n",
       "                    <tr>\n",
       "                        <td style=\"text-align: left;\">\n",
       "                            <strong>Comm: </strong> tcp://127.0.0.1:37403\n",
       "                        </td>\n",
       "                        <td style=\"text-align: left;\">\n",
       "                            <strong>Total threads: </strong> 2\n",
       "                        </td>\n",
       "                    </tr>\n",
       "                    <tr>\n",
       "                        <td style=\"text-align: left;\">\n",
       "                            <strong>Dashboard: </strong> <a href=\"http://127.0.0.1:41793/status\" target=\"_blank\">http://127.0.0.1:41793/status</a>\n",
       "                        </td>\n",
       "                        <td style=\"text-align: left;\">\n",
       "                            <strong>Memory: </strong> 6.23 GiB\n",
       "                        </td>\n",
       "                    </tr>\n",
       "                    <tr>\n",
       "                        <td style=\"text-align: left;\">\n",
       "                            <strong>Nanny: </strong> tcp://127.0.0.1:38941\n",
       "                        </td>\n",
       "                        <td style=\"text-align: left;\"></td>\n",
       "                    </tr>\n",
       "                    <tr>\n",
       "                        <td colspan=\"2\" style=\"text-align: left;\">\n",
       "                            <strong>Local directory: </strong> /home/work/dask-worker-space/worker-0cwfye60\n",
       "                        </td>\n",
       "                    </tr>\n",
       "\n",
       "                    \n",
       "\n",
       "                    \n",
       "\n",
       "                </table>\n",
       "            </details>\n",
       "            </div>\n",
       "        </div>\n",
       "        \n",
       "        <div style=\"margin-bottom: 20px;\">\n",
       "            <div style=\"width: 24px; height: 24px; background-color: #DBF5FF; border: 3px solid #4CC9FF; border-radius: 5px; position: absolute;\"> </div>\n",
       "            <div style=\"margin-left: 48px;\">\n",
       "            <details>\n",
       "                <summary>\n",
       "                    <h4 style=\"margin-bottom: 0px; display: inline;\">Worker: 2</h4>\n",
       "                </summary>\n",
       "                <table style=\"width: 100%; text-align: left;\">\n",
       "                    <tr>\n",
       "                        <td style=\"text-align: left;\">\n",
       "                            <strong>Comm: </strong> tcp://127.0.0.1:37143\n",
       "                        </td>\n",
       "                        <td style=\"text-align: left;\">\n",
       "                            <strong>Total threads: </strong> 2\n",
       "                        </td>\n",
       "                    </tr>\n",
       "                    <tr>\n",
       "                        <td style=\"text-align: left;\">\n",
       "                            <strong>Dashboard: </strong> <a href=\"http://127.0.0.1:41047/status\" target=\"_blank\">http://127.0.0.1:41047/status</a>\n",
       "                        </td>\n",
       "                        <td style=\"text-align: left;\">\n",
       "                            <strong>Memory: </strong> 6.23 GiB\n",
       "                        </td>\n",
       "                    </tr>\n",
       "                    <tr>\n",
       "                        <td style=\"text-align: left;\">\n",
       "                            <strong>Nanny: </strong> tcp://127.0.0.1:37175\n",
       "                        </td>\n",
       "                        <td style=\"text-align: left;\"></td>\n",
       "                    </tr>\n",
       "                    <tr>\n",
       "                        <td colspan=\"2\" style=\"text-align: left;\">\n",
       "                            <strong>Local directory: </strong> /home/work/dask-worker-space/worker-g91hg88s\n",
       "                        </td>\n",
       "                    </tr>\n",
       "\n",
       "                    \n",
       "\n",
       "                    \n",
       "\n",
       "                </table>\n",
       "            </details>\n",
       "            </div>\n",
       "        </div>\n",
       "        \n",
       "        <div style=\"margin-bottom: 20px;\">\n",
       "            <div style=\"width: 24px; height: 24px; background-color: #DBF5FF; border: 3px solid #4CC9FF; border-radius: 5px; position: absolute;\"> </div>\n",
       "            <div style=\"margin-left: 48px;\">\n",
       "            <details>\n",
       "                <summary>\n",
       "                    <h4 style=\"margin-bottom: 0px; display: inline;\">Worker: 3</h4>\n",
       "                </summary>\n",
       "                <table style=\"width: 100%; text-align: left;\">\n",
       "                    <tr>\n",
       "                        <td style=\"text-align: left;\">\n",
       "                            <strong>Comm: </strong> tcp://127.0.0.1:42219\n",
       "                        </td>\n",
       "                        <td style=\"text-align: left;\">\n",
       "                            <strong>Total threads: </strong> 2\n",
       "                        </td>\n",
       "                    </tr>\n",
       "                    <tr>\n",
       "                        <td style=\"text-align: left;\">\n",
       "                            <strong>Dashboard: </strong> <a href=\"http://127.0.0.1:34039/status\" target=\"_blank\">http://127.0.0.1:34039/status</a>\n",
       "                        </td>\n",
       "                        <td style=\"text-align: left;\">\n",
       "                            <strong>Memory: </strong> 6.23 GiB\n",
       "                        </td>\n",
       "                    </tr>\n",
       "                    <tr>\n",
       "                        <td style=\"text-align: left;\">\n",
       "                            <strong>Nanny: </strong> tcp://127.0.0.1:46507\n",
       "                        </td>\n",
       "                        <td style=\"text-align: left;\"></td>\n",
       "                    </tr>\n",
       "                    <tr>\n",
       "                        <td colspan=\"2\" style=\"text-align: left;\">\n",
       "                            <strong>Local directory: </strong> /home/work/dask-worker-space/worker-xa6ybjtz\n",
       "                        </td>\n",
       "                    </tr>\n",
       "\n",
       "                    \n",
       "\n",
       "                    \n",
       "\n",
       "                </table>\n",
       "            </details>\n",
       "            </div>\n",
       "        </div>\n",
       "        \n",
       "\n",
       "    </details>\n",
       "</div>\n",
       "\n",
       "        </details>\n",
       "    </div>\n",
       "</div>\n",
       "            </details>\n",
       "        \n",
       "\n",
       "    </div>\n",
       "</div>"
      ],
      "text/plain": [
       "<Client: 'tcp://127.0.0.1:42091' processes=4 threads=8, memory=24.91 GiB>"
      ]
     },
     "execution_count": 48,
     "metadata": {},
     "output_type": "execute_result"
    }
   ],
   "source": [
    "client"
   ]
  },
  {
   "cell_type": "markdown",
   "id": "5077de4a",
   "metadata": {},
   "source": [
    "### Model Selection\n",
    "\n",
    "<font color='red'>this section is wildly incomplete</font>\n",
    "\n",
    "[**sklearn - Decision Tree Regression with AdaBoost**](https://scikit-learn.org/stable/auto_examples/ensemble/plot_adaboost_regression.html)\n",
    "\n",
    "[https://examples.dask.org/machine-learning.html](https://examples.dask.org/machine-learning.html)"
   ]
  },
  {
   "cell_type": "code",
   "execution_count": 49,
   "id": "e601c4c0-6b3d-4773-8237-b71e0334f22c",
   "metadata": {},
   "outputs": [
    {
     "data": {
      "text/html": [
       "<div>\n",
       "<style scoped>\n",
       "    .dataframe tbody tr th:only-of-type {\n",
       "        vertical-align: middle;\n",
       "    }\n",
       "\n",
       "    .dataframe tbody tr th {\n",
       "        vertical-align: top;\n",
       "    }\n",
       "\n",
       "    .dataframe thead th {\n",
       "        text-align: right;\n",
       "    }\n",
       "</style>\n",
       "<table border=\"1\" class=\"dataframe\">\n",
       "  <thead>\n",
       "    <tr style=\"text-align: right;\">\n",
       "      <th></th>\n",
       "      <th>code</th>\n",
       "      <th>subject_id</th>\n",
       "      <th>timestampmean</th>\n",
       "      <th>timestampsum</th>\n",
       "      <th>x_phone_accelmean</th>\n",
       "      <th>x_phone_accelsum</th>\n",
       "      <th>y_phone_accelmean</th>\n",
       "      <th>y_phone_accelsum</th>\n",
       "      <th>z_phone_accelmean</th>\n",
       "      <th>z_phone_accelsum</th>\n",
       "      <th>...</th>\n",
       "      <th>y2_phone_gyromean</th>\n",
       "      <th>y2_phone_gyrosum</th>\n",
       "      <th>z2_phone_gyromean</th>\n",
       "      <th>z2_phone_gyrosum</th>\n",
       "      <th>cos_xy_phone_accel</th>\n",
       "      <th>cos_xz_phone_accel</th>\n",
       "      <th>cos_yz_phone_accel</th>\n",
       "      <th>cos_xy_phone_gyro</th>\n",
       "      <th>cos_xz_phone_gyro</th>\n",
       "      <th>cos_yz_phone_gyro</th>\n",
       "    </tr>\n",
       "  </thead>\n",
       "  <tbody>\n",
       "    <tr>\n",
       "      <th>0</th>\n",
       "      <td>A</td>\n",
       "      <td>1600</td>\n",
       "      <td>2.522115e+14</td>\n",
       "      <td>15132688817305588</td>\n",
       "      <td>-1.088191</td>\n",
       "      <td>-65.291443</td>\n",
       "      <td>9.776991</td>\n",
       "      <td>586.619446</td>\n",
       "      <td>0.786926</td>\n",
       "      <td>47.215576</td>\n",
       "      <td>...</td>\n",
       "      <td>0.624585</td>\n",
       "      <td>37.475090</td>\n",
       "      <td>0.177609</td>\n",
       "      <td>10.656511</td>\n",
       "      <td>0.368137</td>\n",
       "      <td>-0.059480</td>\n",
       "      <td>0.447446</td>\n",
       "      <td>-0.125410</td>\n",
       "      <td>-0.652048</td>\n",
       "      <td>0.143524</td>\n",
       "    </tr>\n",
       "    <tr>\n",
       "      <th>1</th>\n",
       "      <td>A</td>\n",
       "      <td>1600</td>\n",
       "      <td>2.522143e+14</td>\n",
       "      <td>15132859064251256</td>\n",
       "      <td>-1.182448</td>\n",
       "      <td>-70.946899</td>\n",
       "      <td>9.289057</td>\n",
       "      <td>557.343445</td>\n",
       "      <td>0.349670</td>\n",
       "      <td>20.980194</td>\n",
       "      <td>...</td>\n",
       "      <td>0.684395</td>\n",
       "      <td>41.063675</td>\n",
       "      <td>0.189320</td>\n",
       "      <td>11.359173</td>\n",
       "      <td>0.320871</td>\n",
       "      <td>-0.148576</td>\n",
       "      <td>0.412770</td>\n",
       "      <td>0.301750</td>\n",
       "      <td>-0.131988</td>\n",
       "      <td>0.686374</td>\n",
       "    </tr>\n",
       "    <tr>\n",
       "      <th>2</th>\n",
       "      <td>A</td>\n",
       "      <td>1600</td>\n",
       "      <td>2.522162e+14</td>\n",
       "      <td>15132971605566800</td>\n",
       "      <td>-0.962223</td>\n",
       "      <td>-57.733383</td>\n",
       "      <td>8.836941</td>\n",
       "      <td>530.216431</td>\n",
       "      <td>0.619604</td>\n",
       "      <td>37.176254</td>\n",
       "      <td>...</td>\n",
       "      <td>0.635198</td>\n",
       "      <td>38.111870</td>\n",
       "      <td>0.115479</td>\n",
       "      <td>6.928736</td>\n",
       "      <td>0.376083</td>\n",
       "      <td>-0.064385</td>\n",
       "      <td>0.396682</td>\n",
       "      <td>0.434420</td>\n",
       "      <td>0.279435</td>\n",
       "      <td>1.015295</td>\n",
       "    </tr>\n",
       "    <tr>\n",
       "      <th>3</th>\n",
       "      <td>A</td>\n",
       "      <td>1600</td>\n",
       "      <td>2.522201e+14</td>\n",
       "      <td>15133204744704668</td>\n",
       "      <td>-1.768243</td>\n",
       "      <td>-106.094604</td>\n",
       "      <td>10.371676</td>\n",
       "      <td>622.300598</td>\n",
       "      <td>-0.198828</td>\n",
       "      <td>-11.929657</td>\n",
       "      <td>...</td>\n",
       "      <td>0.521824</td>\n",
       "      <td>31.309423</td>\n",
       "      <td>0.203901</td>\n",
       "      <td>12.234046</td>\n",
       "      <td>0.280331</td>\n",
       "      <td>-0.270204</td>\n",
       "      <td>0.345054</td>\n",
       "      <td>0.189201</td>\n",
       "      <td>0.450593</td>\n",
       "      <td>-0.226450</td>\n",
       "    </tr>\n",
       "    <tr>\n",
       "      <th>4</th>\n",
       "      <td>A</td>\n",
       "      <td>1600</td>\n",
       "      <td>2.522213e+14</td>\n",
       "      <td>15133280628253460</td>\n",
       "      <td>-1.619576</td>\n",
       "      <td>-97.174561</td>\n",
       "      <td>10.002676</td>\n",
       "      <td>600.160583</td>\n",
       "      <td>0.601288</td>\n",
       "      <td>36.077286</td>\n",
       "      <td>...</td>\n",
       "      <td>0.612733</td>\n",
       "      <td>36.763958</td>\n",
       "      <td>0.218694</td>\n",
       "      <td>13.121645</td>\n",
       "      <td>0.273714</td>\n",
       "      <td>-0.153603</td>\n",
       "      <td>0.426261</td>\n",
       "      <td>0.315679</td>\n",
       "      <td>0.080716</td>\n",
       "      <td>0.433940</td>\n",
       "    </tr>\n",
       "  </tbody>\n",
       "</table>\n",
       "<p>5 rows × 46 columns</p>\n",
       "</div>"
      ],
      "text/plain": [
       "  code  subject_id  timestampmean       timestampsum  x_phone_accelmean  \\\n",
       "0    A        1600   2.522115e+14  15132688817305588          -1.088191   \n",
       "1    A        1600   2.522143e+14  15132859064251256          -1.182448   \n",
       "2    A        1600   2.522162e+14  15132971605566800          -0.962223   \n",
       "3    A        1600   2.522201e+14  15133204744704668          -1.768243   \n",
       "4    A        1600   2.522213e+14  15133280628253460          -1.619576   \n",
       "\n",
       "   x_phone_accelsum  y_phone_accelmean  y_phone_accelsum  z_phone_accelmean  \\\n",
       "0        -65.291443           9.776991        586.619446           0.786926   \n",
       "1        -70.946899           9.289057        557.343445           0.349670   \n",
       "2        -57.733383           8.836941        530.216431           0.619604   \n",
       "3       -106.094604          10.371676        622.300598          -0.198828   \n",
       "4        -97.174561          10.002676        600.160583           0.601288   \n",
       "\n",
       "   z_phone_accelsum  ...  y2_phone_gyromean  y2_phone_gyrosum  \\\n",
       "0         47.215576  ...           0.624585         37.475090   \n",
       "1         20.980194  ...           0.684395         41.063675   \n",
       "2         37.176254  ...           0.635198         38.111870   \n",
       "3        -11.929657  ...           0.521824         31.309423   \n",
       "4         36.077286  ...           0.612733         36.763958   \n",
       "\n",
       "   z2_phone_gyromean  z2_phone_gyrosum  cos_xy_phone_accel  \\\n",
       "0           0.177609         10.656511            0.368137   \n",
       "1           0.189320         11.359173            0.320871   \n",
       "2           0.115479          6.928736            0.376083   \n",
       "3           0.203901         12.234046            0.280331   \n",
       "4           0.218694         13.121645            0.273714   \n",
       "\n",
       "   cos_xz_phone_accel  cos_yz_phone_accel  cos_xy_phone_gyro  \\\n",
       "0           -0.059480            0.447446          -0.125410   \n",
       "1           -0.148576            0.412770           0.301750   \n",
       "2           -0.064385            0.396682           0.434420   \n",
       "3           -0.270204            0.345054           0.189201   \n",
       "4           -0.153603            0.426261           0.315679   \n",
       "\n",
       "   cos_xz_phone_gyro  cos_yz_phone_gyro  \n",
       "0          -0.652048           0.143524  \n",
       "1          -0.131988           0.686374  \n",
       "2           0.279435           1.015295  \n",
       "3           0.450593          -0.226450  \n",
       "4           0.080716           0.433940  \n",
       "\n",
       "[5 rows x 46 columns]"
      ]
     },
     "execution_count": 49,
     "metadata": {},
     "output_type": "execute_result"
    }
   ],
   "source": [
    "grouped_phone_df.head()"
   ]
  },
  {
   "cell_type": "markdown",
   "id": "58fbb35c-515f-48e8-9b95-9698d25aa5e8",
   "metadata": {},
   "source": [
    "[You should aim for partitions that have around 100MB of data each.](https://docs.dask.org/en/stable/dataframe-best-practices.html)\n",
    "- each of these dataframes is 130MB - 160MB\n",
    "\n",
    "- Use a Categorical for efficient storage of an object-dtype column with many repeated values.\n",
    "```python\n",
    ">>> df['object'].astype('category').memory_usage(deep=True)\n",
    "5244\n",
    "```"
   ]
  },
  {
   "cell_type": "code",
   "execution_count": 50,
   "id": "22b99b5d-20c0-43f1-b3ba-7838abcb1cbf",
   "metadata": {},
   "outputs": [
    {
     "data": {
      "text/plain": [
       "30.879038"
      ]
     },
     "execution_count": 50,
     "metadata": {},
     "output_type": "execute_result"
    }
   ],
   "source": [
    "grouped_phone_df['code'].memory_usage(deep=True) / 1_000_000"
   ]
  },
  {
   "cell_type": "code",
   "execution_count": 51,
   "id": "0416250b-5cee-4624-a410-0ac1bcf03137",
   "metadata": {},
   "outputs": [
    {
     "data": {
      "text/plain": [
       "0.534123"
      ]
     },
     "execution_count": 51,
     "metadata": {},
     "output_type": "execute_result"
    }
   ],
   "source": [
    "grouped_phone_df['code'].astype('category').memory_usage(deep=True) / 1_000_000"
   ]
  },
  {
   "cell_type": "code",
   "execution_count": 52,
   "id": "2323427c-2881-4d39-9e66-77d1bd458370",
   "metadata": {},
   "outputs": [
    {
     "data": {
      "text/plain": [
       "36.577364"
      ]
     },
     "execution_count": 52,
     "metadata": {},
     "output_type": "execute_result"
    }
   ],
   "source": [
    "grouped_watch_df['code'].memory_usage(deep=True) / 1_000_000"
   ]
  },
  {
   "cell_type": "code",
   "execution_count": 53,
   "id": "35c80209-daee-41f0-8e4b-0aea1a21bf3c",
   "metadata": {},
   "outputs": [
    {
     "data": {
      "text/plain": [
       "0.63237"
      ]
     },
     "execution_count": 53,
     "metadata": {},
     "output_type": "execute_result"
    }
   ],
   "source": [
    "grouped_watch_df['code'].astype('category').memory_usage(deep=True) / 1_000_000"
   ]
  },
  {
   "cell_type": "code",
   "execution_count": 54,
   "id": "3ecf55aa",
   "metadata": {},
   "outputs": [
    {
     "data": {
      "text/plain": [
       "133.098878"
      ]
     },
     "execution_count": 54,
     "metadata": {},
     "output_type": "execute_result"
    }
   ],
   "source": [
    "#grouped_phone_df.info(memory_usage='deep')\n",
    "grouped_phone_df.memory_usage(deep=True).sum() / 1_000_000"
   ]
  },
  {
   "cell_type": "code",
   "execution_count": 55,
   "id": "ea2ddc72-ce33-4c89-8274-c78aae9f851e",
   "metadata": {},
   "outputs": [
    {
     "data": {
      "text/plain": [
       "157.660628"
      ]
     },
     "execution_count": 55,
     "metadata": {},
     "output_type": "execute_result"
    }
   ],
   "source": [
    "#grouped_watch_df.info(memory_usage='deep')\n",
    "grouped_watch_df.memory_usage(deep=True).sum() / 1_000_000"
   ]
  },
  {
   "cell_type": "code",
   "execution_count": 56,
   "id": "e27752a2-5ed5-4b9c-9bb8-0e7261b7559b",
   "metadata": {},
   "outputs": [],
   "source": [
    "# achieve some memory savings\n",
    "'''\n",
    "we should get this into the parquet schema or convert as early as possible\n",
    "'''\n",
    "grouped_phone_df['code'] = grouped_phone_df['code'].astype('category')\n",
    "grouped_watch_df['code'] = grouped_watch_df['code'].astype('category')"
   ]
  },
  {
   "cell_type": "code",
   "execution_count": 57,
   "id": "64d463e1-daca-4333-aad3-3559d64da2cb",
   "metadata": {},
   "outputs": [
    {
     "data": {
      "text/plain": [
       "102.753963"
      ]
     },
     "execution_count": 57,
     "metadata": {},
     "output_type": "execute_result"
    }
   ],
   "source": [
    "# it worked :)\n",
    "#grouped_phone_df.info(memory_usage='deep')\n",
    "grouped_phone_df.memory_usage(deep=True).sum() / 1_000_000"
   ]
  },
  {
   "cell_type": "code",
   "execution_count": 58,
   "id": "8bc665ea-91b6-4f69-89cf-355ea2ab73ab",
   "metadata": {},
   "outputs": [
    {
     "data": {
      "text/plain": [
       "121.715634"
      ]
     },
     "execution_count": 58,
     "metadata": {},
     "output_type": "execute_result"
    }
   ],
   "source": [
    "# it worked :)\n",
    "#grouped_watch_df.info(memory_usage='deep')\n",
    "grouped_watch_df.memory_usage(deep=True).sum() / 1_000_000"
   ]
  },
  {
   "cell_type": "markdown",
   "id": "7e43f0db-1f06-474c-a133-f23f16e0c969",
   "metadata": {},
   "source": [
    "### now train test split"
   ]
  },
  {
   "cell_type": "code",
   "execution_count": 59,
   "id": "597df04f-54e8-45ee-b1b9-95025e8cc081",
   "metadata": {},
   "outputs": [
    {
     "data": {
      "text/plain": [
       "['x_phone_accelmean',\n",
       " 'x_phone_accelsum',\n",
       " 'y_phone_accelmean',\n",
       " 'y_phone_accelsum',\n",
       " 'z_phone_accelmean',\n",
       " 'z_phone_accelsum',\n",
       " 'xy_phone_accelmean',\n",
       " 'xy_phone_accelsum',\n",
       " 'yz_phone_accelmean',\n",
       " 'yz_phone_accelsum',\n",
       " 'xz_phone_accelmean',\n",
       " 'xz_phone_accelsum',\n",
       " 'x2_phone_accelmean',\n",
       " 'x2_phone_accelsum',\n",
       " 'y2_phone_accelmean',\n",
       " 'y2_phone_accelsum',\n",
       " 'z2_phone_accelmean',\n",
       " 'z2_phone_accelsum',\n",
       " 'x_phone_gyromean',\n",
       " 'x_phone_gyrosum',\n",
       " 'y_phone_gyromean',\n",
       " 'y_phone_gyrosum',\n",
       " 'z_phone_gyromean',\n",
       " 'z_phone_gyrosum',\n",
       " 'xy_phone_gyromean',\n",
       " 'xy_phone_gyrosum',\n",
       " 'yz_phone_gyromean',\n",
       " 'yz_phone_gyrosum',\n",
       " 'xz_phone_gyromean',\n",
       " 'xz_phone_gyrosum',\n",
       " 'x2_phone_gyromean',\n",
       " 'x2_phone_gyrosum',\n",
       " 'y2_phone_gyromean',\n",
       " 'y2_phone_gyrosum',\n",
       " 'z2_phone_gyromean',\n",
       " 'z2_phone_gyrosum',\n",
       " 'cos_xy_phone_accel',\n",
       " 'cos_xz_phone_accel',\n",
       " 'cos_yz_phone_accel',\n",
       " 'cos_xy_phone_gyro',\n",
       " 'cos_xz_phone_gyro',\n",
       " 'cos_yz_phone_gyro']"
      ]
     },
     "execution_count": 59,
     "metadata": {},
     "output_type": "execute_result"
    }
   ],
   "source": [
    "feat_cols = [col for col in grouped_phone_df][4:] # this slicing could change later\n",
    "feat_cols"
   ]
  },
  {
   "cell_type": "code",
   "execution_count": 60,
   "id": "370eba7b",
   "metadata": {},
   "outputs": [],
   "source": [
    "# TRAIN TEST SPLIT\n",
    "\n",
    "#df = grouped_phone_df\n",
    "df = dd.from_pandas(grouped_phone_df, npartitions=1)\n",
    "\n",
    "# split off labels\n",
    "#feat_cols = ['x', 'y', 'z']\n",
    "label_col = ['code']\n",
    "\n",
    "feature_df = df[feat_cols]\n",
    "label_df = df[label_col]\n",
    "\n",
    "X_train, x_test, y_train, y_test = train_test_split(feature_df, label_df, test_size=0.8, shuffle=True, random_state=seed)"
   ]
  },
  {
   "cell_type": "code",
   "execution_count": 61,
   "id": "aef0ee7c",
   "metadata": {},
   "outputs": [],
   "source": [
    "# SCALE DATA\n",
    "\n",
    "# instatiate scaler\n",
    "scaler = StandardScaler()\n",
    "# fit the scaler\n",
    "scalerModel = scaler.fit(X_train)\n",
    "# scale the training data\n",
    "X_train_scaled = scalerModel.transform(X_train)\n",
    "# scale the test data\n",
    "X_test_scaled = scalerModel.transform(x_test)"
   ]
  },
  {
   "cell_type": "code",
   "execution_count": 62,
   "id": "7ded986e",
   "metadata": {},
   "outputs": [],
   "source": [
    "# set up grid search parameters\n",
    "param_grid = {'max_depth'        : list(range(1, 10)), # play around with max depth\n",
    "              'min_samples_split': list(range(2, 10)), # must start at 2+\n",
    "              'criterion'        : ['gini','entropy'],\n",
    "             }"
   ]
  },
  {
   "cell_type": "markdown",
   "id": "d2e40012-a5d7-4b31-8acd-e4ca906ac6b8",
   "metadata": {},
   "source": [
    "# <font color='red'>this is where it blows up</font>"
   ]
  },
  {
   "cell_type": "code",
   "execution_count": 63,
   "id": "8f8978c1-e595-4238-9a5d-cd80516fe786",
   "metadata": {},
   "outputs": [
    {
     "ename": "NameError",
     "evalue": "name 'stop' is not defined",
     "output_type": "error",
     "traceback": [
      "\u001b[0;31m---------------------------------------------------------------------------\u001b[0m",
      "\u001b[0;31mNameError\u001b[0m                                 Traceback (most recent call last)",
      "Input \u001b[0;32mIn [63]\u001b[0m, in \u001b[0;36m<cell line: 1>\u001b[0;34m()\u001b[0m\n\u001b[0;32m----> 1\u001b[0m \u001b[43mstop\u001b[49m\n",
      "\u001b[0;31mNameError\u001b[0m: name 'stop' is not defined"
     ]
    }
   ],
   "source": [
    "stop"
   ]
  },
  {
   "cell_type": "code",
   "execution_count": null,
   "id": "15bf54d9",
   "metadata": {},
   "outputs": [],
   "source": [
    "# GRID SEARCH\n",
    "\n",
    "# instantiate base model\n",
    "dt_model = DecisionTreeClassifier(random_state=seed)\n",
    "\n",
    "# istantiate grid search object\n",
    "dt_model_grid_dask = dcv.GridSearchCV(dt_model, param_grid, cv=10)\n",
    "\n",
    "# execute grid search\n",
    "'''\n",
    "does this need joblib backend if we are using native dask?\n",
    "'''\n",
    "with joblib.parallel_backend(\"dask\"):\n",
    "    dt_model_grid_dask.fit(X_train_scaled, y_train)"
   ]
  },
  {
   "cell_type": "code",
   "execution_count": null,
   "id": "04616e29",
   "metadata": {},
   "outputs": [],
   "source": [
    "best_params = dt_model_grid_dask.best_params_\n",
    "print(best_params)"
   ]
  },
  {
   "cell_type": "code",
   "execution_count": null,
   "id": "f47a6484",
   "metadata": {},
   "outputs": [],
   "source": [
    "print(dt_model_grid_dask.best_score_)"
   ]
  },
  {
   "cell_type": "code",
   "execution_count": null,
   "id": "600813c0-9dba-4ee5-b9e2-4d075c77113c",
   "metadata": {},
   "outputs": [],
   "source": [
    "# now that we've performed a gridsearch, use parameters from out best model\n",
    "\n",
    "# instantiate best model\n",
    "best_dt_model = DecisionTreeClassifier(\n",
    "    max_depth=best_params['max_depth'],\n",
    "    min_samples_split=best_params['min_samples_split'],\n",
    "    criterion=best_params['criterion'],\n",
    "    random_state=seed\n",
    ")\n",
    "\n",
    "# fit model to training data\n",
    "'''\n",
    "does this need joblib backend if we are using native dask?\n",
    "'''\n",
    "with joblib.parallel_backend(\"dask\"):\n",
    "    best_dt_model.fit(X_train_scaled, y_train)\n",
    "\n",
    "# check accuracy from this model on test data\n",
    "best_dt_model.score(X_test_scaled, y_test)"
   ]
  },
  {
   "cell_type": "markdown",
   "id": "a1692893",
   "metadata": {},
   "source": [
    "## Analysis results"
   ]
  },
  {
   "cell_type": "markdown",
   "id": "ac8b598e",
   "metadata": {},
   "source": [
    "## Challenges & solutions"
   ]
  },
  {
   "cell_type": "markdown",
   "id": "4d9d39c8",
   "metadata": {},
   "source": [
    "## Insights gained"
   ]
  },
  {
   "cell_type": "markdown",
   "id": "c5ce8781",
   "metadata": {},
   "source": [
    "## Future work"
   ]
  },
  {
   "cell_type": "markdown",
   "id": "2b20bd37",
   "metadata": {},
   "source": [
    "## References\n",
    "\n",
    "1. Dask vs spark picture: https://medium.datadriveninvestor.com/pandas-dask-or-pyspark-what-should-you-choose-for-your-dataset-c0f67e1b1d36\n",
    "2. Accelerometer information https://en.wikipedia.org/wiki/Accelerometer\n",
    "3. Gyroscope Information https://en.wikipedia.org/wiki/Gyroscope"
   ]
  },
  {
   "cell_type": "code",
   "execution_count": 64,
   "id": "e4926b27",
   "metadata": {},
   "outputs": [],
   "source": [
    "# always close client connection at end of workflow\n",
    "client.shutdown()"
   ]
  },
  {
   "cell_type": "code",
   "execution_count": null,
   "id": "dab0876e",
   "metadata": {},
   "outputs": [],
   "source": []
  }
 ],
 "metadata": {
  "kernelspec": {
   "display_name": "Python 3 (ipykernel)",
   "language": "python",
   "name": "python3"
  },
  "language_info": {
   "codemirror_mode": {
    "name": "ipython",
    "version": 3
   },
   "file_extension": ".py",
   "mimetype": "text/x-python",
   "name": "python",
   "nbconvert_exporter": "python",
   "pygments_lexer": "ipython3",
   "version": "3.8.10"
  }
 },
 "nbformat": 4,
 "nbformat_minor": 5
}
