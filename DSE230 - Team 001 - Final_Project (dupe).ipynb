{
 "cells": [
  {
   "cell_type": "markdown",
   "id": "5d719acd",
   "metadata": {},
   "source": [
    "## Problem definition and data description\n",
    "\n",
    "### Problem Definition\n",
    "Our company (Spotify) would like to dynamically target advertising to non-premium members based on their physical activity while using Spotify services. For example, while a listener is enjoying a podcast and folding their laundry, they would receive an ad for laundry detergent. \n",
    "\n",
    "In addition Spotify also wishes to cater to our premium members by enhancing music recommendation/auto-play options based on a members physical activity. For example, while a user is exercising play up-tempo music, and while a user is eating pasta play Italian classics.\n",
    "\n",
    "### Data Description\n",
    "\n",
    "Accelerometer (measures proper acceleration) and Gyroscope (measures orientation and angular velocity) data was collected from 51 volunteer subjects. Each subject was asked to perform 18 tasks for 3 minutes each. The 18 tasks were a mix of physical activities that could be distinctly identified, such as walking, eating, laundry, etc. We (Spotify) tried to collect data for activities that our members might be doing while using our services. The tasks are listed below.\n",
    "\n",
    "![image info](./images/Activity-Code-Table.png)\n",
    "\n",
    "Each subject had a smartwatch placed on his/her dominant hand and a smartphone in their pocket. The smartphone and smartwatch both had an accelerometer and gyrocope, yielding four total sensors (Phone - Gyroscope, Phone - Accelerometer, Watch - Gyroscope, Watch - Accelerometer).\n",
    "\n",
    "![image info](./images/Human-With-Sensors.png)\n",
    "\n",
    "To accomodate the four sensors, the data is split up into 4 subdirectories, one for each device and sensor. \n",
    "\n",
    "![image info](./images/Sensor-Subdirectories.png)\n",
    "\n",
    "Each directory contains the sensor results for the 51 subject's performance of the 18 activities. The results for each subject are stored in a comma delimited text file. Since there are 51 subjects and 4 different sensors, there are a total of 204 text files. Each text file has the same six attributes: Subject-id, Activity Code, Timestamp, x, y, z\n",
    "\n",
    "![image info](./images/Raw-Data-Description.png)"
   ]
  },
  {
   "cell_type": "markdown",
   "id": "e79df222",
   "metadata": {
    "tags": []
   },
   "source": [
    "## Data preparation process\n",
    "\n",
    "Our data is pretty clean, we don't need to do a lot of preproccessing/data engineering. We really just need to do the ML side, which, lends itself more to the majority of work we need to do with this project. We stuck with dask so we could use the natural integration it has with python, as well as its similiar syntax to Pandas.\n",
    "\n",
    "To clean, prepare and train our data, we decided to go with dask. Our reasoning was that, while our data was large (approx. 15 million records, ~1 gb), it was not large enough to warrant the use of Spark. The image below summarizes our thoughts on the choice between dask vs spark.\n",
    "\n",
    "![image info](./images/Pandas-Dask-Spark-Compare.png)"
   ]
  },
  {
   "cell_type": "markdown",
   "id": "e7ffdaf8",
   "metadata": {},
   "source": [
    "### Importing the data\n",
    "\n",
    "To shortstep the inconvenience of downloading and importing over 200 text files, we decided to host all the data on github for easy access (https://github.com/gojandrooo/DSE-230/tree/main/data). To quickly pull the github data into a pandas dataframe, we defined a function collate_df that will pull in all data matching the parameters given."
   ]
  },
  {
   "cell_type": "markdown",
   "id": "66cebfd8-9efe-40e3-ac5a-f5a8fe804009",
   "metadata": {},
   "source": [
    "Begin by importing all the necessary libraries\n",
    "\n",
    "Running within *Docker* container you will need to install libraries not already included in the image.\n",
    "- comment/uncomment the `%pip install` cell (below)\n",
    "- run the cell, wait for the packages to install, and then restart notebook. \n",
    "- once installs are complete, comment out the cell and run all"
   ]
  },
  {
   "cell_type": "code",
   "execution_count": 1,
   "id": "0147ccf3",
   "metadata": {},
   "outputs": [
    {
     "name": "stdout",
     "output_type": "stream",
     "text": [
      "Collecting plotly\n",
      "  Downloading plotly-5.8.0-py2.py3-none-any.whl (15.2 MB)\n",
      "\u001b[K     |████████████████████████████████| 15.2 MB 7.2 MB/s eta 0:00:01\n",
      "\u001b[?25hCollecting tenacity>=6.2.0\n",
      "  Downloading tenacity-8.0.1-py3-none-any.whl (24 kB)\n",
      "Installing collected packages: tenacity, plotly\n",
      "Successfully installed plotly-5.8.0 tenacity-8.0.1\n",
      "Note: you may need to restart the kernel to use updated packages.\n"
     ]
    }
   ],
   "source": [
    "%pip install plotly"
   ]
  },
  {
   "cell_type": "code",
   "execution_count": 2,
   "id": "18a17cdd",
   "metadata": {},
   "outputs": [],
   "source": [
    "#set a random state seed for replication\n",
    "seed=23"
   ]
  },
  {
   "cell_type": "code",
   "execution_count": 3,
   "id": "b55ef5e0-4738-475f-b0a9-b986a2bed255",
   "metadata": {},
   "outputs": [],
   "source": [
    "# standard libraries\n",
    "import os\n",
    "import pandas as pd\n",
    "import numpy as np\n",
    "#import itertools as it\n",
    "\n",
    "# plotting libraries\n",
    "import matplotlib.pyplot as plt\n",
    "import seaborn as sns\n",
    "import plotly.express as px\n",
    "\n",
    "# distributed libraries\n",
    "import dask\n",
    "import dask.dataframe as dd\n",
    "import dask.array as da\n",
    "from dask.distributed import Client\n",
    "from dask import delayed\n",
    "import joblib\n",
    "\n",
    "# model processing libraries\n",
    "#import dask_distance\n",
    "from dask_ml.model_selection import train_test_split\n",
    "from dask_ml.preprocessing import StandardScaler\n",
    "#from sklearn.model_selection import GridSearchCV\n",
    "import dask_ml.model_selection as dcv\n",
    "\n",
    "# models\n",
    "# will need to update these with the models we use\n",
    "from sklearn.svm import SVC\n",
    "from sklearn.tree import DecisionTreeClassifier\n",
    "from sklearn.cluster import KMeans\n",
    "\n",
    "import ssl\n",
    "# needed to request files from GitHub when running within docker container\n",
    "ssl._create_default_https_context = ssl._create_unverified_context"
   ]
  },
  {
   "cell_type": "code",
   "execution_count": 4,
   "id": "31b49c17",
   "metadata": {},
   "outputs": [
    {
     "data": {
      "text/plain": [
       "{'ssl_context': None, 'require_encryption': False, 'extra_conn_args': {}}"
      ]
     },
     "execution_count": 4,
     "metadata": {},
     "output_type": "execute_result"
    }
   ],
   "source": [
    "# Start and connect to a local dask.distributed client\n",
    "client = Client(processes=True) # use all 4 cores\n",
    "client.connection_args"
   ]
  },
  {
   "cell_type": "markdown",
   "id": "1df2fa91-a025-45e3-8a66-e26a11ab5ead",
   "metadata": {},
   "source": [
    "Get data from github and prep files for analysis"
   ]
  },
  {
   "cell_type": "code",
   "execution_count": 5,
   "id": "11a388e6-a2ad-444b-86c0-e44fcbaa346e",
   "metadata": {
    "tags": []
   },
   "outputs": [],
   "source": [
    "# key for understanding which activity is being measured in a record\n",
    "activity_key_url = r\"https://raw.githubusercontent.com/gojandrooo/DSE-230/main/data/activity_key.txt\"\n",
    "\n",
    "#read the activity table from gtihub\n",
    "activity_key = pd.read_csv(activity_key_url, header=None)\n",
    "\n",
    "#split the data into a proper table\n",
    "activity_key = activity_key[0].str.replace(\" \", \"\").str.split(\"=\", expand=True)\n",
    "activity_key.columns = ['activity', 'code']"
   ]
  },
  {
   "cell_type": "code",
   "execution_count": 6,
   "id": "2220f631-cb75-4821-9047-17485d0e8ec2",
   "metadata": {},
   "outputs": [],
   "source": [
    "# #do not run unless you need cleaned parquet files locally\n",
    "# #cleaned parquet files should already be located on github\n",
    "\n",
    "# #below function takes the raw data on githup and converts to parquet files\n",
    "# #then stores the files on local machine\n",
    "# '''\n",
    "# def convert_raw_to_parquet():\n",
    "#     #base URL where raw data can be easly grabbed\n",
    "#     base_url = r\"https://raw.githubusercontent.com/gojandrooo/DSE-230/main/data\"\n",
    "\n",
    "#     # TOGGLE FOR DEVICE\n",
    "#     devices = [\"phone\", \"watch\"]\n",
    "\n",
    "#     # TOGGLE FOR MEASUREMENT TYPE\n",
    "#     data_types = [\"accel\", \"gyro\"]\n",
    "    \n",
    "    \n",
    "#     # create list of local folders\n",
    "#     for data_type in data_types:\n",
    "#         for device in devices:\n",
    "#             os.makedirs(r\"data/parquet/\" + \"/\" + device + \"/\" + data_type, exist_ok=True) \n",
    "    \n",
    "\n",
    "#     locs = {}\n",
    "#     for data_type in data_types:\n",
    "#         for device in devices:\n",
    "#             file_locs = []\n",
    "#             for user_id in range(1600, 1651):\n",
    "#                 url = base_url + \"/\" + device + \"/\" + data_type + f\"/data_{user_id}_{data_type}_{device}.txt\"\n",
    "#                 df = pd.read_csv(url, header=None)\n",
    "#                 df.columns = ['subject_id', 'code', 'timestamp', 'x', 'y', 'z']\n",
    "#                 custom_dtypes = {\"subject_id\": \"int16\", \"x\": \"float32\", \"y\": \"float32\", \"z\": \"float32\"}\n",
    "#                 df['z'] = df['z'].str.replace(\";\", \"\")\n",
    "#                 #df = df.reset_index(drop = True)\n",
    "#                 df = df.astype(custom_dtypes)\n",
    "#                 df['index'] = df['subject_id'].astype('str') + df['code'] + df['timestamp'].astype('str')\n",
    "#                 fname = r\"data/parquet/\" + \"/\" + device + \"/\" + data_type + f\"/data_{user_id}_{data_type}_{device}.gzip\"\n",
    "#                 df.to_parquet(fname)\n",
    "#                 file_locs.append(fname)\n",
    "#             locs[device, data_type] = file_locs\n",
    "# '''"
   ]
  },
  {
   "cell_type": "code",
   "execution_count": 7,
   "id": "de3c4388-9f67-4b01-acbc-4e218c5c88fc",
   "metadata": {},
   "outputs": [],
   "source": [
    "# NOTE\n",
    "# this still only grabs three spreadsheets, update for production\n",
    "\n",
    "# dask_df = dd.read_parquet('./data/parquet/phone/accel/data_1600_accel_phone.gzip', index = 'index')\n",
    "def collate_dask_df(device, data_type):\n",
    "\n",
    "    '''\n",
    "    returns a single dask dataframe from multiple text files hosted on github\n",
    "    \n",
    "    device: [\"phone\", \"watch\"]\n",
    "    \n",
    "    data_type: [\"accel\", \"gyro\"]\n",
    "    ----------------------------\n",
    "    '''\n",
    "    \n",
    "    base_url = './data/parquet'\n",
    "\n",
    "    # TOGGLE FOR DEVICE\n",
    "    device = device\n",
    "\n",
    "    # TOGGLE FOR MEASUREMENT TYPE\n",
    "    data_type = data_type\n",
    "    \n",
    "    # create list of all file names\n",
    "    file_names = [f\"/data_{user_id}_{data_type}_{device}.gzip\" for user_id in range(1600, 1651)]\n",
    "\n",
    "    # create urls of all files\n",
    "    loop_urls = [base_url + \"/\" + device + \"/\" + data_type + file_name for file_name in file_names]\n",
    "    \n",
    "    #import the data\n",
    "    dask_df = dd.read_parquet(loop_urls, index = 'index') # PRODUCTION, all of the files\n",
    "\n",
    "   # dask df output \n",
    "    return dask_df "
   ]
  },
  {
   "cell_type": "markdown",
   "id": "cffc71f2-74e5-4a7e-83bb-a0364b16e560",
   "metadata": {},
   "source": [
    "### Importing the data"
   ]
  },
  {
   "cell_type": "code",
   "execution_count": 8,
   "id": "aef5c452-738b-4c9b-afe6-0c7ccf7bcdf6",
   "metadata": {},
   "outputs": [
    {
     "data": {
      "text/plain": [
       "'http://127.0.0.1:8787/status'"
      ]
     },
     "execution_count": 8,
     "metadata": {},
     "output_type": "execute_result"
    }
   ],
   "source": [
    "#get link to client dashboard\n",
    "client.dashboard_link"
   ]
  },
  {
   "cell_type": "code",
   "execution_count": 9,
   "id": "b003b22a-b2f1-4eaa-b64d-d3c85bfbd4af",
   "metadata": {},
   "outputs": [
    {
     "name": "stdout",
     "output_type": "stream",
     "text": [
      "            dd     rows  columns\n",
      "0  phone_accel  4804403        6\n",
      "1   phone_gyro  3608635        6\n",
      "2  watch_accel  3777046        6\n",
      "3   watch_gyro  3440342        6\n",
      "CPU times: user 760 ms, sys: 142 ms, total: 901 ms\n",
      "Wall time: 4.76 s\n"
     ]
    }
   ],
   "source": [
    "%%time\n",
    "dd_ref = {\n",
    "    'phone_accel': collate_dask_df(\"phone\", \"accel\"),\n",
    "    'phone_gyro': collate_dask_df(\"phone\", \"gyro\"),\n",
    "    'watch_accel': collate_dask_df(\"watch\", \"accel\"),\n",
    "    'watch_gyro': collate_dask_df(\"watch\", \"gyro\")\n",
    "}\n",
    "\n",
    "print(pd.DataFrame({\n",
    "    'dd': [k for k in dd_ref.keys()],\n",
    "    'rows': [dd.shape[0].compute() for dd in dd_ref.values()],\n",
    "    'columns': [dd.shape[1] for dd in dd_ref.values()]\n",
    "}))"
   ]
  },
  {
   "cell_type": "code",
   "execution_count": 10,
   "id": "d6d12b9a-c390-4525-bcef-61a1d32c4a55",
   "metadata": {},
   "outputs": [
    {
     "name": "stdout",
     "output_type": "stream",
     "text": [
      "            dd     rows  columns\n",
      "0  phone_accel  4804403       12\n",
      "1   phone_gyro  3608635       12\n",
      "2  watch_accel  3777046       12\n",
      "3   watch_gyro  3440342       12\n",
      "CPU times: user 1.82 s, sys: 116 ms, total: 1.94 s\n",
      "Wall time: 3.77 s\n"
     ]
    }
   ],
   "source": [
    "%%time\n",
    "for k, v_dd in dd_ref.items():\n",
    "    # create linear combinations of the axes\n",
    "    dd_ref[k] = v_dd.assign(\n",
    "        xy = v_dd['x'] * v_dd['y'],\n",
    "        yz = v_dd['y'] * v_dd['z'],\n",
    "        xz = v_dd['x'] * v_dd['z'],\n",
    "        x2 = v_dd['x']**2,\n",
    "        y2 = v_dd['y']**2,\n",
    "        z2 = v_dd['z']**2\n",
    "    )\n",
    "    \n",
    "print(pd.DataFrame({\n",
    "    'dd': [k for k in dd_ref.keys()],\n",
    "    'rows': [dd.shape[0].compute() for dd in dd_ref.values()],\n",
    "    'columns': [dd.shape[1] for dd in dd_ref.values()]\n",
    "}))"
   ]
  },
  {
   "cell_type": "markdown",
   "id": "7ba34c0c-700d-4952-b4d9-42bd0a843572",
   "metadata": {
    "tags": []
   },
   "source": [
    "### Merge files based on index"
   ]
  },
  {
   "cell_type": "code",
   "execution_count": 11,
   "id": "4411dbd9-cbb4-4bad-a8b6-741289f9ea51",
   "metadata": {},
   "outputs": [],
   "source": [
    "#define columns for left df so we don't get unecessary duplicate columns \n",
    "feat_cols = ['x', 'y', 'z', 'xy', 'yz', 'xz', 'x2', 'y2', 'z2']\n",
    "\n",
    "#merge the device files (eg phone accel and phone gyro/watch accel and watch gyro)\n",
    "def merge_dfs(df1, df2, suffixes):\n",
    "    df1partitions = df1.npartitions\n",
    "    df2partitions = df2.npartitions\n",
    "    partitions = min(df1partitions, df2partitions)\n",
    "    merged =  dd.merge(\n",
    "        df1, df2[feat_cols], how='inner', left_index=True, right_index=True, suffixes=suffixes\n",
    "    ).reset_index(drop = True)\n",
    "    return dd.from_pandas(merged.compute(), npartitions = partitions)"
   ]
  },
  {
   "cell_type": "code",
   "execution_count": 12,
   "id": "d3d63f80-3c38-4521-862d-25daa6f2b459",
   "metadata": {},
   "outputs": [],
   "source": [
    "#define a dictionary for keeping track of the before and after shapes\n",
    "shape_ref = {}"
   ]
  },
  {
   "cell_type": "code",
   "execution_count": 13,
   "id": "2255eba3-b992-439a-abe9-94ef389ba5b2",
   "metadata": {},
   "outputs": [
    {
     "name": "stdout",
     "output_type": "stream",
     "text": [
      "CPU times: user 2.9 s, sys: 639 ms, total: 3.54 s\n",
      "Wall time: 11.1 s\n"
     ]
    }
   ],
   "source": [
    "%%time\n",
    "#combine phone data frame using function above\n",
    "phone_df = merge_dfs(dd_ref['phone_accel'], dd_ref['phone_gyro'][feat_cols], ('_phone_accel', '_phone_gyro'))\n",
    "\n",
    "#record the shape of the merged data\n",
    "shape_ref['phone_df'] = len(phone_df)\n",
    "\n",
    "#remove the individual data frames from memory\n",
    "client.cancel(dd_ref['phone_accel'])\n",
    "client.cancel(dd_ref['phone_gyro'])"
   ]
  },
  {
   "cell_type": "code",
   "execution_count": 14,
   "id": "bf3c938e-a10e-4af4-9681-6384efbe5fec",
   "metadata": {},
   "outputs": [
    {
     "name": "stdout",
     "output_type": "stream",
     "text": [
      "CPU times: user 2.78 s, sys: 671 ms, total: 3.45 s\n",
      "Wall time: 8.91 s\n"
     ]
    }
   ],
   "source": [
    "%%time\n",
    "#combine phone data frame using function above\n",
    "watch_df = merge_dfs(dd_ref['watch_accel'], dd_ref['watch_gyro'][feat_cols], ('_watch_accel', '_watch_gyro'))\n",
    "\n",
    "#record the shape of the merged data\n",
    "shape_ref['watch_df'] = len(watch_df)\n",
    "\n",
    "#remove the individual data frames from memory\n",
    "client.cancel(dd_ref['watch_accel'])\n",
    "client.cancel(dd_ref['watch_gyro'])"
   ]
  },
  {
   "cell_type": "code",
   "execution_count": 15,
   "id": "b18267f3-306d-414b-a181-d1da1eecefb5",
   "metadata": {},
   "outputs": [],
   "source": [
    "#free up some memory\n",
    "del dd_ref"
   ]
  },
  {
   "cell_type": "markdown",
   "id": "47a56432-eff4-40e1-a532-9bd17818b0eb",
   "metadata": {},
   "source": [
    "### Grouping the data into 3 second intervals\n",
    "Since every recording is ~ 50 ms (1/1000 second) we thought it would be good to aggregate the data into seconds"
   ]
  },
  {
   "cell_type": "code",
   "execution_count": 16,
   "id": "bea55c8e-fa1c-4dc5-985f-969bf464f76b",
   "metadata": {},
   "outputs": [],
   "source": [
    "# takes the combined sensor data and bins the data by taking the average depending on the seconds required\n",
    "\n",
    "def group_into_seconds(df, num_seconds):\n",
    "    \n",
    "    # calculates the number of rows to average over by computing  num_seconds in ms and diving by 50 (sensor interval)\n",
    "    n_rows = (num_seconds*1000)/50\n",
    "    print('Grouped every', n_rows, 'rows')\n",
    "    \n",
    "    #reset the index twice to clear out any weird grouping logic\n",
    "    tempdf = df.reset_index(drop=True).reset_index()\n",
    "    \n",
    "    # rename of the index column\n",
    "    tempdf = tempdf.rename(columns= {'index': 'grouper'})\n",
    "    \n",
    "    # creates a variable to group within n_seconds\n",
    "    tempdf['grouper'] = tempdf['grouper']//n_rows\n",
    "    \n",
    "    # aggregate to n_seconds\n",
    "    tempdf = tempdf.groupby(by = ['grouper', 'code', 'subject_id']).agg(['mean', 'sum']).reset_index()\n",
    "    # drop superflous grouper column\n",
    "    del tempdf['grouper']\n",
    "    \n",
    "    return tempdf\n",
    "    # return df.groupby(np.arange(len(df))//n_rows).mean().compute()\n"
   ]
  },
  {
   "cell_type": "code",
   "execution_count": 17,
   "id": "dce4c18b",
   "metadata": {},
   "outputs": [],
   "source": [
    "#just testing to make sure it returns the same exact data frame when growing rows = 1\n",
    "#group_into_seconds(phone_df.compute(),50/1000)"
   ]
  },
  {
   "cell_type": "code",
   "execution_count": 18,
   "id": "c400cdef-b753-4250-83bf-076582d93ac0",
   "metadata": {},
   "outputs": [
    {
     "name": "stdout",
     "output_type": "stream",
     "text": [
      "Grouped every 60.0 rows\n",
      "Grouped every 60.0 rows\n"
     ]
    }
   ],
   "source": [
    "agg_time = 3\n",
    "\n",
    "#define a new df for the phone by rolling up the observations into agg_time second intervals\n",
    "grouped_phone_df = group_into_seconds(phone_df.compute(),agg_time)\n",
    "\n",
    "#record the shape of the grouped data\n",
    "shape_ref['grouped_phone_df'] = len(grouped_phone_df)\n",
    "\n",
    "#remove the individual data frames from memory\n",
    "client.cancel(phone_df)\n",
    "del phone_df\n",
    "\n",
    "#define a new df for the watch by rolling up the observations into agg_time second intervals\n",
    "grouped_watch_df = group_into_seconds(watch_df.compute(),agg_time)\n",
    "\n",
    "#record the shape of the grouped data\n",
    "shape_ref['grouped_watch_df'] = len(grouped_watch_df)\n",
    "\n",
    "#remove the individual data frames from memory\n",
    "client.cancel(watch_df)\n",
    "del watch_df"
   ]
  },
  {
   "cell_type": "code",
   "execution_count": 19,
   "id": "35ebc0df-4e97-487b-ae92-ed0290d47155",
   "metadata": {},
   "outputs": [],
   "source": [
    "#flatten out multi index\n",
    "grouped_phone_df.columns = list(map(''.join, grouped_phone_df.columns.values))\n",
    "grouped_watch_df.columns = list(map(''.join, grouped_watch_df.columns.values))"
   ]
  },
  {
   "cell_type": "code",
   "execution_count": 20,
   "id": "14326ac2-8d6c-4d7e-ada8-0f5cfc2c3509",
   "metadata": {},
   "outputs": [
    {
     "data": {
      "text/html": [
       "<div>\n",
       "<style scoped>\n",
       "    .dataframe tbody tr th:only-of-type {\n",
       "        vertical-align: middle;\n",
       "    }\n",
       "\n",
       "    .dataframe tbody tr th {\n",
       "        vertical-align: top;\n",
       "    }\n",
       "\n",
       "    .dataframe thead th {\n",
       "        text-align: right;\n",
       "    }\n",
       "</style>\n",
       "<table border=\"1\" class=\"dataframe\">\n",
       "  <thead>\n",
       "    <tr style=\"text-align: right;\">\n",
       "      <th></th>\n",
       "      <th>code</th>\n",
       "      <th>subject_id</th>\n",
       "      <th>timestampmean</th>\n",
       "      <th>timestampsum</th>\n",
       "      <th>x_phone_accelmean</th>\n",
       "      <th>x_phone_accelsum</th>\n",
       "      <th>y_phone_accelmean</th>\n",
       "      <th>y_phone_accelsum</th>\n",
       "      <th>z_phone_accelmean</th>\n",
       "      <th>z_phone_accelsum</th>\n",
       "      <th>...</th>\n",
       "      <th>yz_phone_gyromean</th>\n",
       "      <th>yz_phone_gyrosum</th>\n",
       "      <th>xz_phone_gyromean</th>\n",
       "      <th>xz_phone_gyrosum</th>\n",
       "      <th>x2_phone_gyromean</th>\n",
       "      <th>x2_phone_gyrosum</th>\n",
       "      <th>y2_phone_gyromean</th>\n",
       "      <th>y2_phone_gyrosum</th>\n",
       "      <th>z2_phone_gyromean</th>\n",
       "      <th>z2_phone_gyrosum</th>\n",
       "    </tr>\n",
       "  </thead>\n",
       "  <tbody>\n",
       "    <tr>\n",
       "      <th>0</th>\n",
       "      <td>A</td>\n",
       "      <td>1600</td>\n",
       "      <td>2.522115e+14</td>\n",
       "      <td>15132688817305588</td>\n",
       "      <td>-1.088191</td>\n",
       "      <td>-65.291443</td>\n",
       "      <td>9.776991</td>\n",
       "      <td>586.619446</td>\n",
       "      <td>0.786926</td>\n",
       "      <td>47.215576</td>\n",
       "      <td>...</td>\n",
       "      <td>0.110786</td>\n",
       "      <td>6.647181</td>\n",
       "      <td>-0.008090</td>\n",
       "      <td>-0.485390</td>\n",
       "      <td>0.460516</td>\n",
       "      <td>27.630941</td>\n",
       "      <td>0.624585</td>\n",
       "      <td>37.475090</td>\n",
       "      <td>0.177609</td>\n",
       "      <td>10.656511</td>\n",
       "    </tr>\n",
       "    <tr>\n",
       "      <th>1</th>\n",
       "      <td>A</td>\n",
       "      <td>1600</td>\n",
       "      <td>2.522143e+14</td>\n",
       "      <td>15132859064251256</td>\n",
       "      <td>-1.182448</td>\n",
       "      <td>-70.946899</td>\n",
       "      <td>9.289057</td>\n",
       "      <td>557.343445</td>\n",
       "      <td>0.349670</td>\n",
       "      <td>20.980194</td>\n",
       "      <td>...</td>\n",
       "      <td>0.070088</td>\n",
       "      <td>4.205255</td>\n",
       "      <td>-0.011651</td>\n",
       "      <td>-0.699064</td>\n",
       "      <td>0.417917</td>\n",
       "      <td>25.075031</td>\n",
       "      <td>0.684395</td>\n",
       "      <td>41.063675</td>\n",
       "      <td>0.189320</td>\n",
       "      <td>11.359173</td>\n",
       "    </tr>\n",
       "    <tr>\n",
       "      <th>2</th>\n",
       "      <td>A</td>\n",
       "      <td>1600</td>\n",
       "      <td>2.522162e+14</td>\n",
       "      <td>15132971605566800</td>\n",
       "      <td>-0.962223</td>\n",
       "      <td>-57.733383</td>\n",
       "      <td>8.836941</td>\n",
       "      <td>530.216431</td>\n",
       "      <td>0.619604</td>\n",
       "      <td>37.176254</td>\n",
       "      <td>...</td>\n",
       "      <td>0.022254</td>\n",
       "      <td>1.335235</td>\n",
       "      <td>0.023129</td>\n",
       "      <td>1.387727</td>\n",
       "      <td>0.515981</td>\n",
       "      <td>30.958885</td>\n",
       "      <td>0.635198</td>\n",
       "      <td>38.111870</td>\n",
       "      <td>0.115479</td>\n",
       "      <td>6.928736</td>\n",
       "    </tr>\n",
       "    <tr>\n",
       "      <th>3</th>\n",
       "      <td>A</td>\n",
       "      <td>1600</td>\n",
       "      <td>2.522201e+14</td>\n",
       "      <td>15133204744704668</td>\n",
       "      <td>-1.768243</td>\n",
       "      <td>-106.094604</td>\n",
       "      <td>10.371676</td>\n",
       "      <td>622.300598</td>\n",
       "      <td>-0.198828</td>\n",
       "      <td>-11.929657</td>\n",
       "      <td>...</td>\n",
       "      <td>0.127865</td>\n",
       "      <td>7.671916</td>\n",
       "      <td>-0.015409</td>\n",
       "      <td>-0.924527</td>\n",
       "      <td>0.546038</td>\n",
       "      <td>32.762260</td>\n",
       "      <td>0.521824</td>\n",
       "      <td>31.309423</td>\n",
       "      <td>0.203901</td>\n",
       "      <td>12.234046</td>\n",
       "    </tr>\n",
       "    <tr>\n",
       "      <th>4</th>\n",
       "      <td>A</td>\n",
       "      <td>1600</td>\n",
       "      <td>2.522213e+14</td>\n",
       "      <td>15133280628253460</td>\n",
       "      <td>-1.619576</td>\n",
       "      <td>-97.174561</td>\n",
       "      <td>10.002676</td>\n",
       "      <td>600.160583</td>\n",
       "      <td>0.601288</td>\n",
       "      <td>36.077286</td>\n",
       "      <td>...</td>\n",
       "      <td>0.072089</td>\n",
       "      <td>4.325358</td>\n",
       "      <td>-0.097817</td>\n",
       "      <td>-5.868999</td>\n",
       "      <td>0.511612</td>\n",
       "      <td>30.696747</td>\n",
       "      <td>0.612733</td>\n",
       "      <td>36.763958</td>\n",
       "      <td>0.218694</td>\n",
       "      <td>13.121645</td>\n",
       "    </tr>\n",
       "  </tbody>\n",
       "</table>\n",
       "<p>5 rows × 40 columns</p>\n",
       "</div>"
      ],
      "text/plain": [
       "  code  subject_id  timestampmean       timestampsum  x_phone_accelmean  \\\n",
       "0    A        1600   2.522115e+14  15132688817305588          -1.088191   \n",
       "1    A        1600   2.522143e+14  15132859064251256          -1.182448   \n",
       "2    A        1600   2.522162e+14  15132971605566800          -0.962223   \n",
       "3    A        1600   2.522201e+14  15133204744704668          -1.768243   \n",
       "4    A        1600   2.522213e+14  15133280628253460          -1.619576   \n",
       "\n",
       "   x_phone_accelsum  y_phone_accelmean  y_phone_accelsum  z_phone_accelmean  \\\n",
       "0        -65.291443           9.776991        586.619446           0.786926   \n",
       "1        -70.946899           9.289057        557.343445           0.349670   \n",
       "2        -57.733383           8.836941        530.216431           0.619604   \n",
       "3       -106.094604          10.371676        622.300598          -0.198828   \n",
       "4        -97.174561          10.002676        600.160583           0.601288   \n",
       "\n",
       "   z_phone_accelsum  ...  yz_phone_gyromean  yz_phone_gyrosum  \\\n",
       "0         47.215576  ...           0.110786          6.647181   \n",
       "1         20.980194  ...           0.070088          4.205255   \n",
       "2         37.176254  ...           0.022254          1.335235   \n",
       "3        -11.929657  ...           0.127865          7.671916   \n",
       "4         36.077286  ...           0.072089          4.325358   \n",
       "\n",
       "   xz_phone_gyromean  xz_phone_gyrosum  x2_phone_gyromean  x2_phone_gyrosum  \\\n",
       "0          -0.008090         -0.485390           0.460516         27.630941   \n",
       "1          -0.011651         -0.699064           0.417917         25.075031   \n",
       "2           0.023129          1.387727           0.515981         30.958885   \n",
       "3          -0.015409         -0.924527           0.546038         32.762260   \n",
       "4          -0.097817         -5.868999           0.511612         30.696747   \n",
       "\n",
       "   y2_phone_gyromean  y2_phone_gyrosum  z2_phone_gyromean  z2_phone_gyrosum  \n",
       "0           0.624585         37.475090           0.177609         10.656511  \n",
       "1           0.684395         41.063675           0.189320         11.359173  \n",
       "2           0.635198         38.111870           0.115479          6.928736  \n",
       "3           0.521824         31.309423           0.203901         12.234046  \n",
       "4           0.612733         36.763958           0.218694         13.121645  \n",
       "\n",
       "[5 rows x 40 columns]"
      ]
     },
     "execution_count": 20,
     "metadata": {},
     "output_type": "execute_result"
    }
   ],
   "source": [
    "grouped_phone_df.head()"
   ]
  },
  {
   "cell_type": "code",
   "execution_count": 21,
   "id": "436f82a1-6d74-42be-be15-3c66a98bd169",
   "metadata": {},
   "outputs": [
    {
     "data": {
      "text/html": [
       "<div>\n",
       "<style scoped>\n",
       "    .dataframe tbody tr th:only-of-type {\n",
       "        vertical-align: middle;\n",
       "    }\n",
       "\n",
       "    .dataframe tbody tr th {\n",
       "        vertical-align: top;\n",
       "    }\n",
       "\n",
       "    .dataframe thead th {\n",
       "        text-align: right;\n",
       "    }\n",
       "</style>\n",
       "<table border=\"1\" class=\"dataframe\">\n",
       "  <thead>\n",
       "    <tr style=\"text-align: right;\">\n",
       "      <th></th>\n",
       "      <th>code</th>\n",
       "      <th>subject_id</th>\n",
       "      <th>timestampmean</th>\n",
       "      <th>timestampsum</th>\n",
       "      <th>x_watch_accelmean</th>\n",
       "      <th>x_watch_accelsum</th>\n",
       "      <th>y_watch_accelmean</th>\n",
       "      <th>y_watch_accelsum</th>\n",
       "      <th>z_watch_accelmean</th>\n",
       "      <th>z_watch_accelsum</th>\n",
       "      <th>...</th>\n",
       "      <th>yz_watch_gyromean</th>\n",
       "      <th>yz_watch_gyrosum</th>\n",
       "      <th>xz_watch_gyromean</th>\n",
       "      <th>xz_watch_gyrosum</th>\n",
       "      <th>x2_watch_gyromean</th>\n",
       "      <th>x2_watch_gyrosum</th>\n",
       "      <th>y2_watch_gyromean</th>\n",
       "      <th>y2_watch_gyrosum</th>\n",
       "      <th>z2_watch_gyromean</th>\n",
       "      <th>z2_watch_gyrosum</th>\n",
       "    </tr>\n",
       "  </thead>\n",
       "  <tbody>\n",
       "    <tr>\n",
       "      <th>0</th>\n",
       "      <td>A</td>\n",
       "      <td>1600</td>\n",
       "      <td>9.042919e+13</td>\n",
       "      <td>5425751389202750</td>\n",
       "      <td>11.053740</td>\n",
       "      <td>663.224426</td>\n",
       "      <td>-0.988267</td>\n",
       "      <td>-59.295998</td>\n",
       "      <td>1.454547</td>\n",
       "      <td>87.272842</td>\n",
       "      <td>...</td>\n",
       "      <td>2.798181</td>\n",
       "      <td>167.890839</td>\n",
       "      <td>1.148958</td>\n",
       "      <td>68.937477</td>\n",
       "      <td>2.795315</td>\n",
       "      <td>167.718903</td>\n",
       "      <td>1.408411</td>\n",
       "      <td>84.504639</td>\n",
       "      <td>10.946582</td>\n",
       "      <td>656.794922</td>\n",
       "    </tr>\n",
       "    <tr>\n",
       "      <th>1</th>\n",
       "      <td>A</td>\n",
       "      <td>1600</td>\n",
       "      <td>9.043241e+13</td>\n",
       "      <td>5425944666112750</td>\n",
       "      <td>12.343656</td>\n",
       "      <td>740.619385</td>\n",
       "      <td>-1.432870</td>\n",
       "      <td>-85.972191</td>\n",
       "      <td>-0.617235</td>\n",
       "      <td>-37.034111</td>\n",
       "      <td>...</td>\n",
       "      <td>5.316412</td>\n",
       "      <td>318.984711</td>\n",
       "      <td>2.254787</td>\n",
       "      <td>135.287216</td>\n",
       "      <td>3.099644</td>\n",
       "      <td>185.978653</td>\n",
       "      <td>3.292323</td>\n",
       "      <td>197.539398</td>\n",
       "      <td>18.774887</td>\n",
       "      <td>1126.493286</td>\n",
       "    </tr>\n",
       "    <tr>\n",
       "      <th>2</th>\n",
       "      <td>A</td>\n",
       "      <td>1600</td>\n",
       "      <td>9.043472e+13</td>\n",
       "      <td>5426083306905580</td>\n",
       "      <td>13.097301</td>\n",
       "      <td>785.838074</td>\n",
       "      <td>-1.533905</td>\n",
       "      <td>-92.034309</td>\n",
       "      <td>-0.990252</td>\n",
       "      <td>-59.415108</td>\n",
       "      <td>...</td>\n",
       "      <td>4.419897</td>\n",
       "      <td>265.193817</td>\n",
       "      <td>1.121004</td>\n",
       "      <td>67.260223</td>\n",
       "      <td>2.787872</td>\n",
       "      <td>167.272324</td>\n",
       "      <td>2.604578</td>\n",
       "      <td>156.274658</td>\n",
       "      <td>15.706801</td>\n",
       "      <td>942.408081</td>\n",
       "    </tr>\n",
       "    <tr>\n",
       "      <th>3</th>\n",
       "      <td>A</td>\n",
       "      <td>1600</td>\n",
       "      <td>9.043986e+13</td>\n",
       "      <td>5426391558970240</td>\n",
       "      <td>11.783632</td>\n",
       "      <td>707.017944</td>\n",
       "      <td>-1.341611</td>\n",
       "      <td>-80.496651</td>\n",
       "      <td>-1.186696</td>\n",
       "      <td>-71.201759</td>\n",
       "      <td>...</td>\n",
       "      <td>1.142224</td>\n",
       "      <td>68.533432</td>\n",
       "      <td>2.599034</td>\n",
       "      <td>155.942062</td>\n",
       "      <td>6.492970</td>\n",
       "      <td>389.578156</td>\n",
       "      <td>1.481625</td>\n",
       "      <td>88.897514</td>\n",
       "      <td>11.490375</td>\n",
       "      <td>689.422424</td>\n",
       "    </tr>\n",
       "    <tr>\n",
       "      <th>4</th>\n",
       "      <td>A</td>\n",
       "      <td>1600</td>\n",
       "      <td>9.044140e+13</td>\n",
       "      <td>5426483980411200</td>\n",
       "      <td>11.927145</td>\n",
       "      <td>715.628662</td>\n",
       "      <td>-1.680111</td>\n",
       "      <td>-100.806664</td>\n",
       "      <td>-1.159442</td>\n",
       "      <td>-69.566521</td>\n",
       "      <td>...</td>\n",
       "      <td>2.673024</td>\n",
       "      <td>160.381454</td>\n",
       "      <td>1.267020</td>\n",
       "      <td>76.021194</td>\n",
       "      <td>4.158214</td>\n",
       "      <td>249.492844</td>\n",
       "      <td>2.160534</td>\n",
       "      <td>129.632019</td>\n",
       "      <td>15.027987</td>\n",
       "      <td>901.679199</td>\n",
       "    </tr>\n",
       "  </tbody>\n",
       "</table>\n",
       "<p>5 rows × 40 columns</p>\n",
       "</div>"
      ],
      "text/plain": [
       "  code  subject_id  timestampmean      timestampsum  x_watch_accelmean  \\\n",
       "0    A        1600   9.042919e+13  5425751389202750          11.053740   \n",
       "1    A        1600   9.043241e+13  5425944666112750          12.343656   \n",
       "2    A        1600   9.043472e+13  5426083306905580          13.097301   \n",
       "3    A        1600   9.043986e+13  5426391558970240          11.783632   \n",
       "4    A        1600   9.044140e+13  5426483980411200          11.927145   \n",
       "\n",
       "   x_watch_accelsum  y_watch_accelmean  y_watch_accelsum  z_watch_accelmean  \\\n",
       "0        663.224426          -0.988267        -59.295998           1.454547   \n",
       "1        740.619385          -1.432870        -85.972191          -0.617235   \n",
       "2        785.838074          -1.533905        -92.034309          -0.990252   \n",
       "3        707.017944          -1.341611        -80.496651          -1.186696   \n",
       "4        715.628662          -1.680111       -100.806664          -1.159442   \n",
       "\n",
       "   z_watch_accelsum  ...  yz_watch_gyromean  yz_watch_gyrosum  \\\n",
       "0         87.272842  ...           2.798181        167.890839   \n",
       "1        -37.034111  ...           5.316412        318.984711   \n",
       "2        -59.415108  ...           4.419897        265.193817   \n",
       "3        -71.201759  ...           1.142224         68.533432   \n",
       "4        -69.566521  ...           2.673024        160.381454   \n",
       "\n",
       "   xz_watch_gyromean  xz_watch_gyrosum  x2_watch_gyromean  x2_watch_gyrosum  \\\n",
       "0           1.148958         68.937477           2.795315        167.718903   \n",
       "1           2.254787        135.287216           3.099644        185.978653   \n",
       "2           1.121004         67.260223           2.787872        167.272324   \n",
       "3           2.599034        155.942062           6.492970        389.578156   \n",
       "4           1.267020         76.021194           4.158214        249.492844   \n",
       "\n",
       "   y2_watch_gyromean  y2_watch_gyrosum  z2_watch_gyromean  z2_watch_gyrosum  \n",
       "0           1.408411         84.504639          10.946582        656.794922  \n",
       "1           3.292323        197.539398          18.774887       1126.493286  \n",
       "2           2.604578        156.274658          15.706801        942.408081  \n",
       "3           1.481625         88.897514          11.490375        689.422424  \n",
       "4           2.160534        129.632019          15.027987        901.679199  \n",
       "\n",
       "[5 rows x 40 columns]"
      ]
     },
     "execution_count": 21,
     "metadata": {},
     "output_type": "execute_result"
    }
   ],
   "source": [
    "grouped_watch_df.head()"
   ]
  },
  {
   "cell_type": "code",
   "execution_count": 22,
   "id": "039886c4-f96d-496a-a5c2-5f5a4e2b0457",
   "metadata": {},
   "outputs": [
    {
     "data": {
      "text/plain": [
       "{'phone_df': 2909149,\n",
       " 'watch_df': 3368542,\n",
       " 'grouped_phone_df': 532395,\n",
       " 'grouped_watch_df': 630642}"
      ]
     },
     "execution_count": 22,
     "metadata": {},
     "output_type": "execute_result"
    }
   ],
   "source": [
    "shape_ref"
   ]
  },
  {
   "cell_type": "code",
   "execution_count": 24,
   "id": "37ba99f7-6db3-4cf8-8f37-a7a17c2a746d",
   "metadata": {},
   "outputs": [
    {
     "data": {
      "image/png": "[encoded data removed]",
      "text/plain": [
       "<Figure size 640x480 with 1 Axes>"
      ]
     },
     "metadata": {
      "needs_background": "light"
     },
     "output_type": "display_data"
    },
    {
     "name": "stdout",
     "output_type": "stream",
     "text": [
      "{'phone_df': 2909149, 'watch_df': 3368542, 'grouped_phone_df': 532395, 'grouped_watch_df': 630642}\n"
     ]
    }
   ],
   "source": [
    "plt.figure(figsize=(8, 6), dpi=80)\n",
    "plt.bar(range(len(shape_ref)), list(shape_ref.values()), align='center')\n",
    "plt.xticks(range(len(shape_ref)), list(shape_ref.keys()))\n",
    "plt.title('Phone and Watch DF before and after grouping by 3 seconds')\n",
    "plt.show()\n",
    "print(shape_ref)"
   ]
  },
  {
   "cell_type": "markdown",
   "id": "d2c538fd-0d70-42ec-872d-2428b8094787",
   "metadata": {},
   "source": [
    "## We are now in pandas"
   ]
  },
  {
   "cell_type": "markdown",
   "id": "8914e40e-2dc1-41b2-bc89-a40cf96997f5",
   "metadata": {},
   "source": [
    "#### Compute Cosine Similarity between x, y, z vectors"
   ]
  },
  {
   "cell_type": "code",
   "execution_count": 25,
   "id": "581c8d2a-54e7-4760-9650-18ea7ac1d97a",
   "metadata": {},
   "outputs": [],
   "source": [
    "# def mag_calc(arr):\n",
    "#     '''magnitude of a vector'''\n",
    "#     mag = np.sqrt(arr.dot(arr))\n",
    "#     return mag\n",
    "\n",
    "# def cos_sim(arr_1, arr_2):\n",
    "#     '''\n",
    "#     cosine similarity of two vectors\n",
    "#     to calculate distance, subtract output from 1\n",
    "#     '''\n",
    "#     # dot product of the vectors\n",
    "#     numerator = np.dot(arr_1, arr_2)\n",
    "    \n",
    "#     # magnitude of the vectors\n",
    "#     arr_1_mag = mag_calc(arr_1)\n",
    "#     arr_2_mag = mag_calc(arr_2)\n",
    "    \n",
    "#     denominator = arr_1_mag * arr_2_mag\n",
    "    \n",
    "#     cos = numerator / denominator\n",
    "    \n",
    "#     return cos\n",
    "\n",
    "# # create meaningless arrays for testing\n",
    "# x = np.random.randint(-5, 5, size=100)\n",
    "# y = np.random.randint(-5, 5, size=100)\n",
    "\n",
    "# cos_sim(x, y)"
   ]
  },
  {
   "cell_type": "code",
   "execution_count": 26,
   "id": "7cd3d57c-8734-4ba5-b600-c2c9b1c3dedb",
   "metadata": {},
   "outputs": [],
   "source": [
    "def cosine_calc(df, left_col, right_col, device, data_type):\n",
    "    # denominator\n",
    "    left_col_den = (left_col + \"2_\" + device + \"_\" + data_type + \"sum\")\n",
    "    right_col_den = (right_col + \"2_\" + device + \"_\" + data_type + \"sum\")\n",
    "    \n",
    "    numerator = df[left_col + right_col + \"_\" + device + \"_\" + data_type + \"sum\"]\n",
    "    denominator = np.sqrt(df[left_col_den] * df[right_col_den])\n",
    "    \n",
    "    cos = numerator / denominator\n",
    "    \n",
    "    return cos"
   ]
  },
  {
   "cell_type": "code",
   "execution_count": 27,
   "id": "5ea1571f-edb4-4dc2-8962-d3da3949493a",
   "metadata": {},
   "outputs": [
    {
     "name": "stdout",
     "output_type": "stream",
     "text": [
      "CPU times: user 20.5 ms, sys: 176 µs, total: 20.6 ms\n",
      "Wall time: 18.5 ms\n"
     ]
    }
   ],
   "source": [
    "%%time\n",
    "# phone accel\n",
    "grouped_phone_df['cos_xy_phone_accel'] = cosine_calc(grouped_phone_df, 'x', 'y', 'phone', 'accel')\n",
    "grouped_phone_df['cos_xz_phone_accel'] = cosine_calc(grouped_phone_df, 'x', 'z', 'phone', 'accel')\n",
    "grouped_phone_df['cos_yz_phone_accel'] = cosine_calc(grouped_phone_df, 'y', 'z', 'phone', 'accel')\n",
    "# phone gyro\n",
    "grouped_phone_df['cos_xy_phone_gyro'] = cosine_calc(grouped_phone_df, 'x', 'y', 'phone', 'gyro')\n",
    "grouped_phone_df['cos_xz_phone_gyro'] = cosine_calc(grouped_phone_df, 'x', 'z', 'phone', 'gyro')\n",
    "grouped_phone_df['cos_yz_phone_gyro'] = cosine_calc(grouped_phone_df, 'y', 'z', 'phone', 'gyro')\n",
    "\n",
    "# watch accel\n",
    "grouped_watch_df['cos_xy_watch_accel'] = cosine_calc(grouped_watch_df, 'x', 'y', 'watch', 'accel')\n",
    "grouped_watch_df['cos_xz_watch_accel'] = cosine_calc(grouped_watch_df, 'x', 'z', 'watch', 'accel')\n",
    "grouped_watch_df['cos_yz_watch_accel'] = cosine_calc(grouped_watch_df, 'y', 'z', 'watch', 'accel')\n",
    "# watch gyro\n",
    "grouped_watch_df['cos_xy_watch_gyro'] = cosine_calc(grouped_watch_df, 'x', 'y', 'watch', 'gyro')\n",
    "grouped_watch_df['cos_xz_watch_gyro'] = cosine_calc(grouped_watch_df, 'x', 'z', 'watch', 'gyro')\n",
    "grouped_watch_df['cos_yz_watch_gyro'] = cosine_calc(grouped_watch_df, 'y', 'z', 'watch', 'gyro')"
   ]
  },
  {
   "cell_type": "code",
   "execution_count": 28,
   "id": "d9a82af1-d1d8-4589-9979-cf1ed30d0a5d",
   "metadata": {},
   "outputs": [],
   "source": [
    "#get rid of columns used to construct cos\n",
    "grouped_phone_df = grouped_phone_df[['code', 'x_phone_accelmean', 'x_phone_accelsum', 'y_phone_accelmean',\n",
    "       'y_phone_accelsum', 'z_phone_accelmean', 'z_phone_accelsum',\n",
    "       'x_phone_gyromean', 'x_phone_gyrosum', 'y_phone_gyromean',\n",
    "       'y_phone_gyrosum', 'z_phone_gyromean', 'z_phone_gyrosum',\n",
    "       'cos_xy_phone_accel', 'cos_xz_phone_accel', 'cos_yz_phone_accel',\n",
    "       'cos_xy_phone_gyro', 'cos_xz_phone_gyro', 'cos_yz_phone_gyro']]\n",
    "\n",
    "grouped_watch_df = grouped_watch_df[['code', 'x_watch_accelmean', 'x_watch_accelsum', 'y_watch_accelmean',\n",
    "       'y_watch_accelsum', 'z_watch_accelmean', 'z_watch_accelsum',\n",
    "       'x_watch_gyromean', 'x_watch_gyrosum', 'y_watch_gyromean',\n",
    "       'y_watch_gyrosum', 'z_watch_gyromean', 'z_watch_gyrosum',\n",
    "       'cos_xy_watch_accel', 'cos_xz_watch_accel', 'cos_yz_watch_accel',\n",
    "       'cos_xy_watch_gyro', 'cos_xz_watch_gyro', 'cos_yz_watch_gyro']]"
   ]
  },
  {
   "cell_type": "code",
   "execution_count": 29,
   "id": "d528303f-0fd9-4679-a525-79a2eae9fd5c",
   "metadata": {},
   "outputs": [
    {
     "data": {
      "text/html": [
       "<div>\n",
       "<style scoped>\n",
       "    .dataframe tbody tr th:only-of-type {\n",
       "        vertical-align: middle;\n",
       "    }\n",
       "\n",
       "    .dataframe tbody tr th {\n",
       "        vertical-align: top;\n",
       "    }\n",
       "\n",
       "    .dataframe thead th {\n",
       "        text-align: right;\n",
       "    }\n",
       "</style>\n",
       "<table border=\"1\" class=\"dataframe\">\n",
       "  <thead>\n",
       "    <tr style=\"text-align: right;\">\n",
       "      <th></th>\n",
       "      <th>code</th>\n",
       "      <th>x_phone_accelmean</th>\n",
       "      <th>x_phone_accelsum</th>\n",
       "      <th>y_phone_accelmean</th>\n",
       "      <th>y_phone_accelsum</th>\n",
       "      <th>z_phone_accelmean</th>\n",
       "      <th>z_phone_accelsum</th>\n",
       "      <th>x_phone_gyromean</th>\n",
       "      <th>x_phone_gyrosum</th>\n",
       "      <th>y_phone_gyromean</th>\n",
       "      <th>y_phone_gyrosum</th>\n",
       "      <th>z_phone_gyromean</th>\n",
       "      <th>z_phone_gyrosum</th>\n",
       "      <th>cos_xy_phone_accel</th>\n",
       "      <th>cos_xz_phone_accel</th>\n",
       "      <th>cos_yz_phone_accel</th>\n",
       "      <th>cos_xy_phone_gyro</th>\n",
       "      <th>cos_xz_phone_gyro</th>\n",
       "      <th>cos_yz_phone_gyro</th>\n",
       "    </tr>\n",
       "  </thead>\n",
       "  <tbody>\n",
       "    <tr>\n",
       "      <th>0</th>\n",
       "      <td>A</td>\n",
       "      <td>-1.088191</td>\n",
       "      <td>-65.291443</td>\n",
       "      <td>9.776991</td>\n",
       "      <td>586.619446</td>\n",
       "      <td>0.786926</td>\n",
       "      <td>47.215576</td>\n",
       "      <td>-0.150771</td>\n",
       "      <td>-9.046265</td>\n",
       "      <td>0.083512</td>\n",
       "      <td>5.010742</td>\n",
       "      <td>-0.035710</td>\n",
       "      <td>-2.142578</td>\n",
       "      <td>-0.567636</td>\n",
       "      <td>-0.030267</td>\n",
       "      <td>0.341594</td>\n",
       "      <td>-0.392207</td>\n",
       "      <td>-0.028287</td>\n",
       "      <td>0.332628</td>\n",
       "    </tr>\n",
       "    <tr>\n",
       "      <th>1</th>\n",
       "      <td>A</td>\n",
       "      <td>-1.182448</td>\n",
       "      <td>-70.946899</td>\n",
       "      <td>9.289057</td>\n",
       "      <td>557.343445</td>\n",
       "      <td>0.349670</td>\n",
       "      <td>20.980194</td>\n",
       "      <td>-0.061406</td>\n",
       "      <td>-3.684387</td>\n",
       "      <td>0.222785</td>\n",
       "      <td>13.367096</td>\n",
       "      <td>0.024281</td>\n",
       "      <td>1.456833</td>\n",
       "      <td>-0.456546</td>\n",
       "      <td>0.040798</td>\n",
       "      <td>0.065060</td>\n",
       "      <td>-0.441133</td>\n",
       "      <td>-0.041421</td>\n",
       "      <td>0.194711</td>\n",
       "    </tr>\n",
       "    <tr>\n",
       "      <th>2</th>\n",
       "      <td>A</td>\n",
       "      <td>-0.962223</td>\n",
       "      <td>-57.733383</td>\n",
       "      <td>8.836941</td>\n",
       "      <td>530.216431</td>\n",
       "      <td>0.619604</td>\n",
       "      <td>37.176254</td>\n",
       "      <td>0.020968</td>\n",
       "      <td>1.258057</td>\n",
       "      <td>0.227736</td>\n",
       "      <td>13.664139</td>\n",
       "      <td>0.047242</td>\n",
       "      <td>2.834549</td>\n",
       "      <td>-0.492868</td>\n",
       "      <td>0.050539</td>\n",
       "      <td>0.210506</td>\n",
       "      <td>-0.537460</td>\n",
       "      <td>0.094751</td>\n",
       "      <td>0.082168</td>\n",
       "    </tr>\n",
       "    <tr>\n",
       "      <th>3</th>\n",
       "      <td>A</td>\n",
       "      <td>-1.768243</td>\n",
       "      <td>-106.094604</td>\n",
       "      <td>10.371676</td>\n",
       "      <td>622.300598</td>\n",
       "      <td>-0.198828</td>\n",
       "      <td>-11.929657</td>\n",
       "      <td>0.162605</td>\n",
       "      <td>9.756317</td>\n",
       "      <td>-0.061611</td>\n",
       "      <td>-3.696671</td>\n",
       "      <td>-0.012255</td>\n",
       "      <td>-0.735275</td>\n",
       "      <td>-0.726313</td>\n",
       "      <td>0.311922</td>\n",
       "      <td>-0.186672</td>\n",
       "      <td>-0.248085</td>\n",
       "      <td>-0.046179</td>\n",
       "      <td>0.391996</td>\n",
       "    </tr>\n",
       "    <tr>\n",
       "      <th>4</th>\n",
       "      <td>A</td>\n",
       "      <td>-1.619576</td>\n",
       "      <td>-97.174561</td>\n",
       "      <td>10.002676</td>\n",
       "      <td>600.160583</td>\n",
       "      <td>0.601288</td>\n",
       "      <td>36.077286</td>\n",
       "      <td>0.022449</td>\n",
       "      <td>1.346924</td>\n",
       "      <td>0.154298</td>\n",
       "      <td>9.257904</td>\n",
       "      <td>0.004550</td>\n",
       "      <td>0.273026</td>\n",
       "      <td>-0.646401</td>\n",
       "      <td>0.021985</td>\n",
       "      <td>0.252195</td>\n",
       "      <td>-0.376746</td>\n",
       "      <td>-0.292431</td>\n",
       "      <td>0.196932</td>\n",
       "    </tr>\n",
       "  </tbody>\n",
       "</table>\n",
       "</div>"
      ],
      "text/plain": [
       "  code  x_phone_accelmean  x_phone_accelsum  y_phone_accelmean  \\\n",
       "0    A          -1.088191        -65.291443           9.776991   \n",
       "1    A          -1.182448        -70.946899           9.289057   \n",
       "2    A          -0.962223        -57.733383           8.836941   \n",
       "3    A          -1.768243       -106.094604          10.371676   \n",
       "4    A          -1.619576        -97.174561          10.002676   \n",
       "\n",
       "   y_phone_accelsum  z_phone_accelmean  z_phone_accelsum  x_phone_gyromean  \\\n",
       "0        586.619446           0.786926         47.215576         -0.150771   \n",
       "1        557.343445           0.349670         20.980194         -0.061406   \n",
       "2        530.216431           0.619604         37.176254          0.020968   \n",
       "3        622.300598          -0.198828        -11.929657          0.162605   \n",
       "4        600.160583           0.601288         36.077286          0.022449   \n",
       "\n",
       "   x_phone_gyrosum  y_phone_gyromean  y_phone_gyrosum  z_phone_gyromean  \\\n",
       "0        -9.046265          0.083512         5.010742         -0.035710   \n",
       "1        -3.684387          0.222785        13.367096          0.024281   \n",
       "2         1.258057          0.227736        13.664139          0.047242   \n",
       "3         9.756317         -0.061611        -3.696671         -0.012255   \n",
       "4         1.346924          0.154298         9.257904          0.004550   \n",
       "\n",
       "   z_phone_gyrosum  cos_xy_phone_accel  cos_xz_phone_accel  \\\n",
       "0        -2.142578           -0.567636           -0.030267   \n",
       "1         1.456833           -0.456546            0.040798   \n",
       "2         2.834549           -0.492868            0.050539   \n",
       "3        -0.735275           -0.726313            0.311922   \n",
       "4         0.273026           -0.646401            0.021985   \n",
       "\n",
       "   cos_yz_phone_accel  cos_xy_phone_gyro  cos_xz_phone_gyro  cos_yz_phone_gyro  \n",
       "0            0.341594          -0.392207          -0.028287           0.332628  \n",
       "1            0.065060          -0.441133          -0.041421           0.194711  \n",
       "2            0.210506          -0.537460           0.094751           0.082168  \n",
       "3           -0.186672          -0.248085          -0.046179           0.391996  \n",
       "4            0.252195          -0.376746          -0.292431           0.196932  "
      ]
     },
     "execution_count": 29,
     "metadata": {},
     "output_type": "execute_result"
    }
   ],
   "source": [
    "grouped_phone_df.head()"
   ]
  },
  {
   "cell_type": "code",
   "execution_count": 30,
   "id": "aabd1be7-a5f4-41c5-8bf2-26ccdd9d223b",
   "metadata": {},
   "outputs": [
    {
     "data": {
      "text/html": [
       "<div>\n",
       "<style scoped>\n",
       "    .dataframe tbody tr th:only-of-type {\n",
       "        vertical-align: middle;\n",
       "    }\n",
       "\n",
       "    .dataframe tbody tr th {\n",
       "        vertical-align: top;\n",
       "    }\n",
       "\n",
       "    .dataframe thead th {\n",
       "        text-align: right;\n",
       "    }\n",
       "</style>\n",
       "<table border=\"1\" class=\"dataframe\">\n",
       "  <thead>\n",
       "    <tr style=\"text-align: right;\">\n",
       "      <th></th>\n",
       "      <th>code</th>\n",
       "      <th>x_watch_accelmean</th>\n",
       "      <th>x_watch_accelsum</th>\n",
       "      <th>y_watch_accelmean</th>\n",
       "      <th>y_watch_accelsum</th>\n",
       "      <th>z_watch_accelmean</th>\n",
       "      <th>z_watch_accelsum</th>\n",
       "      <th>x_watch_gyromean</th>\n",
       "      <th>x_watch_gyrosum</th>\n",
       "      <th>y_watch_gyromean</th>\n",
       "      <th>y_watch_gyrosum</th>\n",
       "      <th>z_watch_gyromean</th>\n",
       "      <th>z_watch_gyrosum</th>\n",
       "      <th>cos_xy_watch_accel</th>\n",
       "      <th>cos_xz_watch_accel</th>\n",
       "      <th>cos_yz_watch_accel</th>\n",
       "      <th>cos_xy_watch_gyro</th>\n",
       "      <th>cos_xz_watch_gyro</th>\n",
       "      <th>cos_yz_watch_gyro</th>\n",
       "    </tr>\n",
       "  </thead>\n",
       "  <tbody>\n",
       "    <tr>\n",
       "      <th>0</th>\n",
       "      <td>A</td>\n",
       "      <td>11.053740</td>\n",
       "      <td>663.224426</td>\n",
       "      <td>-0.988267</td>\n",
       "      <td>-59.295998</td>\n",
       "      <td>1.454547</td>\n",
       "      <td>87.272842</td>\n",
       "      <td>-0.500267</td>\n",
       "      <td>-30.016029</td>\n",
       "      <td>-0.100770</td>\n",
       "      <td>-6.046201</td>\n",
       "      <td>-0.119755</td>\n",
       "      <td>-7.185278</td>\n",
       "      <td>-0.476966</td>\n",
       "      <td>0.122065</td>\n",
       "      <td>-0.305006</td>\n",
       "      <td>0.280676</td>\n",
       "      <td>0.207706</td>\n",
       "      <td>0.712643</td>\n",
       "    </tr>\n",
       "    <tr>\n",
       "      <th>1</th>\n",
       "      <td>A</td>\n",
       "      <td>12.343656</td>\n",
       "      <td>740.619385</td>\n",
       "      <td>-1.432870</td>\n",
       "      <td>-85.972191</td>\n",
       "      <td>-0.617235</td>\n",
       "      <td>-37.034111</td>\n",
       "      <td>-0.185540</td>\n",
       "      <td>-11.132421</td>\n",
       "      <td>-0.101503</td>\n",
       "      <td>-6.090171</td>\n",
       "      <td>-0.319535</td>\n",
       "      <td>-19.172112</td>\n",
       "      <td>-0.473731</td>\n",
       "      <td>-0.304035</td>\n",
       "      <td>-0.232638</td>\n",
       "      <td>0.099714</td>\n",
       "      <td>0.295570</td>\n",
       "      <td>0.676206</td>\n",
       "    </tr>\n",
       "    <tr>\n",
       "      <th>2</th>\n",
       "      <td>A</td>\n",
       "      <td>13.097301</td>\n",
       "      <td>785.838074</td>\n",
       "      <td>-1.533905</td>\n",
       "      <td>-92.034309</td>\n",
       "      <td>-0.990252</td>\n",
       "      <td>-59.415108</td>\n",
       "      <td>0.181939</td>\n",
       "      <td>10.916325</td>\n",
       "      <td>-0.035247</td>\n",
       "      <td>-2.114802</td>\n",
       "      <td>0.158339</td>\n",
       "      <td>9.500322</td>\n",
       "      <td>-0.466977</td>\n",
       "      <td>-0.386948</td>\n",
       "      <td>-0.232112</td>\n",
       "      <td>0.061849</td>\n",
       "      <td>0.169405</td>\n",
       "      <td>0.691034</td>\n",
       "    </tr>\n",
       "    <tr>\n",
       "      <th>3</th>\n",
       "      <td>A</td>\n",
       "      <td>11.783632</td>\n",
       "      <td>707.017944</td>\n",
       "      <td>-1.341611</td>\n",
       "      <td>-80.496651</td>\n",
       "      <td>-1.186696</td>\n",
       "      <td>-71.201759</td>\n",
       "      <td>0.361979</td>\n",
       "      <td>21.718712</td>\n",
       "      <td>-0.047745</td>\n",
       "      <td>-2.864674</td>\n",
       "      <td>-0.167495</td>\n",
       "      <td>-10.049710</td>\n",
       "      <td>-0.477756</td>\n",
       "      <td>-0.368554</td>\n",
       "      <td>-0.048467</td>\n",
       "      <td>0.017487</td>\n",
       "      <td>0.300901</td>\n",
       "      <td>0.276831</td>\n",
       "    </tr>\n",
       "    <tr>\n",
       "      <th>4</th>\n",
       "      <td>A</td>\n",
       "      <td>11.927145</td>\n",
       "      <td>715.628662</td>\n",
       "      <td>-1.680111</td>\n",
       "      <td>-100.806664</td>\n",
       "      <td>-1.159442</td>\n",
       "      <td>-69.566521</td>\n",
       "      <td>-0.083575</td>\n",
       "      <td>-5.014497</td>\n",
       "      <td>0.015928</td>\n",
       "      <td>0.955660</td>\n",
       "      <td>0.124208</td>\n",
       "      <td>7.452503</td>\n",
       "      <td>-0.485931</td>\n",
       "      <td>-0.470164</td>\n",
       "      <td>0.251036</td>\n",
       "      <td>-0.150073</td>\n",
       "      <td>0.160280</td>\n",
       "      <td>0.469107</td>\n",
       "    </tr>\n",
       "  </tbody>\n",
       "</table>\n",
       "</div>"
      ],
      "text/plain": [
       "  code  x_watch_accelmean  x_watch_accelsum  y_watch_accelmean  \\\n",
       "0    A          11.053740        663.224426          -0.988267   \n",
       "1    A          12.343656        740.619385          -1.432870   \n",
       "2    A          13.097301        785.838074          -1.533905   \n",
       "3    A          11.783632        707.017944          -1.341611   \n",
       "4    A          11.927145        715.628662          -1.680111   \n",
       "\n",
       "   y_watch_accelsum  z_watch_accelmean  z_watch_accelsum  x_watch_gyromean  \\\n",
       "0        -59.295998           1.454547         87.272842         -0.500267   \n",
       "1        -85.972191          -0.617235        -37.034111         -0.185540   \n",
       "2        -92.034309          -0.990252        -59.415108          0.181939   \n",
       "3        -80.496651          -1.186696        -71.201759          0.361979   \n",
       "4       -100.806664          -1.159442        -69.566521         -0.083575   \n",
       "\n",
       "   x_watch_gyrosum  y_watch_gyromean  y_watch_gyrosum  z_watch_gyromean  \\\n",
       "0       -30.016029         -0.100770        -6.046201         -0.119755   \n",
       "1       -11.132421         -0.101503        -6.090171         -0.319535   \n",
       "2        10.916325         -0.035247        -2.114802          0.158339   \n",
       "3        21.718712         -0.047745        -2.864674         -0.167495   \n",
       "4        -5.014497          0.015928         0.955660          0.124208   \n",
       "\n",
       "   z_watch_gyrosum  cos_xy_watch_accel  cos_xz_watch_accel  \\\n",
       "0        -7.185278           -0.476966            0.122065   \n",
       "1       -19.172112           -0.473731           -0.304035   \n",
       "2         9.500322           -0.466977           -0.386948   \n",
       "3       -10.049710           -0.477756           -0.368554   \n",
       "4         7.452503           -0.485931           -0.470164   \n",
       "\n",
       "   cos_yz_watch_accel  cos_xy_watch_gyro  cos_xz_watch_gyro  cos_yz_watch_gyro  \n",
       "0           -0.305006           0.280676           0.207706           0.712643  \n",
       "1           -0.232638           0.099714           0.295570           0.676206  \n",
       "2           -0.232112           0.061849           0.169405           0.691034  \n",
       "3           -0.048467           0.017487           0.300901           0.276831  \n",
       "4            0.251036          -0.150073           0.160280           0.469107  "
      ]
     },
     "execution_count": 30,
     "metadata": {},
     "output_type": "execute_result"
    }
   ],
   "source": [
    "grouped_watch_df.head()"
   ]
  },
  {
   "cell_type": "markdown",
   "id": "ed74ab5a-8251-4bfd-bb74-4e887c59b246",
   "metadata": {},
   "source": [
    "## EDA"
   ]
  },
  {
   "cell_type": "code",
   "execution_count": 31,
   "id": "72bde163-7088-42dd-961c-af05c5a24e28",
   "metadata": {
    "tags": []
   },
   "outputs": [
    {
     "data": {
      "text/html": [
       "<div>\n",
       "<style scoped>\n",
       "    .dataframe tbody tr th:only-of-type {\n",
       "        vertical-align: middle;\n",
       "    }\n",
       "\n",
       "    .dataframe tbody tr th {\n",
       "        vertical-align: top;\n",
       "    }\n",
       "\n",
       "    .dataframe thead th {\n",
       "        text-align: right;\n",
       "    }\n",
       "</style>\n",
       "<table border=\"1\" class=\"dataframe\">\n",
       "  <thead>\n",
       "    <tr style=\"text-align: right;\">\n",
       "      <th></th>\n",
       "      <th>x_phone_accelmean</th>\n",
       "      <th>x_phone_accelsum</th>\n",
       "      <th>y_phone_accelmean</th>\n",
       "      <th>y_phone_accelsum</th>\n",
       "      <th>z_phone_accelmean</th>\n",
       "      <th>z_phone_accelsum</th>\n",
       "      <th>x_phone_gyromean</th>\n",
       "      <th>x_phone_gyrosum</th>\n",
       "      <th>y_phone_gyromean</th>\n",
       "      <th>y_phone_gyrosum</th>\n",
       "      <th>z_phone_gyromean</th>\n",
       "      <th>z_phone_gyrosum</th>\n",
       "      <th>cos_xy_phone_accel</th>\n",
       "      <th>cos_xz_phone_accel</th>\n",
       "      <th>cos_yz_phone_accel</th>\n",
       "      <th>cos_xy_phone_gyro</th>\n",
       "      <th>cos_xz_phone_gyro</th>\n",
       "      <th>cos_yz_phone_gyro</th>\n",
       "    </tr>\n",
       "  </thead>\n",
       "  <tbody>\n",
       "    <tr>\n",
       "      <th>count</th>\n",
       "      <td>532395.000000</td>\n",
       "      <td>532395.000000</td>\n",
       "      <td>532395.000000</td>\n",
       "      <td>532395.000000</td>\n",
       "      <td>532395.000000</td>\n",
       "      <td>532395.000000</td>\n",
       "      <td>532395.000000</td>\n",
       "      <td>532395.000000</td>\n",
       "      <td>532395.000000</td>\n",
       "      <td>532395.000000</td>\n",
       "      <td>532395.000000</td>\n",
       "      <td>532395.000000</td>\n",
       "      <td>532387.000000</td>\n",
       "      <td>532384.000000</td>\n",
       "      <td>532384.000000</td>\n",
       "      <td>530653.000000</td>\n",
       "      <td>529966.000000</td>\n",
       "      <td>529928.000000</td>\n",
       "    </tr>\n",
       "    <tr>\n",
       "      <th>mean</th>\n",
       "      <td>0.292573</td>\n",
       "      <td>1.546333</td>\n",
       "      <td>-2.338619</td>\n",
       "      <td>-5.969940</td>\n",
       "      <td>0.304107</td>\n",
       "      <td>3.426846</td>\n",
       "      <td>-0.006283</td>\n",
       "      <td>-0.032806</td>\n",
       "      <td>-0.006590</td>\n",
       "      <td>-0.033202</td>\n",
       "      <td>0.001187</td>\n",
       "      <td>-0.005361</td>\n",
       "      <td>0.036800</td>\n",
       "      <td>-0.137679</td>\n",
       "      <td>0.109068</td>\n",
       "      <td>0.032719</td>\n",
       "      <td>0.046585</td>\n",
       "      <td>0.013291</td>\n",
       "    </tr>\n",
       "    <tr>\n",
       "      <th>std</th>\n",
       "      <td>5.491639</td>\n",
       "      <td>37.733299</td>\n",
       "      <td>6.100018</td>\n",
       "      <td>50.771328</td>\n",
       "      <td>4.975734</td>\n",
       "      <td>37.087120</td>\n",
       "      <td>0.545923</td>\n",
       "      <td>1.968939</td>\n",
       "      <td>0.586185</td>\n",
       "      <td>2.231376</td>\n",
       "      <td>0.445670</td>\n",
       "      <td>1.582723</td>\n",
       "      <td>0.899948</td>\n",
       "      <td>0.866538</td>\n",
       "      <td>0.872006</td>\n",
       "      <td>0.733425</td>\n",
       "      <td>0.746107</td>\n",
       "      <td>0.727631</td>\n",
       "    </tr>\n",
       "    <tr>\n",
       "      <th>min</th>\n",
       "      <td>-78.477608</td>\n",
       "      <td>-369.721588</td>\n",
       "      <td>-71.297340</td>\n",
       "      <td>-462.250916</td>\n",
       "      <td>-45.155701</td>\n",
       "      <td>-341.672302</td>\n",
       "      <td>-17.435539</td>\n",
       "      <td>-62.100494</td>\n",
       "      <td>-20.117081</td>\n",
       "      <td>-75.549652</td>\n",
       "      <td>-29.067291</td>\n",
       "      <td>-45.321594</td>\n",
       "      <td>-1.000000</td>\n",
       "      <td>-1.000000</td>\n",
       "      <td>-1.000000</td>\n",
       "      <td>-1.000000</td>\n",
       "      <td>-1.000000</td>\n",
       "      <td>-1.000000</td>\n",
       "    </tr>\n",
       "    <tr>\n",
       "      <th>25%</th>\n",
       "      <td>-3.700305</td>\n",
       "      <td>-10.496076</td>\n",
       "      <td>-7.687040</td>\n",
       "      <td>-24.720731</td>\n",
       "      <td>-2.740164</td>\n",
       "      <td>-8.717738</td>\n",
       "      <td>-0.029178</td>\n",
       "      <td>-0.138520</td>\n",
       "      <td>-0.026898</td>\n",
       "      <td>-0.115761</td>\n",
       "      <td>-0.020062</td>\n",
       "      <td>-0.090547</td>\n",
       "      <td>-0.990502</td>\n",
       "      <td>-0.999114</td>\n",
       "      <td>-0.962906</td>\n",
       "      <td>-0.702672</td>\n",
       "      <td>-0.722691</td>\n",
       "      <td>-0.707107</td>\n",
       "    </tr>\n",
       "    <tr>\n",
       "      <th>50%</th>\n",
       "      <td>0.256733</td>\n",
       "      <td>0.633266</td>\n",
       "      <td>-2.795729</td>\n",
       "      <td>-7.583035</td>\n",
       "      <td>0.103995</td>\n",
       "      <td>0.268600</td>\n",
       "      <td>-0.000703</td>\n",
       "      <td>-0.002131</td>\n",
       "      <td>-0.000599</td>\n",
       "      <td>-0.001785</td>\n",
       "      <td>-0.000774</td>\n",
       "      <td>-0.002131</td>\n",
       "      <td>0.210504</td>\n",
       "      <td>-0.467720</td>\n",
       "      <td>0.434496</td>\n",
       "      <td>0.063743</td>\n",
       "      <td>0.110227</td>\n",
       "      <td>0.026048</td>\n",
       "    </tr>\n",
       "    <tr>\n",
       "      <th>75%</th>\n",
       "      <td>4.572277</td>\n",
       "      <td>15.641873</td>\n",
       "      <td>1.353544</td>\n",
       "      <td>3.652420</td>\n",
       "      <td>3.769344</td>\n",
       "      <td>11.771652</td>\n",
       "      <td>0.021838</td>\n",
       "      <td>0.083298</td>\n",
       "      <td>0.023914</td>\n",
       "      <td>0.089494</td>\n",
       "      <td>0.017181</td>\n",
       "      <td>0.066193</td>\n",
       "      <td>0.994610</td>\n",
       "      <td>0.942249</td>\n",
       "      <td>0.997443</td>\n",
       "      <td>0.771303</td>\n",
       "      <td>0.801859</td>\n",
       "      <td>0.736882</td>\n",
       "    </tr>\n",
       "    <tr>\n",
       "      <th>max</th>\n",
       "      <td>58.610920</td>\n",
       "      <td>293.694916</td>\n",
       "      <td>32.002251</td>\n",
       "      <td>626.861511</td>\n",
       "      <td>42.221802</td>\n",
       "      <td>422.166595</td>\n",
       "      <td>18.148064</td>\n",
       "      <td>40.455109</td>\n",
       "      <td>25.164001</td>\n",
       "      <td>109.892792</td>\n",
       "      <td>9.911165</td>\n",
       "      <td>47.744415</td>\n",
       "      <td>1.000000</td>\n",
       "      <td>1.000000</td>\n",
       "      <td>1.000000</td>\n",
       "      <td>1.000000</td>\n",
       "      <td>1.000000</td>\n",
       "      <td>1.000000</td>\n",
       "    </tr>\n",
       "  </tbody>\n",
       "</table>\n",
       "</div>"
      ],
      "text/plain": [
       "       x_phone_accelmean  x_phone_accelsum  y_phone_accelmean  \\\n",
       "count      532395.000000     532395.000000      532395.000000   \n",
       "mean            0.292573          1.546333          -2.338619   \n",
       "std             5.491639         37.733299           6.100018   \n",
       "min           -78.477608       -369.721588         -71.297340   \n",
       "25%            -3.700305        -10.496076          -7.687040   \n",
       "50%             0.256733          0.633266          -2.795729   \n",
       "75%             4.572277         15.641873           1.353544   \n",
       "max            58.610920        293.694916          32.002251   \n",
       "\n",
       "       y_phone_accelsum  z_phone_accelmean  z_phone_accelsum  \\\n",
       "count     532395.000000      532395.000000     532395.000000   \n",
       "mean          -5.969940           0.304107          3.426846   \n",
       "std           50.771328           4.975734         37.087120   \n",
       "min         -462.250916         -45.155701       -341.672302   \n",
       "25%          -24.720731          -2.740164         -8.717738   \n",
       "50%           -7.583035           0.103995          0.268600   \n",
       "75%            3.652420           3.769344         11.771652   \n",
       "max          626.861511          42.221802        422.166595   \n",
       "\n",
       "       x_phone_gyromean  x_phone_gyrosum  y_phone_gyromean  y_phone_gyrosum  \\\n",
       "count     532395.000000    532395.000000     532395.000000    532395.000000   \n",
       "mean          -0.006283        -0.032806         -0.006590        -0.033202   \n",
       "std            0.545923         1.968939          0.586185         2.231376   \n",
       "min          -17.435539       -62.100494        -20.117081       -75.549652   \n",
       "25%           -0.029178        -0.138520         -0.026898        -0.115761   \n",
       "50%           -0.000703        -0.002131         -0.000599        -0.001785   \n",
       "75%            0.021838         0.083298          0.023914         0.089494   \n",
       "max           18.148064        40.455109         25.164001       109.892792   \n",
       "\n",
       "       z_phone_gyromean  z_phone_gyrosum  cos_xy_phone_accel  \\\n",
       "count     532395.000000    532395.000000       532387.000000   \n",
       "mean           0.001187        -0.005361            0.036800   \n",
       "std            0.445670         1.582723            0.899948   \n",
       "min          -29.067291       -45.321594           -1.000000   \n",
       "25%           -0.020062        -0.090547           -0.990502   \n",
       "50%           -0.000774        -0.002131            0.210504   \n",
       "75%            0.017181         0.066193            0.994610   \n",
       "max            9.911165        47.744415            1.000000   \n",
       "\n",
       "       cos_xz_phone_accel  cos_yz_phone_accel  cos_xy_phone_gyro  \\\n",
       "count       532384.000000       532384.000000      530653.000000   \n",
       "mean            -0.137679            0.109068           0.032719   \n",
       "std              0.866538            0.872006           0.733425   \n",
       "min             -1.000000           -1.000000          -1.000000   \n",
       "25%             -0.999114           -0.962906          -0.702672   \n",
       "50%             -0.467720            0.434496           0.063743   \n",
       "75%              0.942249            0.997443           0.771303   \n",
       "max              1.000000            1.000000           1.000000   \n",
       "\n",
       "       cos_xz_phone_gyro  cos_yz_phone_gyro  \n",
       "count      529966.000000      529928.000000  \n",
       "mean            0.046585           0.013291  \n",
       "std             0.746107           0.727631  \n",
       "min            -1.000000          -1.000000  \n",
       "25%            -0.722691          -0.707107  \n",
       "50%             0.110227           0.026048  \n",
       "75%             0.801859           0.736882  \n",
       "max             1.000000           1.000000  "
      ]
     },
     "execution_count": 31,
     "metadata": {},
     "output_type": "execute_result"
    }
   ],
   "source": [
    "grouped_phone_df.describe()"
   ]
  },
  {
   "cell_type": "code",
   "execution_count": 32,
   "id": "145d20ea-0c07-485a-bd1c-acca11f141b5",
   "metadata": {},
   "outputs": [
    {
     "data": {
      "image/png": "[encoded data removed]",
      "text/plain": [
       "<Figure size 2160x864 with 18 Axes>"
      ]
     },
     "metadata": {
      "needs_background": "light"
     },
     "output_type": "display_data"
    }
   ],
   "source": [
    "grouped_phone_df.hist(bins = 20, layout = (3,6), figsize=(30, 12))\n",
    "plt.show()"
   ]
  },
  {
   "cell_type": "code",
   "execution_count": 33,
   "id": "fdc4d635-374e-4904-801e-a699a291e019",
   "metadata": {},
   "outputs": [
    {
     "data": {
      "image/png": "[encoded data removed]",
      "text/plain": [
       "<Figure size 2160x864 with 18 Axes>"
      ]
     },
     "metadata": {
      "needs_background": "light"
     },
     "output_type": "display_data"
    }
   ],
   "source": [
    "grouped_watch_df.hist(bins = 20, layout = (3,6), figsize=(30, 12))\n",
    "plt.show()"
   ]
  },
  {
   "cell_type": "code",
   "execution_count": 31,
   "id": "17626f9d-929e-4f29-ae1e-0dac95bf8ed8",
   "metadata": {},
   "outputs": [
    {
     "data": {
      "text/html": [
       "<iframe\n",
       "    scrolling=\"no\"\n",
       "    width=\"100%\"\n",
       "    height=\"545px\"\n",
       "    src=\"iframe_figures/figure_31.html\"\n",
       "    frameborder=\"0\"\n",
       "    allowfullscreen\n",
       "></iframe>\n"
      ]
     },
     "metadata": {},
     "output_type": "display_data"
    }
   ],
   "source": [
    "# VISUALIZE DATA\n",
    "\n",
    "# depending on your setup may need different renderer to display\n",
    "# iframe should render on local implementation and docker image implementation\n",
    "\n",
    "renderer = [\n",
    "    'notebook', # local\n",
    "    'notebook_connected', # local\n",
    "    'kaggle', # local\n",
    "    'azure', # local\n",
    "    'browser', # local (opens plot in new browser tab)\n",
    "    'iframe', # docker, local (saves plot in `iframe_figures` folder)\n",
    "    'iframe_connected', # docker, local (saves plot in `iframe_figures` folder)\n",
    "    'colab' # docker\n",
    "]\n",
    "\n",
    "# phone accelerometer\n",
    "# take a sample of the data\n",
    "df = grouped_phone_df.sample(frac=0.3, random_state=seed).sort_values(by='code')\n",
    "fig = px.scatter_3d(df, \n",
    "                    x='x_phone_accelsum', \n",
    "                    y='y_phone_accelsum', \n",
    "                    z='z_phone_accelsum',\n",
    "                    color = 'code' )\n",
    "fig.show(renderer=renderer[-2]) # if plot does not render, try a different index, the last three are preferred"
   ]
  },
  {
   "cell_type": "code",
   "execution_count": 32,
   "id": "c1d93024-3864-4fda-9584-dabbc533b3fe",
   "metadata": {
    "tags": []
   },
   "outputs": [
    {
     "data": {
      "text/html": [
       "<iframe\n",
       "    scrolling=\"no\"\n",
       "    width=\"100%\"\n",
       "    height=\"545px\"\n",
       "    src=\"iframe_figures/figure_32.html\"\n",
       "    frameborder=\"0\"\n",
       "    allowfullscreen\n",
       "></iframe>\n"
      ]
     },
     "metadata": {},
     "output_type": "display_data"
    }
   ],
   "source": [
    "# phone gyroscope\n",
    "\n",
    "# take a sample of the data\n",
    "df = grouped_phone_df.sample(frac=0.3, random_state=seed).sort_values(by='code')\n",
    "fig = px.scatter_3d(df, \n",
    "                    x='x_phone_gyrosum', \n",
    "                    y='y_phone_gyrosum', \n",
    "                    z='x_phone_gyrosum',\n",
    "                    color = 'code' )\n",
    "fig.show(renderer=renderer[-2]) # if plot does not render, try a different index, the last three are preferred"
   ]
  },
  {
   "cell_type": "code",
   "execution_count": 33,
   "id": "b75247bf-1c7e-4c80-a785-60edd32f0499",
   "metadata": {},
   "outputs": [
    {
     "data": {
      "text/html": [
       "<iframe\n",
       "    scrolling=\"no\"\n",
       "    width=\"100%\"\n",
       "    height=\"545px\"\n",
       "    src=\"iframe_figures/figure_33.html\"\n",
       "    frameborder=\"0\"\n",
       "    allowfullscreen\n",
       "></iframe>\n"
      ]
     },
     "metadata": {},
     "output_type": "display_data"
    }
   ],
   "source": [
    "# watch accelerometer\n",
    "\n",
    "# take a sample of the data\n",
    "df = grouped_watch_df.sample(frac=0.3, random_state=seed).sort_values(by='code')\n",
    "fig = px.scatter_3d(df, \n",
    "                    x='x_watch_accelsum', \n",
    "                    y='y_watch_accelsum', \n",
    "                    z='z_watch_accelsum',\n",
    "                    color = 'code' )\n",
    "fig.show(renderer=renderer[-2]) # if plot does not render, try a different index, the last three are preferred"
   ]
  },
  {
   "cell_type": "code",
   "execution_count": 34,
   "id": "67bd51cb-1755-42be-861e-c91063c6a6a6",
   "metadata": {},
   "outputs": [
    {
     "data": {
      "text/html": [
       "<iframe\n",
       "    scrolling=\"no\"\n",
       "    width=\"100%\"\n",
       "    height=\"545px\"\n",
       "    src=\"iframe_figures/figure_34.html\"\n",
       "    frameborder=\"0\"\n",
       "    allowfullscreen\n",
       "></iframe>\n"
      ]
     },
     "metadata": {},
     "output_type": "display_data"
    }
   ],
   "source": [
    "# watch gyroscope\n",
    "\n",
    "# take a sample of the data\n",
    "df = grouped_watch_df.sample(frac=0.3, random_state=seed).sort_values(by='code')\n",
    "fig = px.scatter_3d(df, \n",
    "                    x='x_watch_gyrosum', \n",
    "                    y='y_watch_gyrosum', \n",
    "                    z='z_watch_gyrosum',\n",
    "                    color = 'code' )\n",
    "fig.show(renderer=renderer[-2]) # if plot does not render, try a different index, the last three are preferred"
   ]
  },
  {
   "cell_type": "code",
   "execution_count": 35,
   "id": "498c4793-0a23-4d73-9134-4ca863a757f3",
   "metadata": {},
   "outputs": [],
   "source": [
    "# phone accel\n",
    "cos_cols = [\n",
    "    # phone accel\n",
    "    'cos_xy_phone_accel',\n",
    "    'cos_xz_phone_accel',\n",
    "    'cos_yz_phone_accel',\n",
    "    # phone gyro\n",
    "    'cos_xy_phone_gyro',\n",
    "    'cos_xz_phone_gyro',\n",
    "    'cos_yz_phone_gyro',\n",
    "    # watch accel\n",
    "    'cos_xy_watch_accel',\n",
    "    'cos_xz_watch_accel',\n",
    "    'cos_yz_watch_accel',\n",
    "    # watch gyro\n",
    "    'cos_xy_watch_gyro',\n",
    "    'cos_xz_watch_gyro',\n",
    "    'cos_yz_watch_gyro',\n",
    "]"
   ]
  },
  {
   "cell_type": "code",
   "execution_count": 36,
   "id": "75f8a929-9759-47be-8593-c692c0f0ad92",
   "metadata": {},
   "outputs": [
    {
     "data": {
      "text/html": [
       "<iframe\n",
       "    scrolling=\"no\"\n",
       "    width=\"100%\"\n",
       "    height=\"545px\"\n",
       "    src=\"iframe_figures/figure_36.html\"\n",
       "    frameborder=\"0\"\n",
       "    allowfullscreen\n",
       "></iframe>\n"
      ]
     },
     "metadata": {},
     "output_type": "display_data"
    }
   ],
   "source": [
    "# # phone accel cosine\n",
    "\n",
    "# take a sample of the data\n",
    "df = grouped_phone_df.sample(frac=0.3, random_state=seed).sort_values(by='code')\n",
    "fig = px.scatter_3d(df, \n",
    "                    x='cos_xy_phone_accel', \n",
    "                    y='cos_xz_phone_accel', \n",
    "                    z='cos_yz_phone_accel',\n",
    "                    color = 'code' )\n",
    "fig.show(renderer=renderer[-2]) # if plot does not render, try a different index, the last three are preferred"
   ]
  },
  {
   "cell_type": "code",
   "execution_count": 37,
   "id": "56547ddb-cdbd-4a39-83e4-7163620dbd4f",
   "metadata": {},
   "outputs": [
    {
     "data": {
      "text/html": [
       "<iframe\n",
       "    scrolling=\"no\"\n",
       "    width=\"100%\"\n",
       "    height=\"545px\"\n",
       "    src=\"iframe_figures/figure_37.html\"\n",
       "    frameborder=\"0\"\n",
       "    allowfullscreen\n",
       "></iframe>\n"
      ]
     },
     "metadata": {},
     "output_type": "display_data"
    }
   ],
   "source": [
    "# # phone gyro cosine\n",
    "\n",
    "# take a sample of the data\n",
    "df = grouped_phone_df.sample(frac=0.3, random_state=seed).sort_values(by='code')\n",
    "fig = px.scatter_3d(df, \n",
    "                    x='cos_xy_phone_gyro', \n",
    "                    y='cos_xz_phone_gyro', \n",
    "                    z='cos_yz_phone_gyro',\n",
    "                    color = 'code' )\n",
    "fig.show(renderer=renderer[-2]) # if plot does not render, try a different index, the last three are preferred"
   ]
  },
  {
   "cell_type": "code",
   "execution_count": 38,
   "id": "081a296c-e36d-4018-9d6f-8655a64d5ffa",
   "metadata": {},
   "outputs": [
    {
     "data": {
      "text/html": [
       "<iframe\n",
       "    scrolling=\"no\"\n",
       "    width=\"100%\"\n",
       "    height=\"545px\"\n",
       "    src=\"iframe_figures/figure_38.html\"\n",
       "    frameborder=\"0\"\n",
       "    allowfullscreen\n",
       "></iframe>\n"
      ]
     },
     "metadata": {},
     "output_type": "display_data"
    }
   ],
   "source": [
    "# # watch accel cosine\n",
    "\n",
    "# take a sample of the data\n",
    "df = grouped_watch_df.sample(frac=0.3, random_state=seed).sort_values(by='code')\n",
    "fig = px.scatter_3d(df, \n",
    "                    x='cos_xy_watch_accel', \n",
    "                    y='cos_xz_watch_accel', \n",
    "                    z='cos_yz_watch_accel',\n",
    "                    color = 'code' )\n",
    "fig.show(renderer=renderer[-2]) # if plot does not render, try a different index, the last three are preferred"
   ]
  },
  {
   "cell_type": "code",
   "execution_count": 39,
   "id": "d1259cbb-fa81-40b1-b9c2-fc5297feecb4",
   "metadata": {},
   "outputs": [
    {
     "data": {
      "text/html": [
       "<iframe\n",
       "    scrolling=\"no\"\n",
       "    width=\"100%\"\n",
       "    height=\"545px\"\n",
       "    src=\"iframe_figures/figure_39.html\"\n",
       "    frameborder=\"0\"\n",
       "    allowfullscreen\n",
       "></iframe>\n"
      ]
     },
     "metadata": {},
     "output_type": "display_data"
    }
   ],
   "source": [
    "# # phone gyro cosine\n",
    "\n",
    "# take a sample of the data\n",
    "df = grouped_watch_df.sample(frac=0.3, random_state=seed).sort_values(by='code')\n",
    "fig = px.scatter_3d(df, \n",
    "                    x='cos_xy_watch_gyro', \n",
    "                    y='cos_xz_watch_gyro', \n",
    "                    z='cos_yz_watch_gyro',\n",
    "                    color = 'code' )\n",
    "fig.show(renderer=renderer[-2]) # if plot does not render, try a different index, the last three are preferred"
   ]
  },
  {
   "cell_type": "markdown",
   "id": "868e66b4",
   "metadata": {},
   "source": [
    "- Use PySpark or Dask\n",
    "- Include one classificationorregressionorclusteranalysis task\n",
    "- Describe problem\n",
    "    - To include:  Explain why problem is interesting, what real-life application is being addressed\n",
    "- Describe analysis task\n",
    "    - To include:  type of task (e.g., classification), how does task related to business problem\n",
    "- Describe data\n",
    "    - To include:  data quality issues, characteristics of the dataset (summary statistics,\n",
    "correlation, outliers, etc.), plots\n",
    "- Describe data preparation process\n",
    "    - To include:  data cleaning steps, features used, train/validation/test datasets\n",
    "- Describe analysis approaches\n",
    "    - To include:  input, setup, and output of model(s)\n",
    "- Describe challenges and solutions\n",
    "    - To include:  challenges encountered, solutions to address challenges\n",
    "- Describe analysis results and insights gained\n",
    "    - To include:  discussion of results, insights gained from analysis\n",
    "- Describe future work\n",
    "    - To include:  lessons learned, next steps, what you would have done differently"
   ]
  },
  {
   "cell_type": "markdown",
   "id": "0ba21899",
   "metadata": {},
   "source": [
    "\n",
    "\n",
    "\n",
    "Measures movement data over ten-second\n",
    "intervals while subjects perform the various tasks."
   ]
  },
  {
   "cell_type": "markdown",
   "id": "ed9059f0",
   "metadata": {},
   "source": [
    "## Analysis approaches"
   ]
  },
  {
   "cell_type": "markdown",
   "id": "5077de4a",
   "metadata": {},
   "source": [
    "### Model Selection\n",
    "\n",
    "<font color='red'>this section is wildly incomplete</font>\n",
    "\n",
    "[**sklearn - Decision Tree Regression with AdaBoost**](https://scikit-learn.org/stable/auto_examples/ensemble/plot_adaboost_regression.html)\n",
    "\n",
    "[https://examples.dask.org/machine-learning.html](https://examples.dask.org/machine-learning.html)"
   ]
  },
  {
   "cell_type": "code",
   "execution_count": 34,
   "id": "e601c4c0-6b3d-4773-8237-b71e0334f22c",
   "metadata": {},
   "outputs": [
    {
     "data": {
      "text/html": [
       "<div>\n",
       "<style scoped>\n",
       "    .dataframe tbody tr th:only-of-type {\n",
       "        vertical-align: middle;\n",
       "    }\n",
       "\n",
       "    .dataframe tbody tr th {\n",
       "        vertical-align: top;\n",
       "    }\n",
       "\n",
       "    .dataframe thead th {\n",
       "        text-align: right;\n",
       "    }\n",
       "</style>\n",
       "<table border=\"1\" class=\"dataframe\">\n",
       "  <thead>\n",
       "    <tr style=\"text-align: right;\">\n",
       "      <th></th>\n",
       "      <th>code</th>\n",
       "      <th>x_phone_accelmean</th>\n",
       "      <th>x_phone_accelsum</th>\n",
       "      <th>y_phone_accelmean</th>\n",
       "      <th>y_phone_accelsum</th>\n",
       "      <th>z_phone_accelmean</th>\n",
       "      <th>z_phone_accelsum</th>\n",
       "      <th>x_phone_gyromean</th>\n",
       "      <th>x_phone_gyrosum</th>\n",
       "      <th>y_phone_gyromean</th>\n",
       "      <th>y_phone_gyrosum</th>\n",
       "      <th>z_phone_gyromean</th>\n",
       "      <th>z_phone_gyrosum</th>\n",
       "      <th>cos_xy_phone_accel</th>\n",
       "      <th>cos_xz_phone_accel</th>\n",
       "      <th>cos_yz_phone_accel</th>\n",
       "      <th>cos_xy_phone_gyro</th>\n",
       "      <th>cos_xz_phone_gyro</th>\n",
       "      <th>cos_yz_phone_gyro</th>\n",
       "    </tr>\n",
       "  </thead>\n",
       "  <tbody>\n",
       "    <tr>\n",
       "      <th>0</th>\n",
       "      <td>A</td>\n",
       "      <td>-1.088191</td>\n",
       "      <td>-65.291443</td>\n",
       "      <td>9.776991</td>\n",
       "      <td>586.619446</td>\n",
       "      <td>0.786926</td>\n",
       "      <td>47.215576</td>\n",
       "      <td>-0.150771</td>\n",
       "      <td>-9.046265</td>\n",
       "      <td>0.083512</td>\n",
       "      <td>5.010742</td>\n",
       "      <td>-0.035710</td>\n",
       "      <td>-2.142578</td>\n",
       "      <td>-0.567636</td>\n",
       "      <td>-0.030267</td>\n",
       "      <td>0.341594</td>\n",
       "      <td>-0.392207</td>\n",
       "      <td>-0.028287</td>\n",
       "      <td>0.332628</td>\n",
       "    </tr>\n",
       "    <tr>\n",
       "      <th>1</th>\n",
       "      <td>A</td>\n",
       "      <td>-1.182448</td>\n",
       "      <td>-70.946899</td>\n",
       "      <td>9.289057</td>\n",
       "      <td>557.343445</td>\n",
       "      <td>0.349670</td>\n",
       "      <td>20.980194</td>\n",
       "      <td>-0.061406</td>\n",
       "      <td>-3.684387</td>\n",
       "      <td>0.222785</td>\n",
       "      <td>13.367096</td>\n",
       "      <td>0.024281</td>\n",
       "      <td>1.456833</td>\n",
       "      <td>-0.456546</td>\n",
       "      <td>0.040798</td>\n",
       "      <td>0.065060</td>\n",
       "      <td>-0.441133</td>\n",
       "      <td>-0.041421</td>\n",
       "      <td>0.194711</td>\n",
       "    </tr>\n",
       "    <tr>\n",
       "      <th>2</th>\n",
       "      <td>A</td>\n",
       "      <td>-0.962223</td>\n",
       "      <td>-57.733383</td>\n",
       "      <td>8.836941</td>\n",
       "      <td>530.216431</td>\n",
       "      <td>0.619604</td>\n",
       "      <td>37.176254</td>\n",
       "      <td>0.020968</td>\n",
       "      <td>1.258057</td>\n",
       "      <td>0.227736</td>\n",
       "      <td>13.664139</td>\n",
       "      <td>0.047242</td>\n",
       "      <td>2.834549</td>\n",
       "      <td>-0.492868</td>\n",
       "      <td>0.050539</td>\n",
       "      <td>0.210506</td>\n",
       "      <td>-0.537460</td>\n",
       "      <td>0.094751</td>\n",
       "      <td>0.082168</td>\n",
       "    </tr>\n",
       "    <tr>\n",
       "      <th>3</th>\n",
       "      <td>A</td>\n",
       "      <td>-1.768243</td>\n",
       "      <td>-106.094604</td>\n",
       "      <td>10.371676</td>\n",
       "      <td>622.300598</td>\n",
       "      <td>-0.198828</td>\n",
       "      <td>-11.929657</td>\n",
       "      <td>0.162605</td>\n",
       "      <td>9.756317</td>\n",
       "      <td>-0.061611</td>\n",
       "      <td>-3.696671</td>\n",
       "      <td>-0.012255</td>\n",
       "      <td>-0.735275</td>\n",
       "      <td>-0.726313</td>\n",
       "      <td>0.311922</td>\n",
       "      <td>-0.186672</td>\n",
       "      <td>-0.248085</td>\n",
       "      <td>-0.046179</td>\n",
       "      <td>0.391996</td>\n",
       "    </tr>\n",
       "    <tr>\n",
       "      <th>4</th>\n",
       "      <td>A</td>\n",
       "      <td>-1.619576</td>\n",
       "      <td>-97.174561</td>\n",
       "      <td>10.002676</td>\n",
       "      <td>600.160583</td>\n",
       "      <td>0.601288</td>\n",
       "      <td>36.077286</td>\n",
       "      <td>0.022449</td>\n",
       "      <td>1.346924</td>\n",
       "      <td>0.154298</td>\n",
       "      <td>9.257904</td>\n",
       "      <td>0.004550</td>\n",
       "      <td>0.273026</td>\n",
       "      <td>-0.646401</td>\n",
       "      <td>0.021985</td>\n",
       "      <td>0.252195</td>\n",
       "      <td>-0.376746</td>\n",
       "      <td>-0.292431</td>\n",
       "      <td>0.196932</td>\n",
       "    </tr>\n",
       "  </tbody>\n",
       "</table>\n",
       "</div>"
      ],
      "text/plain": [
       "  code  x_phone_accelmean  x_phone_accelsum  y_phone_accelmean  \\\n",
       "0    A          -1.088191        -65.291443           9.776991   \n",
       "1    A          -1.182448        -70.946899           9.289057   \n",
       "2    A          -0.962223        -57.733383           8.836941   \n",
       "3    A          -1.768243       -106.094604          10.371676   \n",
       "4    A          -1.619576        -97.174561          10.002676   \n",
       "\n",
       "   y_phone_accelsum  z_phone_accelmean  z_phone_accelsum  x_phone_gyromean  \\\n",
       "0        586.619446           0.786926         47.215576         -0.150771   \n",
       "1        557.343445           0.349670         20.980194         -0.061406   \n",
       "2        530.216431           0.619604         37.176254          0.020968   \n",
       "3        622.300598          -0.198828        -11.929657          0.162605   \n",
       "4        600.160583           0.601288         36.077286          0.022449   \n",
       "\n",
       "   x_phone_gyrosum  y_phone_gyromean  y_phone_gyrosum  z_phone_gyromean  \\\n",
       "0        -9.046265          0.083512         5.010742         -0.035710   \n",
       "1        -3.684387          0.222785        13.367096          0.024281   \n",
       "2         1.258057          0.227736        13.664139          0.047242   \n",
       "3         9.756317         -0.061611        -3.696671         -0.012255   \n",
       "4         1.346924          0.154298         9.257904          0.004550   \n",
       "\n",
       "   z_phone_gyrosum  cos_xy_phone_accel  cos_xz_phone_accel  \\\n",
       "0        -2.142578           -0.567636           -0.030267   \n",
       "1         1.456833           -0.456546            0.040798   \n",
       "2         2.834549           -0.492868            0.050539   \n",
       "3        -0.735275           -0.726313            0.311922   \n",
       "4         0.273026           -0.646401            0.021985   \n",
       "\n",
       "   cos_yz_phone_accel  cos_xy_phone_gyro  cos_xz_phone_gyro  cos_yz_phone_gyro  \n",
       "0            0.341594          -0.392207          -0.028287           0.332628  \n",
       "1            0.065060          -0.441133          -0.041421           0.194711  \n",
       "2            0.210506          -0.537460           0.094751           0.082168  \n",
       "3           -0.186672          -0.248085          -0.046179           0.391996  \n",
       "4            0.252195          -0.376746          -0.292431           0.196932  "
      ]
     },
     "execution_count": 34,
     "metadata": {},
     "output_type": "execute_result"
    }
   ],
   "source": [
    "grouped_phone_df.head()"
   ]
  },
  {
   "cell_type": "markdown",
   "id": "58fbb35c-515f-48e8-9b95-9698d25aa5e8",
   "metadata": {},
   "source": [
    "[You should aim for partitions that have around 100MB of data each.](https://docs.dask.org/en/stable/dataframe-best-practices.html)\n",
    "- each of these dataframes is 130MB - 160MB\n",
    "\n",
    "- Use a Categorical for efficient storage of an object-dtype column with many repeated values.\n",
    "```python\n",
    ">>> df['object'].astype('category').memory_usage(deep=True)\n",
    "5244\n",
    "```"
   ]
  },
  {
   "cell_type": "code",
   "execution_count": 35,
   "id": "22b99b5d-20c0-43f1-b3ba-7838abcb1cbf",
   "metadata": {},
   "outputs": [
    {
     "data": {
      "text/plain": [
       "30.879038"
      ]
     },
     "execution_count": 35,
     "metadata": {},
     "output_type": "execute_result"
    }
   ],
   "source": [
    "grouped_phone_df['code'].memory_usage(deep=True) / 1_000_000"
   ]
  },
  {
   "cell_type": "code",
   "execution_count": 36,
   "id": "0416250b-5cee-4624-a410-0ac1bcf03137",
   "metadata": {},
   "outputs": [
    {
     "data": {
      "text/plain": [
       "0.534123"
      ]
     },
     "execution_count": 36,
     "metadata": {},
     "output_type": "execute_result"
    }
   ],
   "source": [
    "grouped_phone_df['code'].astype('category').memory_usage(deep=True) / 1_000_000"
   ]
  },
  {
   "cell_type": "code",
   "execution_count": 37,
   "id": "2323427c-2881-4d39-9e66-77d1bd458370",
   "metadata": {},
   "outputs": [
    {
     "data": {
      "text/plain": [
       "36.577364"
      ]
     },
     "execution_count": 37,
     "metadata": {},
     "output_type": "execute_result"
    }
   ],
   "source": [
    "grouped_watch_df['code'].memory_usage(deep=True) / 1_000_000"
   ]
  },
  {
   "cell_type": "code",
   "execution_count": 38,
   "id": "35c80209-daee-41f0-8e4b-0aea1a21bf3c",
   "metadata": {},
   "outputs": [
    {
     "data": {
      "text/plain": [
       "0.63237"
      ]
     },
     "execution_count": 38,
     "metadata": {},
     "output_type": "execute_result"
    }
   ],
   "source": [
    "grouped_watch_df['code'].astype('category').memory_usage(deep=True) / 1_000_000"
   ]
  },
  {
   "cell_type": "code",
   "execution_count": 39,
   "id": "3ecf55aa",
   "metadata": {},
   "outputs": [
    {
     "data": {
      "text/plain": [
       "69.211478"
      ]
     },
     "execution_count": 39,
     "metadata": {},
     "output_type": "execute_result"
    }
   ],
   "source": [
    "#grouped_phone_df.info(memory_usage='deep')\n",
    "grouped_phone_df.memory_usage(deep=True).sum() / 1_000_000"
   ]
  },
  {
   "cell_type": "code",
   "execution_count": 40,
   "id": "ea2ddc72-ce33-4c89-8274-c78aae9f851e",
   "metadata": {},
   "outputs": [
    {
     "data": {
      "text/plain": [
       "81.983588"
      ]
     },
     "execution_count": 40,
     "metadata": {},
     "output_type": "execute_result"
    }
   ],
   "source": [
    "#grouped_watch_df.info(memory_usage='deep')\n",
    "grouped_watch_df.memory_usage(deep=True).sum() / 1_000_000"
   ]
  },
  {
   "cell_type": "code",
   "execution_count": 41,
   "id": "e27752a2-5ed5-4b9c-9bb8-0e7261b7559b",
   "metadata": {},
   "outputs": [],
   "source": [
    "# achieve some memory savings\n",
    "'''\n",
    "we should get this into the parquet schema or convert as early as possible\n",
    "'''\n",
    "grouped_phone_df['code'] = grouped_phone_df['code'].astype('category')\n",
    "grouped_watch_df['code'] = grouped_watch_df['code'].astype('category')"
   ]
  },
  {
   "cell_type": "code",
   "execution_count": 42,
   "id": "64d463e1-daca-4333-aad3-3559d64da2cb",
   "metadata": {},
   "outputs": [
    {
     "data": {
      "text/plain": [
       "38.866563"
      ]
     },
     "execution_count": 42,
     "metadata": {},
     "output_type": "execute_result"
    }
   ],
   "source": [
    "# it worked :)\n",
    "#grouped_phone_df.info(memory_usage='deep')\n",
    "grouped_phone_df.memory_usage(deep=True).sum() / 1_000_000"
   ]
  },
  {
   "cell_type": "code",
   "execution_count": 43,
   "id": "8bc665ea-91b6-4f69-89cf-355ea2ab73ab",
   "metadata": {},
   "outputs": [
    {
     "data": {
      "text/plain": [
       "46.038594"
      ]
     },
     "execution_count": 43,
     "metadata": {},
     "output_type": "execute_result"
    }
   ],
   "source": [
    "# it worked :)\n",
    "#grouped_watch_df.info(memory_usage='deep')\n",
    "grouped_watch_df.memory_usage(deep=True).sum() / 1_000_000"
   ]
  },
  {
   "cell_type": "markdown",
   "id": "7e43f0db-1f06-474c-a133-f23f16e0c969",
   "metadata": {},
   "source": [
    "### now train test split"
   ]
  },
  {
   "cell_type": "code",
   "execution_count": 44,
   "id": "597df04f-54e8-45ee-b1b9-95025e8cc081",
   "metadata": {},
   "outputs": [
    {
     "data": {
      "text/plain": [
       "['x_phone_accelmean',\n",
       " 'x_phone_accelsum',\n",
       " 'y_phone_accelmean',\n",
       " 'y_phone_accelsum',\n",
       " 'z_phone_accelmean',\n",
       " 'z_phone_accelsum',\n",
       " 'x_phone_gyromean',\n",
       " 'x_phone_gyrosum',\n",
       " 'y_phone_gyromean',\n",
       " 'y_phone_gyrosum',\n",
       " 'z_phone_gyromean',\n",
       " 'z_phone_gyrosum',\n",
       " 'cos_xy_phone_accel',\n",
       " 'cos_xz_phone_accel',\n",
       " 'cos_yz_phone_accel',\n",
       " 'cos_xy_phone_gyro',\n",
       " 'cos_xz_phone_gyro',\n",
       " 'cos_yz_phone_gyro']"
      ]
     },
     "execution_count": 44,
     "metadata": {},
     "output_type": "execute_result"
    }
   ],
   "source": [
    "feat_cols = [col for col in grouped_phone_df][1:] # this slicing could change later\n",
    "feat_cols"
   ]
  },
  {
   "cell_type": "code",
   "execution_count": 45,
   "id": "bfc8fbc5-4fd1-4ece-8bb0-1957b7e26a0a",
   "metadata": {},
   "outputs": [],
   "source": [
    "grouped_phone_df_x = grouped_phone_df[feat_cols]\n",
    "grouped_phone_df_y = grouped_phone_df['code']"
   ]
  },
  {
   "cell_type": "code",
   "execution_count": 46,
   "id": "c28a266e-b927-4646-a1c4-095c2a923603",
   "metadata": {},
   "outputs": [
    {
     "data": {
      "text/plain": [
       "['x_watch_accelmean',\n",
       " 'x_watch_accelsum',\n",
       " 'y_watch_accelmean',\n",
       " 'y_watch_accelsum',\n",
       " 'z_watch_accelmean',\n",
       " 'z_watch_accelsum',\n",
       " 'x_watch_gyromean',\n",
       " 'x_watch_gyrosum',\n",
       " 'y_watch_gyromean',\n",
       " 'y_watch_gyrosum',\n",
       " 'z_watch_gyromean',\n",
       " 'z_watch_gyrosum',\n",
       " 'cos_xy_watch_accel',\n",
       " 'cos_xz_watch_accel',\n",
       " 'cos_yz_watch_accel',\n",
       " 'cos_xy_watch_gyro',\n",
       " 'cos_xz_watch_gyro',\n",
       " 'cos_yz_watch_gyro']"
      ]
     },
     "execution_count": 46,
     "metadata": {},
     "output_type": "execute_result"
    }
   ],
   "source": [
    "feat_cols = [col for col in grouped_watch_df][1:] # this slicing could change later\n",
    "feat_cols"
   ]
  },
  {
   "cell_type": "code",
   "execution_count": 47,
   "id": "2e85d87d-fb2a-4caf-b431-ce017bdbe7b3",
   "metadata": {},
   "outputs": [],
   "source": [
    "grouped_watch_df_x = grouped_watch_df[feat_cols]\n",
    "grouped_watch_df_y = grouped_watch_df['code']"
   ]
  },
  {
   "cell_type": "code",
   "execution_count": 48,
   "id": "a52456fc-6aaf-4aad-9772-4b13f42b9cf3",
   "metadata": {},
   "outputs": [],
   "source": [
    "from sklearn.model_selection import train_test_split"
   ]
  },
  {
   "cell_type": "code",
   "execution_count": 49,
   "id": "373b945f-c561-4b9e-b364-0b18aca0c4c4",
   "metadata": {},
   "outputs": [],
   "source": [
    "phone_x_train, phone_x_test, phone_y_train, phone_y_test = train_test_split(\n",
    "    grouped_phone_df_x, grouped_phone_df_y, test_size=0.33, random_state=seed)"
   ]
  },
  {
   "cell_type": "code",
   "execution_count": 50,
   "id": "309b4f35-565f-46de-b16d-58de46aaf0e8",
   "metadata": {},
   "outputs": [],
   "source": [
    "watch_x_train, watch_x_test, watch_y_train, watch_y_test = train_test_split(\n",
    "    grouped_watch_df_x, grouped_watch_df_y, test_size=0.33, random_state=seed)"
   ]
  },
  {
   "cell_type": "code",
   "execution_count": 51,
   "id": "a0f43fcf-3a22-434a-a344-8c296c4c5488",
   "metadata": {},
   "outputs": [],
   "source": [
    "phone_x_train.fillna(0, inplace=True)\n",
    "phone_x_test.fillna(0, inplace=True)\n",
    "watch_x_train.fillna(0, inplace=True)\n",
    "watch_x_test.fillna(0, inplace=True)"
   ]
  },
  {
   "cell_type": "markdown",
   "id": "80a8a2e0-6327-41a5-a759-a620f9f543b1",
   "metadata": {},
   "source": [
    "### Scale the data"
   ]
  },
  {
   "cell_type": "code",
   "execution_count": 52,
   "id": "31d468e2-942c-48fe-a87a-d89f75973541",
   "metadata": {},
   "outputs": [],
   "source": [
    "from sklearn.preprocessing import StandardScaler\n",
    "scaler = StandardScaler()\n",
    "scaler.fit(phone_x_train)\n",
    "phone_x_train = scaler.transform(phone_x_train)\n",
    "phone_x_test  = scaler.transform(phone_x_test)\n",
    "\n",
    "scaler = StandardScaler()\n",
    "scaler.fit(watch_x_train)\n",
    "watch_x_train = scaler.transform(watch_x_train)\n",
    "watch_x_test  = scaler.transform(watch_x_test)"
   ]
  },
  {
   "cell_type": "code",
   "execution_count": 53,
   "id": "51a62e45-0a46-45c1-b0d4-d7684c2df742",
   "metadata": {},
   "outputs": [],
   "source": [
    "from sklearn.metrics import confusion_matrix"
   ]
  },
  {
   "cell_type": "markdown",
   "id": "c5034f9d-a8e5-4829-94bf-799e70bee416",
   "metadata": {},
   "source": [
    "### Logistic Regression"
   ]
  },
  {
   "cell_type": "code",
   "execution_count": 200,
   "id": "bd41343f-6333-4f4a-8f49-4c5b25195d02",
   "metadata": {},
   "outputs": [],
   "source": [
    "from sklearn.linear_model import LogisticRegression"
   ]
  },
  {
   "cell_type": "code",
   "execution_count": 201,
   "id": "ed371745-498f-4fdc-ae8f-7eab2b2d6cf0",
   "metadata": {},
   "outputs": [
    {
     "name": "stdout",
     "output_type": "stream",
     "text": [
      "CPU times: user 14.6 s, sys: 11.4 s, total: 26 s\n",
      "Wall time: 6.22 s\n"
     ]
    },
    {
     "data": {
      "text/plain": [
       "LogisticRegression(random_state=23)"
      ]
     },
     "execution_count": 201,
     "metadata": {},
     "output_type": "execute_result"
    }
   ],
   "source": [
    "%%time\n",
    "clf = LogisticRegression(random_state=seed)\n",
    "clf.fit(phone_x_train, phone_y_train)"
   ]
  },
  {
   "cell_type": "code",
   "execution_count": 202,
   "id": "00b23b4c-0f7e-4584-9cb6-04e84be8fd96",
   "metadata": {},
   "outputs": [
    {
     "name": "stdout",
     "output_type": "stream",
     "text": [
      "CPU times: user 435 ms, sys: 418 ms, total: 853 ms\n",
      "Wall time: 174 ms\n"
     ]
    },
    {
     "data": {
      "text/plain": [
       "0.11350609877569141"
      ]
     },
     "execution_count": 202,
     "metadata": {},
     "output_type": "execute_result"
    }
   ],
   "source": [
    "%%time\n",
    "clf.score(phone_x_test, phone_y_test)"
   ]
  },
  {
   "cell_type": "code",
   "execution_count": 203,
   "id": "e697c28f-3dfa-4e51-af85-25b9e57cce05",
   "metadata": {},
   "outputs": [],
   "source": [
    "predictions = clf.predict(phone_x_test)"
   ]
  },
  {
   "cell_type": "code",
   "execution_count": 204,
   "id": "e3e3b7a0-a7e0-4831-a01b-87b2467ed4e8",
   "metadata": {},
   "outputs": [
    {
     "data": {
      "image/png": "[encoded data removed]",
      "text/plain": [
       "<Figure size 936x576 with 2 Axes>"
      ]
     },
     "metadata": {
      "needs_background": "light"
     },
     "output_type": "display_data"
    }
   ],
   "source": [
    "results = pd.DataFrame(confusion_matrix(phone_y_test, predictions, labels = activity_key['code']))\n",
    "results.columns = activity_key['activity']\n",
    "results.set_index(activity_key['activity'], drop = False, inplace=True) \n",
    "plt.figure(figsize = (13,8))\n",
    "plt.title('Confusion matrix for phone activity classification')\n",
    "sns.heatmap(results, cmap = 'crest')\n",
    "plt.show()"
   ]
  },
  {
   "cell_type": "code",
   "execution_count": 205,
   "id": "322edd4c-4de0-4213-aedc-70fb600a01cf",
   "metadata": {},
   "outputs": [
    {
     "name": "stdout",
     "output_type": "stream",
     "text": [
      "CPU times: user 29.5 s, sys: 22 s, total: 51.5 s\n",
      "Wall time: 12.3 s\n"
     ]
    },
    {
     "data": {
      "text/plain": [
       "LogisticRegression(random_state=23)"
      ]
     },
     "execution_count": 205,
     "metadata": {},
     "output_type": "execute_result"
    }
   ],
   "source": [
    "%%time\n",
    "clf = LogisticRegression(random_state=seed)\n",
    "clf.fit(watch_x_train, watch_y_train)"
   ]
  },
  {
   "cell_type": "code",
   "execution_count": 206,
   "id": "bba8132a-e00d-44bf-97e6-444b077c379c",
   "metadata": {},
   "outputs": [
    {
     "name": "stdout",
     "output_type": "stream",
     "text": [
      "CPU times: user 480 ms, sys: 420 ms, total: 901 ms\n",
      "Wall time: 201 ms\n"
     ]
    },
    {
     "data": {
      "text/plain": [
       "0.29865168755285615"
      ]
     },
     "execution_count": 206,
     "metadata": {},
     "output_type": "execute_result"
    }
   ],
   "source": [
    "%%time\n",
    "clf.score(watch_x_test, watch_y_test)"
   ]
  },
  {
   "cell_type": "code",
   "execution_count": 207,
   "id": "8a294cb0-2d04-4ef0-9608-00c550ce1e71",
   "metadata": {},
   "outputs": [],
   "source": [
    "predictions = clf.predict(watch_x_test)"
   ]
  },
  {
   "cell_type": "code",
   "execution_count": 208,
   "id": "8231f842-051a-49dc-8252-3a17f5d6b962",
   "metadata": {},
   "outputs": [
    {
     "data": {
      "image/png": "[encoded data removed]",
      "text/plain": [
       "<Figure size 936x576 with 2 Axes>"
      ]
     },
     "metadata": {
      "needs_background": "light"
     },
     "output_type": "display_data"
    }
   ],
   "source": [
    "results = pd.DataFrame(confusion_matrix(watch_y_test, predictions, labels = activity_key['code']))\n",
    "results.columns = activity_key['activity']\n",
    "results.set_index(activity_key['activity'], drop = False, inplace=True) \n",
    "plt.figure(figsize = (13,8))\n",
    "plt.title('Confusion matrix for phone activity classification')\n",
    "sns.heatmap(results, cmap = 'crest')\n",
    "plt.show()"
   ]
  },
  {
   "cell_type": "markdown",
   "id": "7310b54e-0191-4642-979b-2f9147926c1c",
   "metadata": {},
   "source": [
    "### KNN"
   ]
  },
  {
   "cell_type": "code",
   "execution_count": 54,
   "id": "7f9db888-9ef9-4f08-b84d-0b37f73b2ae9",
   "metadata": {},
   "outputs": [],
   "source": [
    "from sklearn.neighbors import KNeighborsClassifier"
   ]
  },
  {
   "cell_type": "code",
   "execution_count": 140,
   "id": "3662bad9-7446-47c4-bc93-2c4ff0338988",
   "metadata": {},
   "outputs": [
    {
     "name": "stdout",
     "output_type": "stream",
     "text": [
      "CPU times: user 284 ms, sys: 1.2 ms, total: 285 ms\n",
      "Wall time: 273 ms\n"
     ]
    },
    {
     "data": {
      "text/plain": [
       "KNeighborsClassifier(n_jobs=-1, n_neighbors=18)"
      ]
     },
     "execution_count": 140,
     "metadata": {},
     "output_type": "execute_result"
    }
   ],
   "source": [
    "%%time\n",
    "knn = KNeighborsClassifier(n_neighbors = 18, n_jobs = -1)\n",
    "knn.fit(phone_x_train, phone_y_train)"
   ]
  },
  {
   "cell_type": "code",
   "execution_count": 141,
   "id": "2e6f2f40-17ee-4af8-b0ea-f762615fa0b9",
   "metadata": {},
   "outputs": [
    {
     "name": "stdout",
     "output_type": "stream",
     "text": [
      "CPU times: user 34min 8s, sys: 23min 44s, total: 57min 53s\n",
      "Wall time: 19min 53s\n"
     ]
    },
    {
     "data": {
      "text/plain": [
       "0.5639958791286975"
      ]
     },
     "execution_count": 141,
     "metadata": {},
     "output_type": "execute_result"
    }
   ],
   "source": [
    "%%time\n",
    "knn.score(phone_x_test, phone_y_test)"
   ]
  },
  {
   "cell_type": "code",
   "execution_count": 142,
   "id": "d52f851d-75e3-4719-8315-0b4009ed1277",
   "metadata": {},
   "outputs": [
    {
     "data": {
      "image/png": "[encoded data removed]",
      "text/plain": [
       "<Figure size 936x576 with 2 Axes>"
      ]
     },
     "metadata": {
      "needs_background": "light"
     },
     "output_type": "display_data"
    }
   ],
   "source": [
    "predictions = knn.predict(phone_x_test)\n",
    "results = pd.DataFrame(confusion_matrix(phone_y_test, predictions, labels = activity_key['code']))\n",
    "results.columns = activity_key['activity']\n",
    "results.set_index(activity_key['activity'], drop = False, inplace=True) \n",
    "plt.figure(figsize = (13,8))\n",
    "plt.title('Confusion matrix for phone activity classification')\n",
    "sns.heatmap(results, cmap = 'crest')\n",
    "plt.show()"
   ]
  },
  {
   "cell_type": "code",
   "execution_count": 55,
   "id": "e1e5d4c6-0355-4a62-9a00-d37804797f4a",
   "metadata": {},
   "outputs": [
    {
     "name": "stdout",
     "output_type": "stream",
     "text": [
      "CPU times: user 325 ms, sys: 0 ns, total: 325 ms\n",
      "Wall time: 318 ms\n"
     ]
    },
    {
     "data": {
      "text/plain": [
       "KNeighborsClassifier(n_jobs=-1, n_neighbors=18)"
      ]
     },
     "execution_count": 55,
     "metadata": {},
     "output_type": "execute_result"
    }
   ],
   "source": [
    "%%time\n",
    "knn = KNeighborsClassifier(n_neighbors = 18, n_jobs = -1)\n",
    "knn.fit(watch_x_train, watch_y_train)"
   ]
  },
  {
   "cell_type": "code",
   "execution_count": 56,
   "id": "51e3ac69-e00a-403a-b04e-f7e180ddedbe",
   "metadata": {},
   "outputs": [
    {
     "name": "stdout",
     "output_type": "stream",
     "text": [
      "CPU times: user 47min 59s, sys: 33min 30s, total: 1h 21min 29s\n",
      "Wall time: 28min 58s\n"
     ]
    },
    {
     "data": {
      "text/plain": [
       "0.5613515799185054"
      ]
     },
     "execution_count": 56,
     "metadata": {},
     "output_type": "execute_result"
    }
   ],
   "source": [
    "%%time\n",
    "knn.score(watch_x_test, watch_y_test)"
   ]
  },
  {
   "cell_type": "code",
   "execution_count": 57,
   "id": "cb68e98f-3972-4edd-8fcf-563cb4318fad",
   "metadata": {},
   "outputs": [
    {
     "data": {
      "image/png": "[encoded data removed]",
      "text/plain": [
       "<Figure size 936x576 with 2 Axes>"
      ]
     },
     "metadata": {
      "needs_background": "light"
     },
     "output_type": "display_data"
    }
   ],
   "source": [
    "predictions = knn.predict(watch_x_test)\n",
    "results = pd.DataFrame(confusion_matrix(watch_y_test, predictions, labels = activity_key['code']))\n",
    "results.columns = activity_key['activity']\n",
    "results.set_index(activity_key['activity'], drop = False, inplace=True) \n",
    "plt.figure(figsize = (13,8))\n",
    "plt.title('Confusion matrix for watch activity classification')\n",
    "sns.heatmap(results, cmap = 'crest')\n",
    "plt.show()"
   ]
  },
  {
   "cell_type": "markdown",
   "id": "1aa64947-c4af-4b4d-8d7f-efa36c11c290",
   "metadata": {},
   "source": [
    "### Navie Bayes"
   ]
  },
  {
   "cell_type": "code",
   "execution_count": 209,
   "id": "ada32a90-7dd4-4e85-965c-4e26c0f9998b",
   "metadata": {},
   "outputs": [],
   "source": [
    "from sklearn.naive_bayes import GaussianNB"
   ]
  },
  {
   "cell_type": "code",
   "execution_count": 210,
   "id": "42361c74-5436-4726-b7f8-8695f6498698",
   "metadata": {},
   "outputs": [
    {
     "name": "stdout",
     "output_type": "stream",
     "text": [
      "CPU times: user 434 ms, sys: 13.6 ms, total: 447 ms\n",
      "Wall time: 420 ms\n"
     ]
    },
    {
     "data": {
      "text/plain": [
       "GaussianNB()"
      ]
     },
     "execution_count": 210,
     "metadata": {},
     "output_type": "execute_result"
    }
   ],
   "source": [
    "%%time\n",
    "gnb = GaussianNB()\n",
    "gnb.fit(phone_x_train, phone_y_train)"
   ]
  },
  {
   "cell_type": "code",
   "execution_count": 211,
   "id": "67e55365-92ae-4464-b6e9-df6977da9ec4",
   "metadata": {},
   "outputs": [
    {
     "name": "stdout",
     "output_type": "stream",
     "text": [
      "CPU times: user 274 ms, sys: 5.26 ms, total: 280 ms\n",
      "Wall time: 264 ms\n"
     ]
    },
    {
     "data": {
      "text/plain": [
       "0.16778890210653932"
      ]
     },
     "execution_count": 211,
     "metadata": {},
     "output_type": "execute_result"
    }
   ],
   "source": [
    "%%time\n",
    "gnb.score(phone_x_test, phone_y_test)"
   ]
  },
  {
   "cell_type": "code",
   "execution_count": 212,
   "id": "7a4fef1d-04a7-429b-a878-d212bbf3a11a",
   "metadata": {},
   "outputs": [
    {
     "data": {
      "image/png": "[encoded data removed]",
      "text/plain": [
       "<Figure size 936x576 with 2 Axes>"
      ]
     },
     "metadata": {
      "needs_background": "light"
     },
     "output_type": "display_data"
    }
   ],
   "source": [
    "predictions = gnb.predict(phone_x_test)\n",
    "results = pd.DataFrame(confusion_matrix(phone_y_test, predictions, labels = activity_key['code']))\n",
    "results.columns = activity_key['activity']\n",
    "results.set_index(activity_key['activity'], drop = False, inplace=True) \n",
    "plt.figure(figsize = (13,8))\n",
    "plt.title('Confusion matrix for phone activity classification')\n",
    "sns.heatmap(results, cmap = 'crest')\n",
    "plt.show()"
   ]
  },
  {
   "cell_type": "code",
   "execution_count": 213,
   "id": "c35e6861-52de-428c-bf7d-0f5e18e98569",
   "metadata": {},
   "outputs": [
    {
     "name": "stdout",
     "output_type": "stream",
     "text": [
      "CPU times: user 516 ms, sys: 13.2 ms, total: 529 ms\n",
      "Wall time: 503 ms\n"
     ]
    },
    {
     "data": {
      "text/plain": [
       "GaussianNB()"
      ]
     },
     "execution_count": 213,
     "metadata": {},
     "output_type": "execute_result"
    }
   ],
   "source": [
    "%%time\n",
    "gnb = GaussianNB()\n",
    "gnb.fit(watch_x_train, watch_y_train)"
   ]
  },
  {
   "cell_type": "code",
   "execution_count": 214,
   "id": "c30d8931-3ff2-4161-ae81-ef95109f753f",
   "metadata": {},
   "outputs": [
    {
     "name": "stdout",
     "output_type": "stream",
     "text": [
      "CPU times: user 339 ms, sys: 6.41 ms, total: 345 ms\n",
      "Wall time: 320 ms\n"
     ]
    },
    {
     "data": {
      "text/plain": [
       "0.34704870454370723"
      ]
     },
     "execution_count": 214,
     "metadata": {},
     "output_type": "execute_result"
    }
   ],
   "source": [
    "%%time\n",
    "gnb.score(watch_x_test, watch_y_test)"
   ]
  },
  {
   "cell_type": "code",
   "execution_count": 215,
   "id": "ccda1a10-9cc1-4fa4-bb1e-8e80dc54acf4",
   "metadata": {},
   "outputs": [
    {
     "data": {
      "image/png": "[encoded data removed]",
      "text/plain": [
       "<Figure size 936x576 with 2 Axes>"
      ]
     },
     "metadata": {
      "needs_background": "light"
     },
     "output_type": "display_data"
    }
   ],
   "source": [
    "predictions = gnb.predict(watch_x_test)\n",
    "results = pd.DataFrame(confusion_matrix(watch_y_test, predictions, labels = activity_key['code']))\n",
    "results.columns = activity_key['activity']\n",
    "results.set_index(activity_key['activity'], drop = False, inplace=True) \n",
    "plt.figure(figsize = (13,8))\n",
    "plt.title('Confusion matrix for watch activity classification')\n",
    "sns.heatmap(results, cmap = 'crest')\n",
    "plt.show()"
   ]
  },
  {
   "cell_type": "markdown",
   "id": "303cd51b-1c80-44a0-a3df-4a98d4b1ba1d",
   "metadata": {},
   "source": [
    "### Random Forest Classifier"
   ]
  },
  {
   "cell_type": "code",
   "execution_count": 216,
   "id": "58991360-7206-4c6b-9af9-f1e5ed4206ea",
   "metadata": {},
   "outputs": [],
   "source": [
    "from sklearn.ensemble import RandomForestClassifier"
   ]
  },
  {
   "cell_type": "code",
   "execution_count": 217,
   "id": "1f70782d-8380-404a-adce-1be1b3ae7f05",
   "metadata": {},
   "outputs": [
    {
     "name": "stdout",
     "output_type": "stream",
     "text": [
      "CPU times: user 2min 15s, sys: 950 ms, total: 2min 16s\n",
      "Wall time: 2min 9s\n"
     ]
    },
    {
     "data": {
      "text/plain": [
       "RandomForestClassifier(min_samples_leaf=20, random_state=23)"
      ]
     },
     "execution_count": 217,
     "metadata": {},
     "output_type": "execute_result"
    }
   ],
   "source": [
    "%%time\n",
    "clf = RandomForestClassifier(min_samples_leaf=20, random_state=seed)\n",
    "clf.fit(phone_x_train, phone_y_train)"
   ]
  },
  {
   "cell_type": "code",
   "execution_count": 218,
   "id": "c128d015-6573-472f-b024-d8dc6d077900",
   "metadata": {},
   "outputs": [
    {
     "name": "stdout",
     "output_type": "stream",
     "text": [
      "CPU times: user 3.71 s, sys: 41.8 ms, total: 3.75 s\n",
      "Wall time: 3.56 s\n"
     ]
    },
    {
     "data": {
      "text/plain": [
       "0.7644671610953322"
      ]
     },
     "execution_count": 218,
     "metadata": {},
     "output_type": "execute_result"
    }
   ],
   "source": [
    "%%time\n",
    "clf.score(phone_x_test, phone_y_test)"
   ]
  },
  {
   "cell_type": "code",
   "execution_count": 219,
   "id": "9f298c0a-618d-46e6-87e6-535b9dd6cfb1",
   "metadata": {},
   "outputs": [
    {
     "data": {
      "image/png": "[encoded data removed]",
      "text/plain": [
       "<Figure size 936x576 with 2 Axes>"
      ]
     },
     "metadata": {
      "needs_background": "light"
     },
     "output_type": "display_data"
    }
   ],
   "source": [
    "predictions = clf.predict(phone_x_test)\n",
    "results = pd.DataFrame(confusion_matrix(phone_y_test, predictions, labels = activity_key['code']))\n",
    "results.columns = activity_key['activity']\n",
    "results.set_index(activity_key['activity'], drop = False, inplace=True) \n",
    "plt.figure(figsize = (13,8))\n",
    "plt.title('Confusion matrix for phone activity classification')\n",
    "sns.heatmap(results, cmap = 'crest')\n",
    "plt.show()"
   ]
  },
  {
   "cell_type": "code",
   "execution_count": 220,
   "id": "07bd5bbb-96df-4e95-b5df-4693e44152a2",
   "metadata": {},
   "outputs": [
    {
     "name": "stdout",
     "output_type": "stream",
     "text": [
      "CPU times: user 2min 46s, sys: 1.17 s, total: 2min 47s\n",
      "Wall time: 2min 38s\n"
     ]
    },
    {
     "data": {
      "text/plain": [
       "RandomForestClassifier(min_samples_leaf=20, random_state=23)"
      ]
     },
     "execution_count": 220,
     "metadata": {},
     "output_type": "execute_result"
    }
   ],
   "source": [
    "%%time\n",
    "clf = RandomForestClassifier(min_samples_leaf=20, random_state=seed)\n",
    "clf.fit(watch_x_train, watch_y_train)"
   ]
  },
  {
   "cell_type": "code",
   "execution_count": 221,
   "id": "6de499fd-554c-4b2a-bd61-dd3b46bec8d0",
   "metadata": {},
   "outputs": [
    {
     "name": "stdout",
     "output_type": "stream",
     "text": [
      "CPU times: user 4.58 s, sys: 45.7 ms, total: 4.63 s\n",
      "Wall time: 4.4 s\n"
     ]
    },
    {
     "data": {
      "text/plain": [
       "0.6285317521334666"
      ]
     },
     "execution_count": 221,
     "metadata": {},
     "output_type": "execute_result"
    }
   ],
   "source": [
    "%%time\n",
    "clf.score(watch_x_test, watch_y_test)"
   ]
  },
  {
   "cell_type": "code",
   "execution_count": 222,
   "id": "562eef65-9373-404e-9db8-637debfbb973",
   "metadata": {},
   "outputs": [
    {
     "data": {
      "image/png": "[encoded data removed]",
      "text/plain": [
       "<Figure size 936x576 with 2 Axes>"
      ]
     },
     "metadata": {
      "needs_background": "light"
     },
     "output_type": "display_data"
    }
   ],
   "source": [
    "predictions = clf.predict(watch_x_test)\n",
    "results = pd.DataFrame(confusion_matrix(watch_y_test, predictions, labels = activity_key['code']))\n",
    "results.columns = activity_key['activity']\n",
    "results.set_index(activity_key['activity'], drop = False, inplace=True) \n",
    "plt.figure(figsize = (13,8))\n",
    "plt.title('Confusion matrix for watch activity classification')\n",
    "sns.heatmap(results, cmap = 'crest')\n",
    "plt.show()"
   ]
  },
  {
   "cell_type": "markdown",
   "id": "4bfafcdd-2dbc-4f8d-9884-a0ca41496637",
   "metadata": {},
   "source": [
    "### Decision Tree Classifier"
   ]
  },
  {
   "cell_type": "code",
   "execution_count": 223,
   "id": "65a6a091-ed86-4e27-a0ff-17f67c38465b",
   "metadata": {},
   "outputs": [],
   "source": [
    "from sklearn.tree import DecisionTreeClassifier"
   ]
  },
  {
   "cell_type": "code",
   "execution_count": 224,
   "id": "401b91a6-298f-4825-8859-1e4bff6a443f",
   "metadata": {},
   "outputs": [
    {
     "name": "stdout",
     "output_type": "stream",
     "text": [
      "CPU times: user 11.2 s, sys: 87.7 ms, total: 11.3 s\n",
      "Wall time: 10.7 s\n"
     ]
    },
    {
     "data": {
      "text/plain": [
       "DecisionTreeClassifier(random_state=23)"
      ]
     },
     "execution_count": 224,
     "metadata": {},
     "output_type": "execute_result"
    }
   ],
   "source": [
    "%%time\n",
    "clf = DecisionTreeClassifier(random_state=seed)\n",
    "clf.fit(phone_x_train, phone_y_train)"
   ]
  },
  {
   "cell_type": "code",
   "execution_count": 225,
   "id": "159a5183-e6a8-4e0f-b061-febce9cf230e",
   "metadata": {},
   "outputs": [
    {
     "name": "stdout",
     "output_type": "stream",
     "text": [
      "CPU times: user 185 ms, sys: 4.83 ms, total: 189 ms\n",
      "Wall time: 180 ms\n"
     ]
    },
    {
     "data": {
      "text/plain": [
       "0.7035306304819257"
      ]
     },
     "execution_count": 225,
     "metadata": {},
     "output_type": "execute_result"
    }
   ],
   "source": [
    "%%time\n",
    "clf.score(phone_x_test, phone_y_test)"
   ]
  },
  {
   "cell_type": "code",
   "execution_count": 226,
   "id": "76eaf90e-f5aa-48a9-90f2-99849d64446f",
   "metadata": {},
   "outputs": [
    {
     "data": {
      "image/png": "[encoded data removed]",
      "text/plain": [
       "<Figure size 936x576 with 2 Axes>"
      ]
     },
     "metadata": {
      "needs_background": "light"
     },
     "output_type": "display_data"
    }
   ],
   "source": [
    "predictions = clf.predict(phone_x_test)\n",
    "results = pd.DataFrame(confusion_matrix(phone_y_test, predictions, labels = activity_key['code']))\n",
    "results.columns = activity_key['activity']\n",
    "results.set_index(activity_key['activity'], drop = False, inplace=True) \n",
    "plt.figure(figsize = (13,8))\n",
    "plt.title('Confusion matrix for phone activity classification')\n",
    "sns.heatmap(results, cmap = 'crest')\n",
    "plt.show()"
   ]
  },
  {
   "cell_type": "code",
   "execution_count": 227,
   "id": "b4d4ddd7-0d6e-42f9-9619-7b092d8b8e27",
   "metadata": {},
   "outputs": [
    {
     "name": "stdout",
     "output_type": "stream",
     "text": [
      "CPU times: user 14.8 s, sys: 111 ms, total: 15 s\n",
      "Wall time: 14.2 s\n"
     ]
    },
    {
     "data": {
      "text/plain": [
       "DecisionTreeClassifier(random_state=23)"
      ]
     },
     "execution_count": 227,
     "metadata": {},
     "output_type": "execute_result"
    }
   ],
   "source": [
    "%%time\n",
    "clf = DecisionTreeClassifier(random_state=seed)\n",
    "clf.fit(watch_x_train, watch_y_train)"
   ]
  },
  {
   "cell_type": "code",
   "execution_count": 228,
   "id": "99dd3ce2-9703-4965-8748-81eaa461d116",
   "metadata": {},
   "outputs": [
    {
     "name": "stdout",
     "output_type": "stream",
     "text": [
      "CPU times: user 242 ms, sys: 6.21 ms, total: 249 ms\n",
      "Wall time: 236 ms\n"
     ]
    },
    {
     "data": {
      "text/plain": [
       "0.5153715307142308"
      ]
     },
     "execution_count": 228,
     "metadata": {},
     "output_type": "execute_result"
    }
   ],
   "source": [
    "%%time\n",
    "clf.score(watch_x_test, watch_y_test)"
   ]
  },
  {
   "cell_type": "code",
   "execution_count": 229,
   "id": "01774681-2283-495f-960b-2ffb0753a7bd",
   "metadata": {},
   "outputs": [
    {
     "data": {
      "image/png": "[encoded data removed]",
      "text/plain": [
       "<Figure size 936x576 with 2 Axes>"
      ]
     },
     "metadata": {
      "needs_background": "light"
     },
     "output_type": "display_data"
    }
   ],
   "source": [
    "predictions = clf.predict(watch_x_test)\n",
    "results = pd.DataFrame(confusion_matrix(watch_y_test, predictions, labels = activity_key['code']))\n",
    "results.columns = activity_key['activity']\n",
    "results.set_index(activity_key['activity'], drop = False, inplace=True) \n",
    "plt.figure(figsize = (13,8))\n",
    "plt.title('Confusion matrix for watch activity classification')\n",
    "sns.heatmap(results, cmap = 'crest')\n",
    "plt.show()"
   ]
  },
  {
   "cell_type": "markdown",
   "id": "7ff50146-5238-4435-8d08-1cbe003d6902",
   "metadata": {},
   "source": [
    "### AdaBoost"
   ]
  },
  {
   "cell_type": "code",
   "execution_count": 58,
   "id": "ff0a92ff-fab5-4b02-b4d3-a0d75e77d079",
   "metadata": {},
   "outputs": [],
   "source": [
    "from sklearn.ensemble import AdaBoostClassifier"
   ]
  },
  {
   "cell_type": "code",
   "execution_count": 231,
   "id": "3cf8f69e-1d90-4a3a-b687-ea9519f51942",
   "metadata": {},
   "outputs": [
    {
     "name": "stdout",
     "output_type": "stream",
     "text": [
      "CPU times: user 1min 55s, sys: 3.33 s, total: 1min 59s\n",
      "Wall time: 1min 53s\n"
     ]
    },
    {
     "data": {
      "text/plain": [
       "AdaBoostClassifier(n_estimators=100, random_state=23)"
      ]
     },
     "execution_count": 231,
     "metadata": {},
     "output_type": "execute_result"
    }
   ],
   "source": [
    "%%time\n",
    "clf = AdaBoostClassifier(n_estimators=100, random_state=seed)\n",
    "clf.fit(phone_x_train, phone_y_train)"
   ]
  },
  {
   "cell_type": "code",
   "execution_count": 232,
   "id": "a364c3fd-2bac-4789-9504-2b856f1a74e5",
   "metadata": {},
   "outputs": [
    {
     "name": "stdout",
     "output_type": "stream",
     "text": [
      "CPU times: user 4.34 s, sys: 47.1 ms, total: 4.39 s\n",
      "Wall time: 4.16 s\n"
     ]
    },
    {
     "data": {
      "text/plain": [
       "0.18822819609427915"
      ]
     },
     "execution_count": 232,
     "metadata": {},
     "output_type": "execute_result"
    }
   ],
   "source": [
    "%%time\n",
    "clf.score(phone_x_test, phone_y_test)"
   ]
  },
  {
   "cell_type": "code",
   "execution_count": 233,
   "id": "16d199cc-596c-4037-bc48-eec49f3eb6a0",
   "metadata": {},
   "outputs": [
    {
     "name": "stdout",
     "output_type": "stream",
     "text": [
      "CPU times: user 18.1 s, sys: 542 ms, total: 18.7 s\n",
      "Wall time: 17.8 s\n"
     ]
    }
   ],
   "source": [
    "%%time\n",
    "staged_scores = [s for s in clf.staged_score(phone_x_test, phone_y_test)]"
   ]
  },
  {
   "cell_type": "code",
   "execution_count": 234,
   "id": "4de05134-9f76-4f9e-beb7-5a594bd1cff0",
   "metadata": {},
   "outputs": [
    {
     "data": {
      "image/png": "[encoded data removed]",
      "text/plain": [
       "<Figure size 432x288 with 1 Axes>"
      ]
     },
     "metadata": {
      "needs_background": "light"
     },
     "output_type": "display_data"
    }
   ],
   "source": [
    "plt.title('Accuracy scores for 100 weak learners')\n",
    "plt.plot((staged_scores))\n",
    "plt.show()"
   ]
  },
  {
   "cell_type": "code",
   "execution_count": 235,
   "id": "941840fd-c47d-474e-af9b-e79e497f43f8",
   "metadata": {},
   "outputs": [
    {
     "data": {
      "image/png": "[encoded data removed]",
      "text/plain": [
       "<Figure size 936x576 with 2 Axes>"
      ]
     },
     "metadata": {
      "needs_background": "light"
     },
     "output_type": "display_data"
    }
   ],
   "source": [
    "predictions = clf.predict(phone_x_test)\n",
    "results = pd.DataFrame(confusion_matrix(phone_y_test, predictions, labels = activity_key['code']))\n",
    "results.columns = activity_key['activity']\n",
    "results.set_index(activity_key['activity'], drop = False, inplace=True) \n",
    "plt.figure(figsize = (13,8))\n",
    "plt.title('Confusion matrix for phone activity classification')\n",
    "sns.heatmap(results, cmap = 'crest')\n",
    "plt.show()"
   ]
  },
  {
   "cell_type": "code",
   "execution_count": 62,
   "id": "cc816e99-3221-427a-b33b-14e84962bdcd",
   "metadata": {},
   "outputs": [
    {
     "name": "stdout",
     "output_type": "stream",
     "text": [
      "CPU times: user 2min 23s, sys: 3.1 s, total: 2min 26s\n",
      "Wall time: 2min 21s\n"
     ]
    },
    {
     "data": {
      "text/plain": [
       "AdaBoostClassifier(n_estimators=100, random_state=23)"
      ]
     },
     "execution_count": 62,
     "metadata": {},
     "output_type": "execute_result"
    }
   ],
   "source": [
    "%%time\n",
    "clf = AdaBoostClassifier(n_estimators=100, random_state=seed)\n",
    "clf.fit(watch_x_train, watch_y_train)"
   ]
  },
  {
   "cell_type": "code",
   "execution_count": 63,
   "id": "5dd3d768-ca1b-4d9c-a6f1-5db3da0e539d",
   "metadata": {},
   "outputs": [
    {
     "name": "stdout",
     "output_type": "stream",
     "text": [
      "CPU times: user 5.03 s, sys: 40.3 ms, total: 5.07 s\n",
      "Wall time: 4.89 s\n"
     ]
    },
    {
     "data": {
      "text/plain": [
       "0.3204764742061967"
      ]
     },
     "execution_count": 63,
     "metadata": {},
     "output_type": "execute_result"
    }
   ],
   "source": [
    "%%time\n",
    "clf.score(watch_x_test, watch_y_test)"
   ]
  },
  {
   "cell_type": "code",
   "execution_count": 64,
   "id": "7d72ce04-e458-44b7-8505-9186c9846a30",
   "metadata": {},
   "outputs": [],
   "source": [
    "staged_scores = [s for s in clf.staged_score(phone_x_test, phone_y_test)]"
   ]
  },
  {
   "cell_type": "code",
   "execution_count": 65,
   "id": "8bcf400f-cd1d-4551-a585-613764d99cd6",
   "metadata": {},
   "outputs": [
    {
     "data": {
      "image/png": "[encoded data removed]",
      "text/plain": [
       "<Figure size 432x288 with 1 Axes>"
      ]
     },
     "metadata": {
      "needs_background": "light"
     },
     "output_type": "display_data"
    }
   ],
   "source": [
    "plt.title('Accuracy scores for 100 weak learners')\n",
    "plt.plot((staged_scores))\n",
    "plt.show()"
   ]
  },
  {
   "cell_type": "code",
   "execution_count": 241,
   "id": "98675b62-2924-4757-86ff-e5902267eb96",
   "metadata": {},
   "outputs": [
    {
     "data": {
      "image/png": "[encoded data removed]",
      "text/plain": [
       "<Figure size 936x576 with 2 Axes>"
      ]
     },
     "metadata": {
      "needs_background": "light"
     },
     "output_type": "display_data"
    }
   ],
   "source": [
    "predictions = clf.predict(watch_x_test)\n",
    "results = pd.DataFrame(confusion_matrix(watch_y_test, predictions, labels = activity_key['code']))\n",
    "results.columns = activity_key['activity']\n",
    "results.set_index(activity_key['activity'], drop = False, inplace=True) \n",
    "plt.figure(figsize = (13,8))\n",
    "plt.title('Confusion matrix for watch activity classification')\n",
    "sns.heatmap(results, cmap = 'crest')\n",
    "plt.show()"
   ]
  },
  {
   "cell_type": "markdown",
   "id": "83c9a2e3-5f33-49b1-9cf3-b915c9f76ece",
   "metadata": {},
   "source": [
    "### Desc Tree class"
   ]
  },
  {
   "cell_type": "code",
   "execution_count": null,
   "id": "37226987-9d9b-4dc5-b2d4-dd8bf8c8bae6",
   "metadata": {},
   "outputs": [],
   "source": []
  },
  {
   "cell_type": "code",
   "execution_count": null,
   "id": "ec6c9c95-5d66-4cb6-973a-793069b72310",
   "metadata": {},
   "outputs": [],
   "source": []
  },
  {
   "cell_type": "code",
   "execution_count": 60,
   "id": "370eba7b",
   "metadata": {},
   "outputs": [],
   "source": [
    "# TRAIN TEST SPLIT\n",
    "\n",
    "#df = grouped_phone_df\n",
    "df = dd.from_pandas(grouped_phone_df, npartitions=1)\n",
    "\n",
    "# split off labels\n",
    "#feat_cols = ['x', 'y', 'z']\n",
    "label_col = ['code']\n",
    "\n",
    "feature_df = df[feat_cols]\n",
    "label_df = df[label_col]\n",
    "\n",
    "X_train, x_test, y_train, y_test = train_test_split(feature_df, label_df, test_size=0.2, shuffle=True, random_state=seed)"
   ]
  },
  {
   "cell_type": "code",
   "execution_count": 61,
   "id": "aef0ee7c",
   "metadata": {},
   "outputs": [],
   "source": [
    "# SCALE DATA\n",
    "\n",
    "# instatiate scaler\n",
    "scaler = StandardScaler()\n",
    "# fit the scaler\n",
    "scalerModel = scaler.fit(X_train)\n",
    "# scale the training data\n",
    "X_train_scaled = scalerModel.transform(X_train)\n",
    "# scale the test data\n",
    "X_test_scaled = scalerModel.transform(x_test)"
   ]
  },
  {
   "cell_type": "code",
   "execution_count": 62,
   "id": "7ded986e",
   "metadata": {},
   "outputs": [],
   "source": [
    "# set up grid search parameters\n",
    "param_grid = {'max_depth'        : list(range(1, 10)), # play around with max depth\n",
    "              'min_samples_split': list(range(2, 10)), # must start at 2+\n",
    "              'criterion'        : ['gini','entropy'],\n",
    "             }"
   ]
  },
  {
   "cell_type": "markdown",
   "id": "d2e40012-a5d7-4b31-8acd-e4ca906ac6b8",
   "metadata": {},
   "source": [
    "# <font color='red'>this is where it blows up</font>"
   ]
  },
  {
   "cell_type": "code",
   "execution_count": 63,
   "id": "8f8978c1-e595-4238-9a5d-cd80516fe786",
   "metadata": {},
   "outputs": [
    {
     "ename": "NameError",
     "evalue": "name 'stop' is not defined",
     "output_type": "error",
     "traceback": [
      "\u001b[0;31m---------------------------------------------------------------------------\u001b[0m",
      "\u001b[0;31mNameError\u001b[0m                                 Traceback (most recent call last)",
      "Input \u001b[0;32mIn [63]\u001b[0m, in \u001b[0;36m<cell line: 1>\u001b[0;34m()\u001b[0m\n\u001b[0;32m----> 1\u001b[0m \u001b[43mstop\u001b[49m\n",
      "\u001b[0;31mNameError\u001b[0m: name 'stop' is not defined"
     ]
    }
   ],
   "source": [
    "stop"
   ]
  },
  {
   "cell_type": "code",
   "execution_count": null,
   "id": "15bf54d9",
   "metadata": {},
   "outputs": [],
   "source": [
    "# GRID SEARCH\n",
    "\n",
    "# instantiate base model\n",
    "dt_model = DecisionTreeClassifier(random_state=seed)\n",
    "\n",
    "# istantiate grid search object\n",
    "dt_model_grid_dask = dcv.GridSearchCV(dt_model, param_grid, cv=10)\n",
    "\n",
    "# execute grid search\n",
    "'''\n",
    "does this need joblib backend if we are using native dask?\n",
    "'''\n",
    "with joblib.parallel_backend(\"dask\"):\n",
    "    dt_model_grid_dask.fit(X_train_scaled, y_train)"
   ]
  },
  {
   "cell_type": "code",
   "execution_count": null,
   "id": "04616e29",
   "metadata": {},
   "outputs": [],
   "source": [
    "best_params = dt_model_grid_dask.best_params_\n",
    "print(best_params)"
   ]
  },
  {
   "cell_type": "code",
   "execution_count": null,
   "id": "f47a6484",
   "metadata": {},
   "outputs": [],
   "source": [
    "print(dt_model_grid_dask.best_score_)"
   ]
  },
  {
   "cell_type": "code",
   "execution_count": null,
   "id": "600813c0-9dba-4ee5-b9e2-4d075c77113c",
   "metadata": {},
   "outputs": [],
   "source": [
    "# now that we've performed a gridsearch, use parameters from out best model\n",
    "\n",
    "# instantiate best model\n",
    "best_dt_model = DecisionTreeClassifier(\n",
    "    max_depth=best_params['max_depth'],\n",
    "    min_samples_split=best_params['min_samples_split'],\n",
    "    criterion=best_params['criterion'],\n",
    "    random_state=seed\n",
    ")\n",
    "\n",
    "# fit model to training data\n",
    "'''\n",
    "does this need joblib backend if we are using native dask?\n",
    "'''\n",
    "with joblib.parallel_backend(\"dask\"):\n",
    "    best_dt_model.fit(X_train_scaled, y_train)\n",
    "\n",
    "# check accuracy from this model on test data\n",
    "best_dt_model.score(X_test_scaled, y_test)"
   ]
  },
  {
   "cell_type": "markdown",
   "id": "a1692893",
   "metadata": {},
   "source": [
    "## Analysis results"
   ]
  },
  {
   "cell_type": "markdown",
   "id": "ac8b598e",
   "metadata": {},
   "source": [
    "## Challenges & solutions"
   ]
  },
  {
   "cell_type": "markdown",
   "id": "4d9d39c8",
   "metadata": {},
   "source": [
    "## Insights gained"
   ]
  },
  {
   "cell_type": "markdown",
   "id": "c5ce8781",
   "metadata": {},
   "source": [
    "## Future work"
   ]
  },
  {
   "cell_type": "markdown",
   "id": "2b20bd37",
   "metadata": {},
   "source": [
    "## References\n",
    "\n",
    "1. Dask vs spark picture: https://medium.datadriveninvestor.com/pandas-dask-or-pyspark-what-should-you-choose-for-your-dataset-c0f67e1b1d36\n",
    "2. Accelerometer information https://en.wikipedia.org/wiki/Accelerometer\n",
    "3. Gyroscope Information https://en.wikipedia.org/wiki/Gyroscope"
   ]
  },
  {
   "cell_type": "code",
   "execution_count": 64,
   "id": "e4926b27",
   "metadata": {},
   "outputs": [],
   "source": [
    "# always close client connection at end of workflow\n",
    "client.shutdown()"
   ]
  },
  {
   "cell_type": "code",
   "execution_count": null,
   "id": "dab0876e",
   "metadata": {},
   "outputs": [],
   "source": []
  }
 ],
 "metadata": {
  "kernelspec": {
   "display_name": "Python 3 (ipykernel)",
   "language": "python",
   "name": "python3"
  },
  "language_info": {
   "codemirror_mode": {
    "name": "ipython",
    "version": 3
   },
   "file_extension": ".py",
   "mimetype": "text/x-python",
   "name": "python",
   "nbconvert_exporter": "python",
   "pygments_lexer": "ipython3",
   "version": "3.8.10"
  }
 },
 "nbformat": 4,
 "nbformat_minor": 5
}
